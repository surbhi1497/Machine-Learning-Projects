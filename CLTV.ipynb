{
 "cells": [
  {
   "cell_type": "code",
   "execution_count": 10,
   "metadata": {},
   "outputs": [],
   "source": [
    "#getting connected with the data\n",
    "import os\n",
    "import pymysql\n",
    "import pandas as pd\n",
    "\n",
    "host = os.getenv('MYSQL_HOST')\n",
    "port = os.getenv('MYSQL_PORT')\n",
    "user = os.getenv('MYSQL_USER')\n",
    "password = os.getenv('MYSQL_PASSWORD')\n",
    "database = os.getenv('MYSQL_DATABASE')\n",
    "\n",
    "conn = pymysql.connect(\n",
    "    host='20.46.45.108',\n",
    "    port=int(3306),\n",
    "    user=\"datauser\",\n",
    "    passwd='waslRp@098',\n",
    "    db=\"wasldb\",\n",
    "    charset='utf8mb4')"
   ]
  },
  {
   "cell_type": "code",
   "execution_count": null,
   "metadata": {},
   "outputs": [],
   "source": []
  },
  {
   "cell_type": "code",
   "execution_count": 11,
   "metadata": {},
   "outputs": [
    {
     "name": "stdout",
     "output_type": "stream",
     "text": [
      "<pymysql.connections.Connection object at 0x0000022DC3515E48>\n"
     ]
    }
   ],
   "source": [
    " "
   ]
  },
  {
   "cell_type": "code",
   "execution_count": null,
   "metadata": {},
   "outputs": [],
   "source": []
  },
  {
   "cell_type": "code",
   "execution_count": 3,
   "metadata": {},
   "outputs": [],
   "source": [
    "##df = pd.read_sql_query('select * from rp_transaction',conn)"
   ]
  },
  {
   "cell_type": "code",
   "execution_count": 12,
   "metadata": {},
   "outputs": [],
   "source": [
    "#importing libraries\n",
    "\n",
    "import pandas as pd # for dataframes\n",
    "import matplotlib.pyplot as plt # for plotting graphs\n",
    "import seaborn as sns # for plotting graphs\n",
    "import datetime as dt\n",
    "import numpy as np"
   ]
  },
  {
   "cell_type": "code",
   "execution_count": 13,
   "metadata": {},
   "outputs": [],
   "source": [
    "query=\"select USER_OID,TXN_DATE,PAID_AMOUNT,BILL_AMOUNT, OID from rp_transaction where TXN_TYPE=\"+\"'PURCHASE'\"+ \"and TXN_STATUS not in ( \"+\"'CANCELLED','PAYMENT_FAILED')\"\n",
    "cursor = conn.cursor()\n",
    "data=cursor.execute(query)\n",
    "df = pd.DataFrame(cursor.fetchall())"
   ]
  },
  {
   "cell_type": "code",
   "execution_count": 14,
   "metadata": {},
   "outputs": [
    {
     "data": {
      "text/html": [
       "<div>\n",
       "<style scoped>\n",
       "    .dataframe tbody tr th:only-of-type {\n",
       "        vertical-align: middle;\n",
       "    }\n",
       "\n",
       "    .dataframe tbody tr th {\n",
       "        vertical-align: top;\n",
       "    }\n",
       "\n",
       "    .dataframe thead th {\n",
       "        text-align: right;\n",
       "    }\n",
       "</style>\n",
       "<table border=\"1\" class=\"dataframe\">\n",
       "  <thead>\n",
       "    <tr style=\"text-align: right;\">\n",
       "      <th></th>\n",
       "      <th>0</th>\n",
       "      <th>1</th>\n",
       "      <th>2</th>\n",
       "      <th>3</th>\n",
       "      <th>4</th>\n",
       "    </tr>\n",
       "  </thead>\n",
       "  <tbody>\n",
       "    <tr>\n",
       "      <td>0</td>\n",
       "      <td>3</td>\n",
       "      <td>2020-05-01 14:10:27</td>\n",
       "      <td>None</td>\n",
       "      <td>0.0000</td>\n",
       "      <td>1</td>\n",
       "    </tr>\n",
       "    <tr>\n",
       "      <td>1</td>\n",
       "      <td>18</td>\n",
       "      <td>2020-05-05 17:15:50</td>\n",
       "      <td>0.0000</td>\n",
       "      <td>0.0000</td>\n",
       "      <td>4</td>\n",
       "    </tr>\n",
       "    <tr>\n",
       "      <td>2</td>\n",
       "      <td>15</td>\n",
       "      <td>2020-05-08 10:46:50</td>\n",
       "      <td>None</td>\n",
       "      <td>0.0000</td>\n",
       "      <td>5</td>\n",
       "    </tr>\n",
       "    <tr>\n",
       "      <td>3</td>\n",
       "      <td>4</td>\n",
       "      <td>2020-05-11 23:26:40</td>\n",
       "      <td>0.0000</td>\n",
       "      <td>0.0000</td>\n",
       "      <td>6</td>\n",
       "    </tr>\n",
       "    <tr>\n",
       "      <td>4</td>\n",
       "      <td>4</td>\n",
       "      <td>2020-05-12 09:56:02</td>\n",
       "      <td>0.0000</td>\n",
       "      <td>0.0000</td>\n",
       "      <td>7</td>\n",
       "    </tr>\n",
       "    <tr>\n",
       "      <td>...</td>\n",
       "      <td>...</td>\n",
       "      <td>...</td>\n",
       "      <td>...</td>\n",
       "      <td>...</td>\n",
       "      <td>...</td>\n",
       "    </tr>\n",
       "    <tr>\n",
       "      <td>51456</td>\n",
       "      <td>153</td>\n",
       "      <td>2020-10-09 02:32:53</td>\n",
       "      <td>0.0000</td>\n",
       "      <td>0.0000</td>\n",
       "      <td>58185</td>\n",
       "    </tr>\n",
       "    <tr>\n",
       "      <td>51457</td>\n",
       "      <td>153</td>\n",
       "      <td>2020-10-09 02:33:39</td>\n",
       "      <td>170.0000</td>\n",
       "      <td>170.0000</td>\n",
       "      <td>58186</td>\n",
       "    </tr>\n",
       "    <tr>\n",
       "      <td>51458</td>\n",
       "      <td>6219</td>\n",
       "      <td>2020-10-09 02:42:42</td>\n",
       "      <td>0.0000</td>\n",
       "      <td>0.0000</td>\n",
       "      <td>58187</td>\n",
       "    </tr>\n",
       "    <tr>\n",
       "      <td>51459</td>\n",
       "      <td>6219</td>\n",
       "      <td>2020-10-09 02:42:42</td>\n",
       "      <td>450.0000</td>\n",
       "      <td>450.0000</td>\n",
       "      <td>58188</td>\n",
       "    </tr>\n",
       "    <tr>\n",
       "      <td>51460</td>\n",
       "      <td>6219</td>\n",
       "      <td>2020-10-09 02:42:43</td>\n",
       "      <td>450.0000</td>\n",
       "      <td>450.0000</td>\n",
       "      <td>58189</td>\n",
       "    </tr>\n",
       "  </tbody>\n",
       "</table>\n",
       "<p>51461 rows × 5 columns</p>\n",
       "</div>"
      ],
      "text/plain": [
       "          0                   1         2         3      4\n",
       "0         3 2020-05-01 14:10:27      None    0.0000      1\n",
       "1        18 2020-05-05 17:15:50    0.0000    0.0000      4\n",
       "2        15 2020-05-08 10:46:50      None    0.0000      5\n",
       "3         4 2020-05-11 23:26:40    0.0000    0.0000      6\n",
       "4         4 2020-05-12 09:56:02    0.0000    0.0000      7\n",
       "...     ...                 ...       ...       ...    ...\n",
       "51456   153 2020-10-09 02:32:53    0.0000    0.0000  58185\n",
       "51457   153 2020-10-09 02:33:39  170.0000  170.0000  58186\n",
       "51458  6219 2020-10-09 02:42:42    0.0000    0.0000  58187\n",
       "51459  6219 2020-10-09 02:42:42  450.0000  450.0000  58188\n",
       "51460  6219 2020-10-09 02:42:43  450.0000  450.0000  58189\n",
       "\n",
       "[51461 rows x 5 columns]"
      ]
     },
     "execution_count": 14,
     "metadata": {},
     "output_type": "execute_result"
    }
   ],
   "source": [
    "df\n"
   ]
  },
  {
   "cell_type": "code",
   "execution_count": 15,
   "metadata": {},
   "outputs": [
    {
     "name": "stdout",
     "output_type": "stream",
     "text": [
      "0    False\n",
      "1    False\n",
      "2     True\n",
      "3    False\n",
      "4    False\n",
      "dtype: bool\n"
     ]
    }
   ],
   "source": [
    "na_values = pd.isna(df) # Boolean DataFrame\n",
    "na_features = na_values.any() # Boolean Series\n",
    "print(na_features)"
   ]
  },
  {
   "cell_type": "code",
   "execution_count": 16,
   "metadata": {},
   "outputs": [
    {
     "name": "stdout",
     "output_type": "stream",
     "text": [
      "51461\n",
      "105\n"
     ]
    }
   ],
   "source": [
    "print(len(na_values))\n",
    "print(sum(na_values[2]))"
   ]
  },
  {
   "cell_type": "code",
   "execution_count": 20,
   "metadata": {},
   "outputs": [],
   "source": [
    "### USER_OID,TXN_DATE,PAID_AMOUNT,BILL_AMOUNT, OID\n",
    "data = df"
   ]
  },
  {
   "cell_type": "code",
   "execution_count": 21,
   "metadata": {},
   "outputs": [
    {
     "data": {
      "text/html": [
       "<div>\n",
       "<style scoped>\n",
       "    .dataframe tbody tr th:only-of-type {\n",
       "        vertical-align: middle;\n",
       "    }\n",
       "\n",
       "    .dataframe tbody tr th {\n",
       "        vertical-align: top;\n",
       "    }\n",
       "\n",
       "    .dataframe thead th {\n",
       "        text-align: right;\n",
       "    }\n",
       "</style>\n",
       "<table border=\"1\" class=\"dataframe\">\n",
       "  <thead>\n",
       "    <tr style=\"text-align: right;\">\n",
       "      <th></th>\n",
       "      <th>USER_OID</th>\n",
       "      <th>TXN_DATE</th>\n",
       "      <th>PAID_AMOUNT</th>\n",
       "      <th>BILL_AMOUNT</th>\n",
       "      <th>OID</th>\n",
       "    </tr>\n",
       "  </thead>\n",
       "  <tbody>\n",
       "    <tr>\n",
       "      <td>0</td>\n",
       "      <td>3</td>\n",
       "      <td>2020-05-01 14:10:27</td>\n",
       "      <td>None</td>\n",
       "      <td>0.0000</td>\n",
       "      <td>1</td>\n",
       "    </tr>\n",
       "    <tr>\n",
       "      <td>1</td>\n",
       "      <td>18</td>\n",
       "      <td>2020-05-05 17:15:50</td>\n",
       "      <td>0.0000</td>\n",
       "      <td>0.0000</td>\n",
       "      <td>4</td>\n",
       "    </tr>\n",
       "    <tr>\n",
       "      <td>2</td>\n",
       "      <td>15</td>\n",
       "      <td>2020-05-08 10:46:50</td>\n",
       "      <td>None</td>\n",
       "      <td>0.0000</td>\n",
       "      <td>5</td>\n",
       "    </tr>\n",
       "    <tr>\n",
       "      <td>3</td>\n",
       "      <td>4</td>\n",
       "      <td>2020-05-11 23:26:40</td>\n",
       "      <td>0.0000</td>\n",
       "      <td>0.0000</td>\n",
       "      <td>6</td>\n",
       "    </tr>\n",
       "    <tr>\n",
       "      <td>4</td>\n",
       "      <td>4</td>\n",
       "      <td>2020-05-12 09:56:02</td>\n",
       "      <td>0.0000</td>\n",
       "      <td>0.0000</td>\n",
       "      <td>7</td>\n",
       "    </tr>\n",
       "  </tbody>\n",
       "</table>\n",
       "</div>"
      ],
      "text/plain": [
       "   USER_OID            TXN_DATE PAID_AMOUNT BILL_AMOUNT  OID\n",
       "0         3 2020-05-01 14:10:27        None      0.0000    1\n",
       "1        18 2020-05-05 17:15:50      0.0000      0.0000    4\n",
       "2        15 2020-05-08 10:46:50        None      0.0000    5\n",
       "3         4 2020-05-11 23:26:40      0.0000      0.0000    6\n",
       "4         4 2020-05-12 09:56:02      0.0000      0.0000    7"
      ]
     },
     "execution_count": 21,
     "metadata": {},
     "output_type": "execute_result"
    }
   ],
   "source": [
    "#renaming the columns\n",
    "\n",
    "\n",
    "data.columns = [\"USER_OID\", \"TXN_DATE\", \"PAID_AMOUNT\", \"BILL_AMOUNT\",\"OID\"]\n",
    "data.head()"
   ]
  },
  {
   "cell_type": "code",
   "execution_count": null,
   "metadata": {},
   "outputs": [],
   "source": []
  },
  {
   "cell_type": "code",
   "execution_count": 174,
   "metadata": {},
   "outputs": [
    {
     "data": {
      "text/plain": [
       "array([[0.00000000e+00, 0.00000000e+00, 0.00000000e+00, ...,\n",
       "        1.30000000e+01, 0.00000000e+00, 0.00000000e+00],\n",
       "       [0.00000000e+00, 4.75000000e+02, 0.00000000e+00, ...,\n",
       "        7.20000000e+02, 7.28901733e+02, 0.00000000e+00],\n",
       "       [0.00000000e+00, 0.00000000e+00, 0.00000000e+00, ...,\n",
       "        6.00000000e+00, 6.13516260e+03, 0.00000000e+00],\n",
       "       ...,\n",
       "       [0.00000000e+00, 0.00000000e+00, 0.00000000e+00, ...,\n",
       "        1.00000000e+00, 2.16403906e+04, 2.90000000e+02],\n",
       "       [0.00000000e+00, 0.00000000e+00, 0.00000000e+00, ...,\n",
       "        1.00000000e+00, 0.00000000e+00, 0.00000000e+00],\n",
       "       [0.00000000e+00, 0.00000000e+00, 0.00000000e+00, ...,\n",
       "        1.00000000e+00, 0.00000000e+00, 7.50000000e+02]])"
      ]
     },
     "execution_count": 174,
     "metadata": {},
     "output_type": "execute_result"
    }
   ],
   "source": [
    "from sklearn.impute import SimpleImputer\n",
    "imp_mean = SimpleImputer()\n",
    "transformed = imp_mean.fit_transform(data)"
   ]
  },
  {
   "cell_type": "code",
   "execution_count": null,
   "metadata": {},
   "outputs": [],
   "source": []
  },
  {
   "cell_type": "code",
   "execution_count": null,
   "metadata": {},
   "outputs": [],
   "source": []
  },
  {
   "cell_type": "code",
   "execution_count": null,
   "metadata": {},
   "outputs": [],
   "source": []
  },
  {
   "cell_type": "code",
   "execution_count": 22,
   "metadata": {},
   "outputs": [],
   "source": [
    "## summing up the days customer is with us along with total paid amount and bill amount\n",
    "\n",
    "data_set= data.groupby('USER_OID').agg({'TXN_DATE': lambda date: (date.max() - date.min()).days, 'OID': lambda num: len(num), 'PAID_AMOUNT': lambda price: price.sum(),  'BILL_AMOUNT': lambda price: price.sum()})"
   ]
  },
  {
   "cell_type": "code",
   "execution_count": null,
   "metadata": {},
   "outputs": [],
   "source": []
  },
  {
   "cell_type": "code",
   "execution_count": 23,
   "metadata": {},
   "outputs": [],
   "source": [
    "#renaming the columns accordingly\n",
    "\n",
    "data_set.columns=['num_days','num_transactions','tol_paid_amt','tol_bill_amt']"
   ]
  },
  {
   "cell_type": "code",
   "execution_count": 24,
   "metadata": {},
   "outputs": [
    {
     "data": {
      "text/html": [
       "<div>\n",
       "<style scoped>\n",
       "    .dataframe tbody tr th:only-of-type {\n",
       "        vertical-align: middle;\n",
       "    }\n",
       "\n",
       "    .dataframe tbody tr th {\n",
       "        vertical-align: top;\n",
       "    }\n",
       "\n",
       "    .dataframe thead th {\n",
       "        text-align: right;\n",
       "    }\n",
       "</style>\n",
       "<table border=\"1\" class=\"dataframe\">\n",
       "  <thead>\n",
       "    <tr style=\"text-align: right;\">\n",
       "      <th></th>\n",
       "      <th>num_days</th>\n",
       "      <th>num_transactions</th>\n",
       "      <th>tol_paid_amt</th>\n",
       "      <th>tol_bill_amt</th>\n",
       "    </tr>\n",
       "    <tr>\n",
       "      <th>USER_OID</th>\n",
       "      <th></th>\n",
       "      <th></th>\n",
       "      <th></th>\n",
       "      <th></th>\n",
       "    </tr>\n",
       "  </thead>\n",
       "  <tbody>\n",
       "    <tr>\n",
       "      <td>3</td>\n",
       "      <td>108</td>\n",
       "      <td>13</td>\n",
       "      <td>0.0000</td>\n",
       "      <td>0.0000</td>\n",
       "    </tr>\n",
       "    <tr>\n",
       "      <td>4</td>\n",
       "      <td>144</td>\n",
       "      <td>720</td>\n",
       "      <td>7057.1500</td>\n",
       "      <td>7525.1500</td>\n",
       "    </tr>\n",
       "    <tr>\n",
       "      <td>10</td>\n",
       "      <td>0</td>\n",
       "      <td>6</td>\n",
       "      <td>495.0000</td>\n",
       "      <td>495.0000</td>\n",
       "    </tr>\n",
       "    <tr>\n",
       "      <td>12</td>\n",
       "      <td>0</td>\n",
       "      <td>1</td>\n",
       "      <td>900.0000</td>\n",
       "      <td>900.0000</td>\n",
       "    </tr>\n",
       "    <tr>\n",
       "      <td>15</td>\n",
       "      <td>0</td>\n",
       "      <td>1</td>\n",
       "      <td>0</td>\n",
       "      <td>0.0000</td>\n",
       "    </tr>\n",
       "  </tbody>\n",
       "</table>\n",
       "</div>"
      ],
      "text/plain": [
       "          num_days  num_transactions tol_paid_amt tol_bill_amt\n",
       "USER_OID                                                      \n",
       "3              108                13       0.0000       0.0000\n",
       "4              144               720    7057.1500    7525.1500\n",
       "10               0                 6     495.0000     495.0000\n",
       "12               0                 1     900.0000     900.0000\n",
       "15               0                 1            0       0.0000"
      ]
     },
     "execution_count": 24,
     "metadata": {},
     "output_type": "execute_result"
    }
   ],
   "source": [
    "data_set.head()"
   ]
  },
  {
   "cell_type": "code",
   "execution_count": 25,
   "metadata": {},
   "outputs": [
    {
     "data": {
      "text/plain": [
       "'\\nFollowing are the steps to calculate Customer LifeTime Value :\\n•\\tWe will calculate Average order value(AOV), which is the ratio of your total revenue and the total number of orders.  \\n•\\tAnd purchase frequency, which is the average number of orders placed by each customer.\\n•\\tChurn rate, the percentage of customers who have not ordered again.\\n•\\tRepeat rate, ratio of customers with more than one order to the number of unique cutomers\\n•\\tCustomer lifetime, period of time customer has been ordering.\\n\\n'"
      ]
     },
     "execution_count": 25,
     "metadata": {},
     "output_type": "execute_result"
    }
   ],
   "source": [
    "'''\n",
    "Following are the steps to calculate Customer LifeTime Value :\n",
    "•\tWe will calculate Average order value(AOV), which is the ratio of your total revenue and the total number of orders.  \n",
    "•\tAnd purchase frequency, which is the average number of orders placed by each customer.\n",
    "•\tChurn rate, the percentage of customers who have not ordered again.\n",
    "•\tRepeat rate, ratio of customers with more than one order to the number of unique cutomers\n",
    "•\tCustomer lifetime, period of time customer has been ordering.\n",
    "\n",
    "'''"
   ]
  },
  {
   "cell_type": "code",
   "execution_count": 26,
   "metadata": {},
   "outputs": [],
   "source": [
    "# Average Order Value\n",
    "\n",
    "data_set['avg_order_value']=data_set['tol_paid_amt']/data_set['num_transactions']"
   ]
  },
  {
   "cell_type": "code",
   "execution_count": 27,
   "metadata": {},
   "outputs": [
    {
     "data": {
      "text/html": [
       "<div>\n",
       "<style scoped>\n",
       "    .dataframe tbody tr th:only-of-type {\n",
       "        vertical-align: middle;\n",
       "    }\n",
       "\n",
       "    .dataframe tbody tr th {\n",
       "        vertical-align: top;\n",
       "    }\n",
       "\n",
       "    .dataframe thead th {\n",
       "        text-align: right;\n",
       "    }\n",
       "</style>\n",
       "<table border=\"1\" class=\"dataframe\">\n",
       "  <thead>\n",
       "    <tr style=\"text-align: right;\">\n",
       "      <th></th>\n",
       "      <th>num_days</th>\n",
       "      <th>num_transactions</th>\n",
       "      <th>tol_paid_amt</th>\n",
       "      <th>tol_bill_amt</th>\n",
       "      <th>avg_order_value</th>\n",
       "    </tr>\n",
       "    <tr>\n",
       "      <th>USER_OID</th>\n",
       "      <th></th>\n",
       "      <th></th>\n",
       "      <th></th>\n",
       "      <th></th>\n",
       "      <th></th>\n",
       "    </tr>\n",
       "  </thead>\n",
       "  <tbody>\n",
       "    <tr>\n",
       "      <td>3</td>\n",
       "      <td>108</td>\n",
       "      <td>13</td>\n",
       "      <td>0.0000</td>\n",
       "      <td>0.0000</td>\n",
       "      <td>0.0000</td>\n",
       "    </tr>\n",
       "    <tr>\n",
       "      <td>4</td>\n",
       "      <td>144</td>\n",
       "      <td>720</td>\n",
       "      <td>7057.1500</td>\n",
       "      <td>7525.1500</td>\n",
       "      <td>9.801597222222222222222222222</td>\n",
       "    </tr>\n",
       "    <tr>\n",
       "      <td>10</td>\n",
       "      <td>0</td>\n",
       "      <td>6</td>\n",
       "      <td>495.0000</td>\n",
       "      <td>495.0000</td>\n",
       "      <td>82.5000</td>\n",
       "    </tr>\n",
       "    <tr>\n",
       "      <td>12</td>\n",
       "      <td>0</td>\n",
       "      <td>1</td>\n",
       "      <td>900.0000</td>\n",
       "      <td>900.0000</td>\n",
       "      <td>900.0000</td>\n",
       "    </tr>\n",
       "    <tr>\n",
       "      <td>15</td>\n",
       "      <td>0</td>\n",
       "      <td>1</td>\n",
       "      <td>0</td>\n",
       "      <td>0.0000</td>\n",
       "      <td>0</td>\n",
       "    </tr>\n",
       "  </tbody>\n",
       "</table>\n",
       "</div>"
      ],
      "text/plain": [
       "          num_days  num_transactions tol_paid_amt tol_bill_amt  \\\n",
       "USER_OID                                                         \n",
       "3              108                13       0.0000       0.0000   \n",
       "4              144               720    7057.1500    7525.1500   \n",
       "10               0                 6     495.0000     495.0000   \n",
       "12               0                 1     900.0000     900.0000   \n",
       "15               0                 1            0       0.0000   \n",
       "\n",
       "                        avg_order_value  \n",
       "USER_OID                                 \n",
       "3                                0.0000  \n",
       "4         9.801597222222222222222222222  \n",
       "10                              82.5000  \n",
       "12                             900.0000  \n",
       "15                                    0  "
      ]
     },
     "execution_count": 27,
     "metadata": {},
     "output_type": "execute_result"
    }
   ],
   "source": [
    "data_set.head()"
   ]
  },
  {
   "cell_type": "code",
   "execution_count": 29,
   "metadata": {},
   "outputs": [
    {
     "name": "stdout",
     "output_type": "stream",
     "text": [
      "16.3006018371872\n"
     ]
    }
   ],
   "source": [
    "# purchase frequency \n",
    "purchase_frequency=sum(data_set['num_transactions'])/data_set.shape[0]\n",
    "print(purchase_frequency)\n"
   ]
  },
  {
   "cell_type": "code",
   "execution_count": null,
   "metadata": {},
   "outputs": [],
   "source": []
  },
  {
   "cell_type": "code",
   "execution_count": 30,
   "metadata": {},
   "outputs": [
    {
     "data": {
      "text/plain": [
       "0.7808045612923662"
      ]
     },
     "execution_count": 30,
     "metadata": {},
     "output_type": "execute_result"
    }
   ],
   "source": [
    "# Repeat Rate\n",
    "repeat_rate=data_set[data_set.num_transactions > 1].shape[0]/data_set.shape[0]\n",
    "repeat_rate"
   ]
  },
  {
   "cell_type": "code",
   "execution_count": 31,
   "metadata": {},
   "outputs": [
    {
     "data": {
      "text/plain": [
       "0.2191954387076338"
      ]
     },
     "execution_count": 31,
     "metadata": {},
     "output_type": "execute_result"
    }
   ],
   "source": [
    "# churn rate\n",
    "churn_rate = 1- repeat_rate\n",
    "churn_rate"
   ]
  },
  {
   "cell_type": "code",
   "execution_count": 32,
   "metadata": {},
   "outputs": [],
   "source": [
    "from decimal import Decimal\n",
    "## Let's assume our business has approx 8% profit on the total sale.\n",
    "# profit margin\n",
    "data_set['profit_margin']=data_set['tol_paid_amt'] * Decimal(0.08)"
   ]
  },
  {
   "cell_type": "code",
   "execution_count": 33,
   "metadata": {},
   "outputs": [
    {
     "data": {
      "text/html": [
       "<div>\n",
       "<style scoped>\n",
       "    .dataframe tbody tr th:only-of-type {\n",
       "        vertical-align: middle;\n",
       "    }\n",
       "\n",
       "    .dataframe tbody tr th {\n",
       "        vertical-align: top;\n",
       "    }\n",
       "\n",
       "    .dataframe thead th {\n",
       "        text-align: right;\n",
       "    }\n",
       "</style>\n",
       "<table border=\"1\" class=\"dataframe\">\n",
       "  <thead>\n",
       "    <tr style=\"text-align: right;\">\n",
       "      <th></th>\n",
       "      <th>num_days</th>\n",
       "      <th>num_transactions</th>\n",
       "      <th>tol_paid_amt</th>\n",
       "      <th>tol_bill_amt</th>\n",
       "      <th>avg_order_value</th>\n",
       "      <th>profit_margin</th>\n",
       "    </tr>\n",
       "    <tr>\n",
       "      <th>USER_OID</th>\n",
       "      <th></th>\n",
       "      <th></th>\n",
       "      <th></th>\n",
       "      <th></th>\n",
       "      <th></th>\n",
       "      <th></th>\n",
       "    </tr>\n",
       "  </thead>\n",
       "  <tbody>\n",
       "    <tr>\n",
       "      <td>3</td>\n",
       "      <td>108</td>\n",
       "      <td>13</td>\n",
       "      <td>0.0000</td>\n",
       "      <td>0.0000</td>\n",
       "      <td>0.0000</td>\n",
       "      <td>0E-60</td>\n",
       "    </tr>\n",
       "    <tr>\n",
       "      <td>4</td>\n",
       "      <td>144</td>\n",
       "      <td>720</td>\n",
       "      <td>7057.1500</td>\n",
       "      <td>7525.1500</td>\n",
       "      <td>9.801597222222222222222222222</td>\n",
       "      <td>564.5720000000000117525156274</td>\n",
       "    </tr>\n",
       "    <tr>\n",
       "      <td>10</td>\n",
       "      <td>0</td>\n",
       "      <td>6</td>\n",
       "      <td>495.0000</td>\n",
       "      <td>495.0000</td>\n",
       "      <td>82.5000</td>\n",
       "      <td>39.60000000000000082434059578</td>\n",
       "    </tr>\n",
       "    <tr>\n",
       "      <td>12</td>\n",
       "      <td>0</td>\n",
       "      <td>1</td>\n",
       "      <td>900.0000</td>\n",
       "      <td>900.0000</td>\n",
       "      <td>900.0000</td>\n",
       "      <td>72.00000000000000149880108324</td>\n",
       "    </tr>\n",
       "    <tr>\n",
       "      <td>15</td>\n",
       "      <td>0</td>\n",
       "      <td>1</td>\n",
       "      <td>0</td>\n",
       "      <td>0.0000</td>\n",
       "      <td>0</td>\n",
       "      <td>0E-56</td>\n",
       "    </tr>\n",
       "  </tbody>\n",
       "</table>\n",
       "</div>"
      ],
      "text/plain": [
       "          num_days  num_transactions tol_paid_amt tol_bill_amt  \\\n",
       "USER_OID                                                         \n",
       "3              108                13       0.0000       0.0000   \n",
       "4              144               720    7057.1500    7525.1500   \n",
       "10               0                 6     495.0000     495.0000   \n",
       "12               0                 1     900.0000     900.0000   \n",
       "15               0                 1            0       0.0000   \n",
       "\n",
       "                        avg_order_value                  profit_margin  \n",
       "USER_OID                                                                \n",
       "3                                0.0000                          0E-60  \n",
       "4         9.801597222222222222222222222  564.5720000000000117525156274  \n",
       "10                              82.5000  39.60000000000000082434059578  \n",
       "12                             900.0000  72.00000000000000149880108324  \n",
       "15                                    0                          0E-56  "
      ]
     },
     "execution_count": 33,
     "metadata": {},
     "output_type": "execute_result"
    }
   ],
   "source": [
    "data_set.head()"
   ]
  },
  {
   "cell_type": "code",
   "execution_count": 34,
   "metadata": {},
   "outputs": [],
   "source": [
    "# managing the type of columns\n",
    "\n",
    "data_set['avg_order_value'] = pd.to_numeric(data_set['avg_order_value'], downcast='float')\n",
    "data_set['profit_margin'] = pd.to_numeric(data_set['profit_margin'], downcast='float')"
   ]
  },
  {
   "cell_type": "code",
   "execution_count": 35,
   "metadata": {},
   "outputs": [
    {
     "data": {
      "text/html": [
       "<div>\n",
       "<style scoped>\n",
       "    .dataframe tbody tr th:only-of-type {\n",
       "        vertical-align: middle;\n",
       "    }\n",
       "\n",
       "    .dataframe tbody tr th {\n",
       "        vertical-align: top;\n",
       "    }\n",
       "\n",
       "    .dataframe thead th {\n",
       "        text-align: right;\n",
       "    }\n",
       "</style>\n",
       "<table border=\"1\" class=\"dataframe\">\n",
       "  <thead>\n",
       "    <tr style=\"text-align: right;\">\n",
       "      <th></th>\n",
       "      <th>num_days</th>\n",
       "      <th>num_transactions</th>\n",
       "      <th>tol_paid_amt</th>\n",
       "      <th>tol_bill_amt</th>\n",
       "      <th>avg_order_value</th>\n",
       "      <th>profit_margin</th>\n",
       "    </tr>\n",
       "    <tr>\n",
       "      <th>USER_OID</th>\n",
       "      <th></th>\n",
       "      <th></th>\n",
       "      <th></th>\n",
       "      <th></th>\n",
       "      <th></th>\n",
       "      <th></th>\n",
       "    </tr>\n",
       "  </thead>\n",
       "  <tbody>\n",
       "    <tr>\n",
       "      <td>3</td>\n",
       "      <td>108</td>\n",
       "      <td>13</td>\n",
       "      <td>0.0000</td>\n",
       "      <td>0.0000</td>\n",
       "      <td>0.000000</td>\n",
       "      <td>0.000000</td>\n",
       "    </tr>\n",
       "    <tr>\n",
       "      <td>4</td>\n",
       "      <td>144</td>\n",
       "      <td>720</td>\n",
       "      <td>7057.1500</td>\n",
       "      <td>7525.1500</td>\n",
       "      <td>9.801598</td>\n",
       "      <td>564.572021</td>\n",
       "    </tr>\n",
       "    <tr>\n",
       "      <td>10</td>\n",
       "      <td>0</td>\n",
       "      <td>6</td>\n",
       "      <td>495.0000</td>\n",
       "      <td>495.0000</td>\n",
       "      <td>82.500000</td>\n",
       "      <td>39.599998</td>\n",
       "    </tr>\n",
       "    <tr>\n",
       "      <td>12</td>\n",
       "      <td>0</td>\n",
       "      <td>1</td>\n",
       "      <td>900.0000</td>\n",
       "      <td>900.0000</td>\n",
       "      <td>900.000000</td>\n",
       "      <td>72.000000</td>\n",
       "    </tr>\n",
       "    <tr>\n",
       "      <td>15</td>\n",
       "      <td>0</td>\n",
       "      <td>1</td>\n",
       "      <td>0</td>\n",
       "      <td>0.0000</td>\n",
       "      <td>0.000000</td>\n",
       "      <td>0.000000</td>\n",
       "    </tr>\n",
       "  </tbody>\n",
       "</table>\n",
       "</div>"
      ],
      "text/plain": [
       "          num_days  num_transactions tol_paid_amt tol_bill_amt  \\\n",
       "USER_OID                                                         \n",
       "3              108                13       0.0000       0.0000   \n",
       "4              144               720    7057.1500    7525.1500   \n",
       "10               0                 6     495.0000     495.0000   \n",
       "12               0                 1     900.0000     900.0000   \n",
       "15               0                 1            0       0.0000   \n",
       "\n",
       "          avg_order_value  profit_margin  \n",
       "USER_OID                                  \n",
       "3                0.000000       0.000000  \n",
       "4                9.801598     564.572021  \n",
       "10              82.500000      39.599998  \n",
       "12             900.000000      72.000000  \n",
       "15               0.000000       0.000000  "
      ]
     },
     "execution_count": 35,
     "metadata": {},
     "output_type": "execute_result"
    }
   ],
   "source": [
    "data_set.head()"
   ]
  },
  {
   "cell_type": "code",
   "execution_count": 36,
   "metadata": {},
   "outputs": [],
   "source": [
    "\n",
    "# Customer Value\n",
    "data_set['CLV']=(data_set['avg_order_value'])*(purchase_frequency)/float(churn_rate)\n"
   ]
  },
  {
   "cell_type": "code",
   "execution_count": 37,
   "metadata": {},
   "outputs": [],
   "source": [
    "#Customer Lifetime Value\n",
    "data_set['cust_lifetime_value']=data_set['CLV']*data_set['profit_margin']\n",
    "\n"
   ]
  },
  {
   "cell_type": "code",
   "execution_count": 38,
   "metadata": {},
   "outputs": [
    {
     "data": {
      "text/html": [
       "<div>\n",
       "<style scoped>\n",
       "    .dataframe tbody tr th:only-of-type {\n",
       "        vertical-align: middle;\n",
       "    }\n",
       "\n",
       "    .dataframe tbody tr th {\n",
       "        vertical-align: top;\n",
       "    }\n",
       "\n",
       "    .dataframe thead th {\n",
       "        text-align: right;\n",
       "    }\n",
       "</style>\n",
       "<table border=\"1\" class=\"dataframe\">\n",
       "  <thead>\n",
       "    <tr style=\"text-align: right;\">\n",
       "      <th></th>\n",
       "      <th>num_days</th>\n",
       "      <th>num_transactions</th>\n",
       "      <th>tol_paid_amt</th>\n",
       "      <th>tol_bill_amt</th>\n",
       "      <th>avg_order_value</th>\n",
       "      <th>profit_margin</th>\n",
       "      <th>CLV</th>\n",
       "      <th>cust_lifetime_value</th>\n",
       "    </tr>\n",
       "    <tr>\n",
       "      <th>USER_OID</th>\n",
       "      <th></th>\n",
       "      <th></th>\n",
       "      <th></th>\n",
       "      <th></th>\n",
       "      <th></th>\n",
       "      <th></th>\n",
       "      <th></th>\n",
       "      <th></th>\n",
       "    </tr>\n",
       "  </thead>\n",
       "  <tbody>\n",
       "    <tr>\n",
       "      <td>3</td>\n",
       "      <td>108</td>\n",
       "      <td>13</td>\n",
       "      <td>0.0000</td>\n",
       "      <td>0.0000</td>\n",
       "      <td>0.000000</td>\n",
       "      <td>0.000000</td>\n",
       "      <td>0.000000</td>\n",
       "      <td>0.000000e+00</td>\n",
       "    </tr>\n",
       "    <tr>\n",
       "      <td>4</td>\n",
       "      <td>144</td>\n",
       "      <td>720</td>\n",
       "      <td>7057.1500</td>\n",
       "      <td>7525.1500</td>\n",
       "      <td>9.801598</td>\n",
       "      <td>564.572021</td>\n",
       "      <td>728.901733</td>\n",
       "      <td>4.115175e+05</td>\n",
       "    </tr>\n",
       "    <tr>\n",
       "      <td>10</td>\n",
       "      <td>0</td>\n",
       "      <td>6</td>\n",
       "      <td>495.0000</td>\n",
       "      <td>495.0000</td>\n",
       "      <td>82.500000</td>\n",
       "      <td>39.599998</td>\n",
       "      <td>6135.162598</td>\n",
       "      <td>2.429524e+05</td>\n",
       "    </tr>\n",
       "    <tr>\n",
       "      <td>12</td>\n",
       "      <td>0</td>\n",
       "      <td>1</td>\n",
       "      <td>900.0000</td>\n",
       "      <td>900.0000</td>\n",
       "      <td>900.000000</td>\n",
       "      <td>72.000000</td>\n",
       "      <td>66929.046875</td>\n",
       "      <td>4.818892e+06</td>\n",
       "    </tr>\n",
       "    <tr>\n",
       "      <td>15</td>\n",
       "      <td>0</td>\n",
       "      <td>1</td>\n",
       "      <td>0</td>\n",
       "      <td>0.0000</td>\n",
       "      <td>0.000000</td>\n",
       "      <td>0.000000</td>\n",
       "      <td>0.000000</td>\n",
       "      <td>0.000000e+00</td>\n",
       "    </tr>\n",
       "  </tbody>\n",
       "</table>\n",
       "</div>"
      ],
      "text/plain": [
       "          num_days  num_transactions tol_paid_amt tol_bill_amt  \\\n",
       "USER_OID                                                         \n",
       "3              108                13       0.0000       0.0000   \n",
       "4              144               720    7057.1500    7525.1500   \n",
       "10               0                 6     495.0000     495.0000   \n",
       "12               0                 1     900.0000     900.0000   \n",
       "15               0                 1            0       0.0000   \n",
       "\n",
       "          avg_order_value  profit_margin           CLV  cust_lifetime_value  \n",
       "USER_OID                                                                     \n",
       "3                0.000000       0.000000      0.000000         0.000000e+00  \n",
       "4                9.801598     564.572021    728.901733         4.115175e+05  \n",
       "10              82.500000      39.599998   6135.162598         2.429524e+05  \n",
       "12             900.000000      72.000000  66929.046875         4.818892e+06  \n",
       "15               0.000000       0.000000      0.000000         0.000000e+00  "
      ]
     },
     "execution_count": 38,
     "metadata": {},
     "output_type": "execute_result"
    }
   ],
   "source": [
    "data_set.head()"
   ]
  },
  {
   "cell_type": "code",
   "execution_count": 72,
   "metadata": {},
   "outputs": [
    {
     "data": {
      "text/html": [
       "<div>\n",
       "<style scoped>\n",
       "    .dataframe tbody tr th:only-of-type {\n",
       "        vertical-align: middle;\n",
       "    }\n",
       "\n",
       "    .dataframe tbody tr th {\n",
       "        vertical-align: top;\n",
       "    }\n",
       "\n",
       "    .dataframe thead th {\n",
       "        text-align: right;\n",
       "    }\n",
       "</style>\n",
       "<table border=\"1\" class=\"dataframe\">\n",
       "  <thead>\n",
       "    <tr style=\"text-align: right;\">\n",
       "      <th></th>\n",
       "      <th>num_days</th>\n",
       "      <th>num_transactions</th>\n",
       "      <th>avg_order_value</th>\n",
       "      <th>profit_margin</th>\n",
       "      <th>CLV</th>\n",
       "      <th>cust_lifetime_value</th>\n",
       "    </tr>\n",
       "  </thead>\n",
       "  <tbody>\n",
       "    <tr>\n",
       "      <td>count</td>\n",
       "      <td>3157.000000</td>\n",
       "      <td>3157.000000</td>\n",
       "      <td>3157.000000</td>\n",
       "      <td>3157.000000</td>\n",
       "      <td>3157.000000</td>\n",
       "      <td>3.157000e+03</td>\n",
       "    </tr>\n",
       "    <tr>\n",
       "      <td>mean</td>\n",
       "      <td>38.362369</td>\n",
       "      <td>16.300602</td>\n",
       "      <td>244.731689</td>\n",
       "      <td>178.714325</td>\n",
       "      <td>18199.628906</td>\n",
       "      <td>5.013448e+06</td>\n",
       "    </tr>\n",
       "    <tr>\n",
       "      <td>std</td>\n",
       "      <td>35.108204</td>\n",
       "      <td>28.494978</td>\n",
       "      <td>406.621460</td>\n",
       "      <td>339.274292</td>\n",
       "      <td>30238.634766</td>\n",
       "      <td>2.862548e+07</td>\n",
       "    </tr>\n",
       "    <tr>\n",
       "      <td>min</td>\n",
       "      <td>0.000000</td>\n",
       "      <td>1.000000</td>\n",
       "      <td>0.000000</td>\n",
       "      <td>0.000000</td>\n",
       "      <td>0.000000</td>\n",
       "      <td>0.000000e+00</td>\n",
       "    </tr>\n",
       "    <tr>\n",
       "      <td>25%</td>\n",
       "      <td>0.000000</td>\n",
       "      <td>2.000000</td>\n",
       "      <td>52.013447</td>\n",
       "      <td>19.680000</td>\n",
       "      <td>3868.011475</td>\n",
       "      <td>1.131101e+05</td>\n",
       "    </tr>\n",
       "    <tr>\n",
       "      <td>50%</td>\n",
       "      <td>32.000000</td>\n",
       "      <td>6.000000</td>\n",
       "      <td>138.910873</td>\n",
       "      <td>70.879997</td>\n",
       "      <td>10330.191406</td>\n",
       "      <td>8.998238e+05</td>\n",
       "    </tr>\n",
       "    <tr>\n",
       "      <td>75%</td>\n",
       "      <td>72.000000</td>\n",
       "      <td>20.000000</td>\n",
       "      <td>295.500000</td>\n",
       "      <td>209.580002</td>\n",
       "      <td>21975.035156</td>\n",
       "      <td>3.760168e+06</td>\n",
       "    </tr>\n",
       "    <tr>\n",
       "      <td>max</td>\n",
       "      <td>144.000000</td>\n",
       "      <td>720.000000</td>\n",
       "      <td>8878.416992</td>\n",
       "      <td>11029.340820</td>\n",
       "      <td>660248.875000</td>\n",
       "      <td>1.406872e+09</td>\n",
       "    </tr>\n",
       "  </tbody>\n",
       "</table>\n",
       "</div>"
      ],
      "text/plain": [
       "          num_days  num_transactions  avg_order_value  profit_margin  \\\n",
       "count  3157.000000       3157.000000      3157.000000    3157.000000   \n",
       "mean     38.362369         16.300602       244.731689     178.714325   \n",
       "std      35.108204         28.494978       406.621460     339.274292   \n",
       "min       0.000000          1.000000         0.000000       0.000000   \n",
       "25%       0.000000          2.000000        52.013447      19.680000   \n",
       "50%      32.000000          6.000000       138.910873      70.879997   \n",
       "75%      72.000000         20.000000       295.500000     209.580002   \n",
       "max     144.000000        720.000000      8878.416992   11029.340820   \n",
       "\n",
       "                 CLV  cust_lifetime_value  \n",
       "count    3157.000000         3.157000e+03  \n",
       "mean    18199.628906         5.013448e+06  \n",
       "std     30238.634766         2.862548e+07  \n",
       "min         0.000000         0.000000e+00  \n",
       "25%      3868.011475         1.131101e+05  \n",
       "50%     10330.191406         8.998238e+05  \n",
       "75%     21975.035156         3.760168e+06  \n",
       "max    660248.875000         1.406872e+09  "
      ]
     },
     "execution_count": 72,
     "metadata": {},
     "output_type": "execute_result"
    }
   ],
   "source": [
    "data_set.describe()"
   ]
  },
  {
   "cell_type": "code",
   "execution_count": 201,
   "metadata": {},
   "outputs": [
    {
     "data": {
      "text/plain": [
       "USER_OID\n",
       "3       NaN\n",
       "4       0.0\n",
       "10      0.0\n",
       "12      0.0\n",
       "15      NaN\n",
       "       ... \n",
       "8453    NaN\n",
       "8486    0.0\n",
       "8521    0.0\n",
       "8528    NaN\n",
       "8533    NaN\n",
       "Name: p, Length: 3157, dtype: float64"
      ]
     },
     "execution_count": 201,
     "metadata": {},
     "output_type": "execute_result"
    }
   ],
   "source": [
    "\n",
    "# applying beta distribution\n",
    "from scipy import stats\n",
    "data_set['p'] = stats.beta.cdf(data_set['num_days'], data_set['num_transactions'], data_set['avg_order_value'], loc=data_set['num_days'], scale=data_set['num_transactions']-data_set['num_days'])\n",
    "data_set['p']"
   ]
  },
  {
   "cell_type": "markdown",
   "metadata": {},
   "source": [
    "## Prediction model using regression"
   ]
  },
  {
   "cell_type": "code",
   "execution_count": 183,
   "metadata": {},
   "outputs": [],
   "source": [
    "A = data_set[['num_days', 'num_transactions', 'tol_paid_amt', 'avg_order_value']]\n",
    "b = data_set['CLV'].values.astype(int)"
   ]
  },
  {
   "cell_type": "code",
   "execution_count": 184,
   "metadata": {},
   "outputs": [],
   "source": [
    "#split training set and test set\n",
    "\n",
    "from sklearn.model_selection import train_test_split\n",
    "A_train, A_test, b_train, b_test = train_test_split(A, b,random_state=15)"
   ]
  },
  {
   "cell_type": "code",
   "execution_count": 185,
   "metadata": {},
   "outputs": [
    {
     "name": "stdout",
     "output_type": "stream",
     "text": [
      "          num_days  num_transactions tol_paid_amt  avg_order_value\n",
      "USER_OID                                                          \n",
      "939             85                29    5336.0500       184.001724\n",
      "516              0                 2      63.7500        31.875000\n",
      "5837             6                 4    4040.6500      1010.162476\n",
      "6967             0                 3     121.0000        40.333332\n",
      "2324             0                 1     307.0000       307.000000\n",
      "...            ...               ...          ...              ...\n",
      "3292            45                 3       0.0000         0.000000\n",
      "6051            25                 8    4378.3500       547.293762\n",
      "4631             0                 1     528.0000       528.000000\n",
      "5238            34                11     710.2500        64.568184\n",
      "5996            20                 4     729.7500       182.437500\n",
      "\n",
      "[2367 rows x 4 columns]\n"
     ]
    }
   ],
   "source": [
    "print(A_train)"
   ]
  },
  {
   "cell_type": "code",
   "execution_count": 191,
   "metadata": {},
   "outputs": [],
   "source": [
    "#normalization\n",
    "from sklearn.preprocessing import MinMaxScaler\n",
    "norm = MinMaxScaler().fit(A_train)\n",
    "A_train = norm.transform(A_train)\n",
    "A_test = norm.transform(A_test)"
   ]
  },
  {
   "cell_type": "code",
   "execution_count": 192,
   "metadata": {},
   "outputs": [
    {
     "name": "stdout",
     "output_type": "stream",
     "text": [
      "[[5.90277778e-01 3.89429764e-02 3.87043984e-02 2.07246094e-02]\n",
      " [0.00000000e+00 1.39082058e-03 4.62402975e-04 3.59016703e-03]\n",
      " [4.16666667e-02 4.17246175e-03 2.93083699e-02 1.13777318e-01]\n",
      " ...\n",
      " [0.00000000e+00 0.00000000e+00 3.82978464e-03 5.94700610e-02]\n",
      " [2.36111111e-01 1.39082058e-02 5.15171315e-03 7.27248832e-03]\n",
      " [1.38888889e-01 4.17246175e-03 5.29315406e-03 2.05484266e-02]]\n"
     ]
    }
   ],
   "source": [
    "print(A_train)"
   ]
  },
  {
   "cell_type": "code",
   "execution_count": 193,
   "metadata": {},
   "outputs": [],
   "source": [
    "# import model\n",
    "from sklearn.linear_model import LinearRegression\n",
    "\n",
    "# instantiate\n",
    "linreg = LinearRegression()\n",
    "\n",
    "# fit the model to the training data \n",
    "linreg.fit(A_train, b_train)\n",
    "\n",
    "# make predictions on the testing set\n",
    "b_pred = linreg.predict(A_test)"
   ]
  },
  {
   "cell_type": "code",
   "execution_count": 194,
   "metadata": {},
   "outputs": [
    {
     "data": {
      "text/plain": [
       "0.9999999998813482"
      ]
     },
     "execution_count": 194,
     "metadata": {},
     "output_type": "execute_result"
    }
   ],
   "source": [
    "linreg.score(A_test, b_test)"
   ]
  },
  {
   "cell_type": "code",
   "execution_count": 195,
   "metadata": {},
   "outputs": [
    {
     "name": "stdout",
     "output_type": "stream",
     "text": [
      "-0.38740987613709876\n",
      "[-1.33293602e-01 -2.92893583e-01  1.12414976e-01  6.60248068e+05]\n"
     ]
    }
   ],
   "source": [
    "# print the intercept and coefficients\n",
    "print(linreg.intercept_)\n",
    "print(linreg.coef_)"
   ]
  },
  {
   "cell_type": "code",
   "execution_count": 196,
   "metadata": {},
   "outputs": [
    {
     "name": "stdout",
     "output_type": "stream",
     "text": [
      "R-Square: 0.9999999998813482\n"
     ]
    }
   ],
   "source": [
    "from sklearn import metrics\n",
    "\n",
    "# compute the R Square for model\n",
    "print(\"R-Square:\",metrics.r2_score(b_test, b_pred))"
   ]
  },
  {
   "cell_type": "code",
   "execution_count": 197,
   "metadata": {},
   "outputs": [
    {
     "name": "stdout",
     "output_type": "stream",
     "text": [
      "MAE: 0.2768126330738204\n",
      "MSE 0.09907798880264362\n",
      "RMSE: 0.3147665623960773\n"
     ]
    }
   ],
   "source": [
    "print('MAE:',metrics.mean_absolute_error(b_test,b_pred))\n",
    "\n",
    "print('MSE',metrics.mean_squared_error(b_test, b_pred))\n",
    "\n",
    "print('RMSE:',np.sqrt(metrics.mean_squared_error(b_test, b_pred)))"
   ]
  },
  {
   "cell_type": "code",
   "execution_count": 95,
   "metadata": {},
   "outputs": [
    {
     "name": "stderr",
     "output_type": "stream",
     "text": [
      "C:\\ProgramData\\Anaconda3\\lib\\site-packages\\sklearn\\linear_model\\logistic.py:432: FutureWarning: Default solver will be changed to 'lbfgs' in 0.22. Specify a solver to silence this warning.\n",
      "  FutureWarning)\n",
      "C:\\ProgramData\\Anaconda3\\lib\\site-packages\\sklearn\\linear_model\\logistic.py:469: FutureWarning: Default multi_class will be changed to 'auto' in 0.22. Specify the multi_class option to silence this warning.\n",
      "  \"this warning.\", FutureWarning)\n"
     ]
    },
    {
     "name": "stdout",
     "output_type": "stream",
     "text": [
      "[[88  0  0 ...  0  0  0]\n",
      " [ 1  0  0 ...  0  0  0]\n",
      " [ 1  0  0 ...  0  0  0]\n",
      " ...\n",
      " [ 0  0  0 ...  0  0  0]\n",
      " [ 0  0  0 ...  1  0  0]\n",
      " [ 0  0  0 ...  1  0  0]]\n"
     ]
    }
   ],
   "source": [
    "## using logistic regression\n",
    "\n",
    "from sklearn.model_selection import train_test_split\n",
    "a_train, a_test, b_train, b_test = train_test_split(A, b, test_size = 0.25, random_state = 0)\n",
    "\n",
    "'''# Feature Scaling\n",
    "from sklearn.preprocessing import StandardScaler\n",
    "sc = StandardScaler()\n",
    "a_train = sc.fit_transform(a_train)\n",
    "a_test = sc.transform(a_test)'''\n",
    "\n",
    "#normalization\n",
    "from sklearn.preprocessing import MinMaxScaler\n",
    "norm = MinMaxScaler().fit(a_train)\n",
    "a_train = norm.transform(a_train)\n",
    "a_test = norm.transform(a_test)\n",
    "\n",
    "# Fitting Logistic Regression to the Training set\n",
    "from sklearn.linear_model import LogisticRegression\n",
    "classifier = LogisticRegression(random_state = 0)\n",
    "classifier.fit(a_train, b_train)\n",
    "\n",
    "# Predicting the Test set results\n",
    "b_pred = classifier.predict(a_test)\n",
    "\n",
    "# Making the Confusion Matrix\n",
    "from sklearn.metrics import confusion_matrix\n",
    "cm = confusion_matrix(b_test, b_pred)\n",
    "print(cm)\n"
   ]
  },
  {
   "cell_type": "code",
   "execution_count": 96,
   "metadata": {},
   "outputs": [
    {
     "data": {
      "text/plain": [
       "0.11139240506329114"
      ]
     },
     "execution_count": 96,
     "metadata": {},
     "output_type": "execute_result"
    }
   ],
   "source": [
    "from sklearn.metrics import accuracy_score\n",
    "accuracy_score(b_test, b_pred)"
   ]
  },
  {
   "cell_type": "code",
   "execution_count": null,
   "metadata": {},
   "outputs": [],
   "source": []
  },
  {
   "cell_type": "code",
   "execution_count": null,
   "metadata": {},
   "outputs": [],
   "source": []
  },
  {
   "cell_type": "code",
   "execution_count": null,
   "metadata": {},
   "outputs": [],
   "source": []
  },
  {
   "cell_type": "code",
   "execution_count": null,
   "metadata": {},
   "outputs": [],
   "source": []
  },
  {
   "cell_type": "code",
   "execution_count": null,
   "metadata": {},
   "outputs": [],
   "source": []
  },
  {
   "cell_type": "code",
   "execution_count": null,
   "metadata": {},
   "outputs": [],
   "source": []
  },
  {
   "cell_type": "code",
   "execution_count": 97,
   "metadata": {},
   "outputs": [
    {
     "data": {
      "text/html": [
       "<div>\n",
       "<style scoped>\n",
       "    .dataframe tbody tr th:only-of-type {\n",
       "        vertical-align: middle;\n",
       "    }\n",
       "\n",
       "    .dataframe tbody tr th {\n",
       "        vertical-align: top;\n",
       "    }\n",
       "\n",
       "    .dataframe thead th {\n",
       "        text-align: right;\n",
       "    }\n",
       "</style>\n",
       "<table border=\"1\" class=\"dataframe\">\n",
       "  <thead>\n",
       "    <tr style=\"text-align: right;\">\n",
       "      <th></th>\n",
       "      <th>USER_OID</th>\n",
       "      <th>TXN_DATE</th>\n",
       "      <th>PAID_AMOUNT</th>\n",
       "      <th>BILL_AMOUNT</th>\n",
       "      <th>OID</th>\n",
       "      <th>month_yr</th>\n",
       "    </tr>\n",
       "  </thead>\n",
       "  <tbody>\n",
       "    <tr>\n",
       "      <td>0</td>\n",
       "      <td>3</td>\n",
       "      <td>2020-05-01 14:10:27</td>\n",
       "      <td>None</td>\n",
       "      <td>0.0000</td>\n",
       "      <td>1</td>\n",
       "      <td>May-2020</td>\n",
       "    </tr>\n",
       "    <tr>\n",
       "      <td>1</td>\n",
       "      <td>18</td>\n",
       "      <td>2020-05-05 17:15:50</td>\n",
       "      <td>0.0000</td>\n",
       "      <td>0.0000</td>\n",
       "      <td>4</td>\n",
       "      <td>May-2020</td>\n",
       "    </tr>\n",
       "    <tr>\n",
       "      <td>2</td>\n",
       "      <td>15</td>\n",
       "      <td>2020-05-08 10:46:50</td>\n",
       "      <td>None</td>\n",
       "      <td>0.0000</td>\n",
       "      <td>5</td>\n",
       "      <td>May-2020</td>\n",
       "    </tr>\n",
       "    <tr>\n",
       "      <td>3</td>\n",
       "      <td>4</td>\n",
       "      <td>2020-05-11 23:26:40</td>\n",
       "      <td>0.0000</td>\n",
       "      <td>0.0000</td>\n",
       "      <td>6</td>\n",
       "      <td>May-2020</td>\n",
       "    </tr>\n",
       "    <tr>\n",
       "      <td>4</td>\n",
       "      <td>4</td>\n",
       "      <td>2020-05-12 09:56:02</td>\n",
       "      <td>0.0000</td>\n",
       "      <td>0.0000</td>\n",
       "      <td>7</td>\n",
       "      <td>May-2020</td>\n",
       "    </tr>\n",
       "    <tr>\n",
       "      <td>...</td>\n",
       "      <td>...</td>\n",
       "      <td>...</td>\n",
       "      <td>...</td>\n",
       "      <td>...</td>\n",
       "      <td>...</td>\n",
       "      <td>...</td>\n",
       "    </tr>\n",
       "    <tr>\n",
       "      <td>51456</td>\n",
       "      <td>153</td>\n",
       "      <td>2020-10-09 02:32:53</td>\n",
       "      <td>0.0000</td>\n",
       "      <td>0.0000</td>\n",
       "      <td>58185</td>\n",
       "      <td>Oct-2020</td>\n",
       "    </tr>\n",
       "    <tr>\n",
       "      <td>51457</td>\n",
       "      <td>153</td>\n",
       "      <td>2020-10-09 02:33:39</td>\n",
       "      <td>170.0000</td>\n",
       "      <td>170.0000</td>\n",
       "      <td>58186</td>\n",
       "      <td>Oct-2020</td>\n",
       "    </tr>\n",
       "    <tr>\n",
       "      <td>51458</td>\n",
       "      <td>6219</td>\n",
       "      <td>2020-10-09 02:42:42</td>\n",
       "      <td>0.0000</td>\n",
       "      <td>0.0000</td>\n",
       "      <td>58187</td>\n",
       "      <td>Oct-2020</td>\n",
       "    </tr>\n",
       "    <tr>\n",
       "      <td>51459</td>\n",
       "      <td>6219</td>\n",
       "      <td>2020-10-09 02:42:42</td>\n",
       "      <td>450.0000</td>\n",
       "      <td>450.0000</td>\n",
       "      <td>58188</td>\n",
       "      <td>Oct-2020</td>\n",
       "    </tr>\n",
       "    <tr>\n",
       "      <td>51460</td>\n",
       "      <td>6219</td>\n",
       "      <td>2020-10-09 02:42:43</td>\n",
       "      <td>450.0000</td>\n",
       "      <td>450.0000</td>\n",
       "      <td>58189</td>\n",
       "      <td>Oct-2020</td>\n",
       "    </tr>\n",
       "  </tbody>\n",
       "</table>\n",
       "<p>51461 rows × 6 columns</p>\n",
       "</div>"
      ],
      "text/plain": [
       "       USER_OID            TXN_DATE PAID_AMOUNT BILL_AMOUNT    OID  month_yr\n",
       "0             3 2020-05-01 14:10:27        None      0.0000      1  May-2020\n",
       "1            18 2020-05-05 17:15:50      0.0000      0.0000      4  May-2020\n",
       "2            15 2020-05-08 10:46:50        None      0.0000      5  May-2020\n",
       "3             4 2020-05-11 23:26:40      0.0000      0.0000      6  May-2020\n",
       "4             4 2020-05-12 09:56:02      0.0000      0.0000      7  May-2020\n",
       "...         ...                 ...         ...         ...    ...       ...\n",
       "51456       153 2020-10-09 02:32:53      0.0000      0.0000  58185  Oct-2020\n",
       "51457       153 2020-10-09 02:33:39    170.0000    170.0000  58186  Oct-2020\n",
       "51458      6219 2020-10-09 02:42:42      0.0000      0.0000  58187  Oct-2020\n",
       "51459      6219 2020-10-09 02:42:42    450.0000    450.0000  58188  Oct-2020\n",
       "51460      6219 2020-10-09 02:42:43    450.0000    450.0000  58189  Oct-2020\n",
       "\n",
       "[51461 rows x 6 columns]"
      ]
     },
     "execution_count": 97,
     "metadata": {},
     "output_type": "execute_result"
    }
   ],
   "source": [
    "\n",
    "#extracting month and year from Invoice date\n",
    "\n",
    "data['month_yr'] = data['TXN_DATE'].apply(lambda x: x.strftime('%b-%Y'))\n",
    "# loading data\n",
    "data"
   ]
  },
  {
   "cell_type": "code",
   "execution_count": 98,
   "metadata": {},
   "outputs": [],
   "source": [
    "# The pivot table takes the columns as input, and groups the entries into \n",
    "# a two-dimensional table in such a way that provides a multidimensional summarization of the data\n",
    "\n",
    "sale = data.pivot_table(index=['USER_OID'],columns=['month_yr'],values='BILL_AMOUNT',aggfunc='sum',fill_value=0)"
   ]
  },
  {
   "cell_type": "code",
   "execution_count": 99,
   "metadata": {},
   "outputs": [
    {
     "data": {
      "text/html": [
       "<div>\n",
       "<style scoped>\n",
       "    .dataframe tbody tr th:only-of-type {\n",
       "        vertical-align: middle;\n",
       "    }\n",
       "\n",
       "    .dataframe tbody tr th {\n",
       "        vertical-align: top;\n",
       "    }\n",
       "\n",
       "    .dataframe thead th {\n",
       "        text-align: right;\n",
       "    }\n",
       "</style>\n",
       "<table border=\"1\" class=\"dataframe\">\n",
       "  <thead>\n",
       "    <tr style=\"text-align: right;\">\n",
       "      <th>month_yr</th>\n",
       "      <th>Aug-2020</th>\n",
       "      <th>Jul-2020</th>\n",
       "      <th>Jun-2020</th>\n",
       "      <th>May-2020</th>\n",
       "      <th>Oct-2020</th>\n",
       "      <th>Sep-2020</th>\n",
       "    </tr>\n",
       "    <tr>\n",
       "      <th>USER_OID</th>\n",
       "      <th></th>\n",
       "      <th></th>\n",
       "      <th></th>\n",
       "      <th></th>\n",
       "      <th></th>\n",
       "      <th></th>\n",
       "    </tr>\n",
       "  </thead>\n",
       "  <tbody>\n",
       "    <tr>\n",
       "      <td>3</td>\n",
       "      <td>0.0000</td>\n",
       "      <td>0</td>\n",
       "      <td>0</td>\n",
       "      <td>0.0000</td>\n",
       "      <td>0</td>\n",
       "      <td>0</td>\n",
       "    </tr>\n",
       "    <tr>\n",
       "      <td>4</td>\n",
       "      <td>0.0000</td>\n",
       "      <td>475.0000</td>\n",
       "      <td>0.0000</td>\n",
       "      <td>4050.1500</td>\n",
       "      <td>0.0000</td>\n",
       "      <td>3000.0000</td>\n",
       "    </tr>\n",
       "    <tr>\n",
       "      <td>10</td>\n",
       "      <td>0</td>\n",
       "      <td>0</td>\n",
       "      <td>0</td>\n",
       "      <td>0</td>\n",
       "      <td>0</td>\n",
       "      <td>495.0000</td>\n",
       "    </tr>\n",
       "    <tr>\n",
       "      <td>12</td>\n",
       "      <td>0</td>\n",
       "      <td>0</td>\n",
       "      <td>900.0000</td>\n",
       "      <td>0</td>\n",
       "      <td>0</td>\n",
       "      <td>0</td>\n",
       "    </tr>\n",
       "    <tr>\n",
       "      <td>15</td>\n",
       "      <td>0</td>\n",
       "      <td>0</td>\n",
       "      <td>0</td>\n",
       "      <td>0.0000</td>\n",
       "      <td>0</td>\n",
       "      <td>0</td>\n",
       "    </tr>\n",
       "  </tbody>\n",
       "</table>\n",
       "</div>"
      ],
      "text/plain": [
       "month_yr Aug-2020  Jul-2020  Jun-2020   May-2020 Oct-2020   Sep-2020\n",
       "USER_OID                                                            \n",
       "3          0.0000         0         0     0.0000        0          0\n",
       "4          0.0000  475.0000    0.0000  4050.1500   0.0000  3000.0000\n",
       "10              0         0         0          0        0   495.0000\n",
       "12              0         0  900.0000          0        0          0\n",
       "15              0         0         0     0.0000        0          0"
      ]
     },
     "execution_count": 99,
     "metadata": {},
     "output_type": "execute_result"
    }
   ],
   "source": [
    "sale.head()"
   ]
  },
  {
   "cell_type": "code",
   "execution_count": null,
   "metadata": {},
   "outputs": [],
   "source": []
  },
  {
   "cell_type": "code",
   "execution_count": null,
   "metadata": {},
   "outputs": [],
   "source": []
  },
  {
   "cell_type": "code",
   "execution_count": 100,
   "metadata": {},
   "outputs": [
    {
     "data": {
      "text/html": [
       "<div>\n",
       "<style scoped>\n",
       "    .dataframe tbody tr th:only-of-type {\n",
       "        vertical-align: middle;\n",
       "    }\n",
       "\n",
       "    .dataframe tbody tr th {\n",
       "        vertical-align: top;\n",
       "    }\n",
       "\n",
       "    .dataframe thead th {\n",
       "        text-align: right;\n",
       "    }\n",
       "</style>\n",
       "<table border=\"1\" class=\"dataframe\">\n",
       "  <thead>\n",
       "    <tr style=\"text-align: right;\">\n",
       "      <th>month_yr</th>\n",
       "      <th>Aug-2020</th>\n",
       "      <th>Jul-2020</th>\n",
       "      <th>Jun-2020</th>\n",
       "      <th>May-2020</th>\n",
       "      <th>Oct-2020</th>\n",
       "      <th>Sep-2020</th>\n",
       "      <th>TCLV</th>\n",
       "    </tr>\n",
       "    <tr>\n",
       "      <th>USER_OID</th>\n",
       "      <th></th>\n",
       "      <th></th>\n",
       "      <th></th>\n",
       "      <th></th>\n",
       "      <th></th>\n",
       "      <th></th>\n",
       "      <th></th>\n",
       "    </tr>\n",
       "  </thead>\n",
       "  <tbody>\n",
       "    <tr>\n",
       "      <td>3</td>\n",
       "      <td>0.0000</td>\n",
       "      <td>0</td>\n",
       "      <td>0</td>\n",
       "      <td>0.0000</td>\n",
       "      <td>0</td>\n",
       "      <td>0</td>\n",
       "      <td>0.00</td>\n",
       "    </tr>\n",
       "    <tr>\n",
       "      <td>4</td>\n",
       "      <td>0.0000</td>\n",
       "      <td>475.0000</td>\n",
       "      <td>0.0000</td>\n",
       "      <td>4050.1500</td>\n",
       "      <td>0.0000</td>\n",
       "      <td>3000.0000</td>\n",
       "      <td>7050.15</td>\n",
       "    </tr>\n",
       "    <tr>\n",
       "      <td>10</td>\n",
       "      <td>0</td>\n",
       "      <td>0</td>\n",
       "      <td>0</td>\n",
       "      <td>0</td>\n",
       "      <td>0</td>\n",
       "      <td>495.0000</td>\n",
       "      <td>495.00</td>\n",
       "    </tr>\n",
       "    <tr>\n",
       "      <td>12</td>\n",
       "      <td>0</td>\n",
       "      <td>0</td>\n",
       "      <td>900.0000</td>\n",
       "      <td>0</td>\n",
       "      <td>0</td>\n",
       "      <td>0</td>\n",
       "      <td>900.00</td>\n",
       "    </tr>\n",
       "    <tr>\n",
       "      <td>15</td>\n",
       "      <td>0</td>\n",
       "      <td>0</td>\n",
       "      <td>0</td>\n",
       "      <td>0.0000</td>\n",
       "      <td>0</td>\n",
       "      <td>0</td>\n",
       "      <td>0.00</td>\n",
       "    </tr>\n",
       "  </tbody>\n",
       "</table>\n",
       "</div>"
      ],
      "text/plain": [
       "month_yr Aug-2020  Jul-2020  Jun-2020   May-2020 Oct-2020   Sep-2020     TCLV\n",
       "USER_OID                                                                     \n",
       "3          0.0000         0         0     0.0000        0          0     0.00\n",
       "4          0.0000  475.0000    0.0000  4050.1500   0.0000  3000.0000  7050.15\n",
       "10              0         0         0          0        0   495.0000   495.00\n",
       "12              0         0  900.0000          0        0          0   900.00\n",
       "15              0         0         0     0.0000        0          0     0.00"
      ]
     },
     "execution_count": 100,
     "metadata": {},
     "output_type": "execute_result"
    }
   ],
   "source": [
    "#summing up the total paid amount in TCLV\n",
    "\n",
    "sale['TCLV']=sale.iloc[:,2:].sum(axis=1)\n",
    "sale.head()"
   ]
  },
  {
   "cell_type": "code",
   "execution_count": null,
   "metadata": {},
   "outputs": [],
   "source": [
    "\n"
   ]
  },
  {
   "cell_type": "code",
   "execution_count": null,
   "metadata": {},
   "outputs": [],
   "source": [
    "'''# adding columns to the dataset\n",
    "\n",
    "sale['CLV'] = data_set['CLV']\n",
    "sale['CLTV'] = data_set['cust_lifetime_value']\n",
    "sale.head()\n",
    "sale=sale.drop(['CLV'],axis=1)\n",
    "sale=sale.drop(['CLTV'],axis=1)\n",
    "'''"
   ]
  },
  {
   "cell_type": "code",
   "execution_count": null,
   "metadata": {},
   "outputs": [],
   "source": []
  },
  {
   "cell_type": "code",
   "execution_count": null,
   "metadata": {},
   "outputs": [],
   "source": []
  },
  {
   "cell_type": "code",
   "execution_count": null,
   "metadata": {},
   "outputs": [],
   "source": []
  },
  {
   "cell_type": "code",
   "execution_count": 103,
   "metadata": {},
   "outputs": [
    {
     "data": {
      "text/html": [
       "<div>\n",
       "<style scoped>\n",
       "    .dataframe tbody tr th:only-of-type {\n",
       "        vertical-align: middle;\n",
       "    }\n",
       "\n",
       "    .dataframe tbody tr th {\n",
       "        vertical-align: top;\n",
       "    }\n",
       "\n",
       "    .dataframe thead th {\n",
       "        text-align: right;\n",
       "    }\n",
       "</style>\n",
       "<table border=\"1\" class=\"dataframe\">\n",
       "  <thead>\n",
       "    <tr style=\"text-align: right;\">\n",
       "      <th>month_yr</th>\n",
       "      <th>Aug-2020</th>\n",
       "      <th>Jul-2020</th>\n",
       "      <th>Jun-2020</th>\n",
       "      <th>May-2020</th>\n",
       "      <th>Oct-2020</th>\n",
       "      <th>Sep-2020</th>\n",
       "      <th>TCLV</th>\n",
       "      <th>num_days</th>\n",
       "      <th>num_transactions</th>\n",
       "    </tr>\n",
       "    <tr>\n",
       "      <th>USER_OID</th>\n",
       "      <th></th>\n",
       "      <th></th>\n",
       "      <th></th>\n",
       "      <th></th>\n",
       "      <th></th>\n",
       "      <th></th>\n",
       "      <th></th>\n",
       "      <th></th>\n",
       "      <th></th>\n",
       "    </tr>\n",
       "  </thead>\n",
       "  <tbody>\n",
       "    <tr>\n",
       "      <td>3</td>\n",
       "      <td>0.0000</td>\n",
       "      <td>0</td>\n",
       "      <td>0</td>\n",
       "      <td>0.0000</td>\n",
       "      <td>0</td>\n",
       "      <td>0</td>\n",
       "      <td>0.00</td>\n",
       "      <td>108</td>\n",
       "      <td>13</td>\n",
       "    </tr>\n",
       "    <tr>\n",
       "      <td>4</td>\n",
       "      <td>0.0000</td>\n",
       "      <td>475.0000</td>\n",
       "      <td>0.0000</td>\n",
       "      <td>4050.1500</td>\n",
       "      <td>0.0000</td>\n",
       "      <td>3000.0000</td>\n",
       "      <td>7050.15</td>\n",
       "      <td>144</td>\n",
       "      <td>720</td>\n",
       "    </tr>\n",
       "    <tr>\n",
       "      <td>10</td>\n",
       "      <td>0</td>\n",
       "      <td>0</td>\n",
       "      <td>0</td>\n",
       "      <td>0</td>\n",
       "      <td>0</td>\n",
       "      <td>495.0000</td>\n",
       "      <td>495.00</td>\n",
       "      <td>0</td>\n",
       "      <td>6</td>\n",
       "    </tr>\n",
       "    <tr>\n",
       "      <td>12</td>\n",
       "      <td>0</td>\n",
       "      <td>0</td>\n",
       "      <td>900.0000</td>\n",
       "      <td>0</td>\n",
       "      <td>0</td>\n",
       "      <td>0</td>\n",
       "      <td>900.00</td>\n",
       "      <td>0</td>\n",
       "      <td>1</td>\n",
       "    </tr>\n",
       "    <tr>\n",
       "      <td>15</td>\n",
       "      <td>0</td>\n",
       "      <td>0</td>\n",
       "      <td>0</td>\n",
       "      <td>0.0000</td>\n",
       "      <td>0</td>\n",
       "      <td>0</td>\n",
       "      <td>0.00</td>\n",
       "      <td>0</td>\n",
       "      <td>1</td>\n",
       "    </tr>\n",
       "  </tbody>\n",
       "</table>\n",
       "</div>"
      ],
      "text/plain": [
       "month_yr Aug-2020  Jul-2020  Jun-2020   May-2020 Oct-2020   Sep-2020     TCLV  \\\n",
       "USER_OID                                                                        \n",
       "3          0.0000         0         0     0.0000        0          0     0.00   \n",
       "4          0.0000  475.0000    0.0000  4050.1500   0.0000  3000.0000  7050.15   \n",
       "10              0         0         0          0        0   495.0000   495.00   \n",
       "12              0         0  900.0000          0        0          0   900.00   \n",
       "15              0         0         0     0.0000        0          0     0.00   \n",
       "\n",
       "month_yr  num_days  num_transactions  \n",
       "USER_OID                              \n",
       "3              108                13  \n",
       "4              144               720  \n",
       "10               0                 6  \n",
       "12               0                 1  \n",
       "15               0                 1  "
      ]
     },
     "execution_count": 103,
     "metadata": {},
     "output_type": "execute_result"
    }
   ],
   "source": [
    "\n",
    "sale['num_days'] = data_set['num_days'].values\n",
    "sale['num_transactions'] = data_set['num_transactions'].values\n",
    "sale.head()\n"
   ]
  },
  {
   "cell_type": "code",
   "execution_count": 104,
   "metadata": {},
   "outputs": [
    {
     "data": {
      "text/html": [
       "<div>\n",
       "<style scoped>\n",
       "    .dataframe tbody tr th:only-of-type {\n",
       "        vertical-align: middle;\n",
       "    }\n",
       "\n",
       "    .dataframe tbody tr th {\n",
       "        vertical-align: top;\n",
       "    }\n",
       "\n",
       "    .dataframe thead th {\n",
       "        text-align: right;\n",
       "    }\n",
       "</style>\n",
       "<table border=\"1\" class=\"dataframe\">\n",
       "  <thead>\n",
       "    <tr style=\"text-align: right;\">\n",
       "      <th>month_yr</th>\n",
       "      <th>Aug-2020</th>\n",
       "      <th>Jul-2020</th>\n",
       "      <th>Jun-2020</th>\n",
       "      <th>May-2020</th>\n",
       "      <th>Oct-2020</th>\n",
       "      <th>Sep-2020</th>\n",
       "      <th>TCLV</th>\n",
       "      <th>num_days</th>\n",
       "      <th>num_transactions</th>\n",
       "      <th>CLV</th>\n",
       "    </tr>\n",
       "    <tr>\n",
       "      <th>USER_OID</th>\n",
       "      <th></th>\n",
       "      <th></th>\n",
       "      <th></th>\n",
       "      <th></th>\n",
       "      <th></th>\n",
       "      <th></th>\n",
       "      <th></th>\n",
       "      <th></th>\n",
       "      <th></th>\n",
       "      <th></th>\n",
       "    </tr>\n",
       "  </thead>\n",
       "  <tbody>\n",
       "    <tr>\n",
       "      <td>3</td>\n",
       "      <td>0.0000</td>\n",
       "      <td>0</td>\n",
       "      <td>0</td>\n",
       "      <td>0.0000</td>\n",
       "      <td>0</td>\n",
       "      <td>0</td>\n",
       "      <td>0.00</td>\n",
       "      <td>108</td>\n",
       "      <td>13</td>\n",
       "      <td>0.000000</td>\n",
       "    </tr>\n",
       "    <tr>\n",
       "      <td>4</td>\n",
       "      <td>0.0000</td>\n",
       "      <td>475.0000</td>\n",
       "      <td>0.0000</td>\n",
       "      <td>4050.1500</td>\n",
       "      <td>0.0000</td>\n",
       "      <td>3000.0000</td>\n",
       "      <td>7050.15</td>\n",
       "      <td>144</td>\n",
       "      <td>720</td>\n",
       "      <td>728.901733</td>\n",
       "    </tr>\n",
       "    <tr>\n",
       "      <td>10</td>\n",
       "      <td>0</td>\n",
       "      <td>0</td>\n",
       "      <td>0</td>\n",
       "      <td>0</td>\n",
       "      <td>0</td>\n",
       "      <td>495.0000</td>\n",
       "      <td>495.00</td>\n",
       "      <td>0</td>\n",
       "      <td>6</td>\n",
       "      <td>6135.162598</td>\n",
       "    </tr>\n",
       "    <tr>\n",
       "      <td>12</td>\n",
       "      <td>0</td>\n",
       "      <td>0</td>\n",
       "      <td>900.0000</td>\n",
       "      <td>0</td>\n",
       "      <td>0</td>\n",
       "      <td>0</td>\n",
       "      <td>900.00</td>\n",
       "      <td>0</td>\n",
       "      <td>1</td>\n",
       "      <td>66929.046875</td>\n",
       "    </tr>\n",
       "    <tr>\n",
       "      <td>15</td>\n",
       "      <td>0</td>\n",
       "      <td>0</td>\n",
       "      <td>0</td>\n",
       "      <td>0.0000</td>\n",
       "      <td>0</td>\n",
       "      <td>0</td>\n",
       "      <td>0.00</td>\n",
       "      <td>0</td>\n",
       "      <td>1</td>\n",
       "      <td>0.000000</td>\n",
       "    </tr>\n",
       "  </tbody>\n",
       "</table>\n",
       "</div>"
      ],
      "text/plain": [
       "month_yr Aug-2020  Jul-2020  Jun-2020   May-2020 Oct-2020   Sep-2020     TCLV  \\\n",
       "USER_OID                                                                        \n",
       "3          0.0000         0         0     0.0000        0          0     0.00   \n",
       "4          0.0000  475.0000    0.0000  4050.1500   0.0000  3000.0000  7050.15   \n",
       "10              0         0         0          0        0   495.0000   495.00   \n",
       "12              0         0  900.0000          0        0          0   900.00   \n",
       "15              0         0         0     0.0000        0          0     0.00   \n",
       "\n",
       "month_yr  num_days  num_transactions           CLV  \n",
       "USER_OID                                            \n",
       "3              108                13      0.000000  \n",
       "4              144               720    728.901733  \n",
       "10               0                 6   6135.162598  \n",
       "12               0                 1  66929.046875  \n",
       "15               0                 1      0.000000  "
      ]
     },
     "execution_count": 104,
     "metadata": {},
     "output_type": "execute_result"
    }
   ],
   "source": [
    "sale['CLV'] = data_set['CLV']\n",
    "sale.head()"
   ]
  },
  {
   "cell_type": "code",
   "execution_count": 136,
   "metadata": {},
   "outputs": [
    {
     "data": {
      "text/html": [
       "<div>\n",
       "<style scoped>\n",
       "    .dataframe tbody tr th:only-of-type {\n",
       "        vertical-align: middle;\n",
       "    }\n",
       "\n",
       "    .dataframe tbody tr th {\n",
       "        vertical-align: top;\n",
       "    }\n",
       "\n",
       "    .dataframe thead th {\n",
       "        text-align: right;\n",
       "    }\n",
       "</style>\n",
       "<table border=\"1\" class=\"dataframe\">\n",
       "  <thead>\n",
       "    <tr style=\"text-align: right;\">\n",
       "      <th>month_yr</th>\n",
       "      <th>num_days</th>\n",
       "      <th>num_transactions</th>\n",
       "      <th>CLV</th>\n",
       "    </tr>\n",
       "  </thead>\n",
       "  <tbody>\n",
       "    <tr>\n",
       "      <td>count</td>\n",
       "      <td>3157.000000</td>\n",
       "      <td>3157.000000</td>\n",
       "      <td>3157.000000</td>\n",
       "    </tr>\n",
       "    <tr>\n",
       "      <td>mean</td>\n",
       "      <td>38.362369</td>\n",
       "      <td>16.300602</td>\n",
       "      <td>18199.628906</td>\n",
       "    </tr>\n",
       "    <tr>\n",
       "      <td>std</td>\n",
       "      <td>35.108204</td>\n",
       "      <td>28.494978</td>\n",
       "      <td>30238.634766</td>\n",
       "    </tr>\n",
       "    <tr>\n",
       "      <td>min</td>\n",
       "      <td>0.000000</td>\n",
       "      <td>1.000000</td>\n",
       "      <td>0.000000</td>\n",
       "    </tr>\n",
       "    <tr>\n",
       "      <td>25%</td>\n",
       "      <td>0.000000</td>\n",
       "      <td>2.000000</td>\n",
       "      <td>3868.011475</td>\n",
       "    </tr>\n",
       "    <tr>\n",
       "      <td>50%</td>\n",
       "      <td>32.000000</td>\n",
       "      <td>6.000000</td>\n",
       "      <td>10330.191406</td>\n",
       "    </tr>\n",
       "    <tr>\n",
       "      <td>75%</td>\n",
       "      <td>72.000000</td>\n",
       "      <td>20.000000</td>\n",
       "      <td>21975.035156</td>\n",
       "    </tr>\n",
       "    <tr>\n",
       "      <td>max</td>\n",
       "      <td>144.000000</td>\n",
       "      <td>720.000000</td>\n",
       "      <td>660248.875000</td>\n",
       "    </tr>\n",
       "  </tbody>\n",
       "</table>\n",
       "</div>"
      ],
      "text/plain": [
       "month_yr     num_days  num_transactions            CLV\n",
       "count     3157.000000       3157.000000    3157.000000\n",
       "mean        38.362369         16.300602   18199.628906\n",
       "std         35.108204         28.494978   30238.634766\n",
       "min          0.000000          1.000000       0.000000\n",
       "25%          0.000000          2.000000    3868.011475\n",
       "50%         32.000000          6.000000   10330.191406\n",
       "75%         72.000000         20.000000   21975.035156\n",
       "max        144.000000        720.000000  660248.875000"
      ]
     },
     "execution_count": 136,
     "metadata": {},
     "output_type": "execute_result"
    }
   ],
   "source": [
    "sale.describe()"
   ]
  },
  {
   "cell_type": "code",
   "execution_count": 110,
   "metadata": {},
   "outputs": [
    {
     "name": "stdout",
     "output_type": "stream",
     "text": [
      "month_yr\n",
      "Aug-2020            False\n",
      "Jul-2020            False\n",
      "Jun-2020            False\n",
      "May-2020            False\n",
      "Oct-2020            False\n",
      "Sep-2020            False\n",
      "num_days            False\n",
      "num_transactions    False\n",
      "CLV                 False\n",
      "dtype: bool\n"
     ]
    }
   ],
   "source": [
    " ##sale = sale.drop(['TCLV'], axis=1)\n",
    "na_values = pd.isna(sale) # Boolean DataFrame\n",
    "na_features = na_values.any() # Boolean Series\n",
    "print(na_features)"
   ]
  },
  {
   "cell_type": "code",
   "execution_count": 109,
   "metadata": {},
   "outputs": [
    {
     "data": {
      "text/html": [
       "<div>\n",
       "<style scoped>\n",
       "    .dataframe tbody tr th:only-of-type {\n",
       "        vertical-align: middle;\n",
       "    }\n",
       "\n",
       "    .dataframe tbody tr th {\n",
       "        vertical-align: top;\n",
       "    }\n",
       "\n",
       "    .dataframe thead th {\n",
       "        text-align: right;\n",
       "    }\n",
       "</style>\n",
       "<table border=\"1\" class=\"dataframe\">\n",
       "  <thead>\n",
       "    <tr style=\"text-align: right;\">\n",
       "      <th>month_yr</th>\n",
       "      <th>Aug-2020</th>\n",
       "      <th>Jul-2020</th>\n",
       "      <th>Jun-2020</th>\n",
       "      <th>May-2020</th>\n",
       "      <th>Oct-2020</th>\n",
       "      <th>Sep-2020</th>\n",
       "      <th>num_days</th>\n",
       "      <th>num_transactions</th>\n",
       "      <th>CLV</th>\n",
       "    </tr>\n",
       "    <tr>\n",
       "      <th>USER_OID</th>\n",
       "      <th></th>\n",
       "      <th></th>\n",
       "      <th></th>\n",
       "      <th></th>\n",
       "      <th></th>\n",
       "      <th></th>\n",
       "      <th></th>\n",
       "      <th></th>\n",
       "      <th></th>\n",
       "    </tr>\n",
       "  </thead>\n",
       "  <tbody>\n",
       "    <tr>\n",
       "      <td>3</td>\n",
       "      <td>0.0000</td>\n",
       "      <td>0</td>\n",
       "      <td>0</td>\n",
       "      <td>0.0000</td>\n",
       "      <td>0</td>\n",
       "      <td>0</td>\n",
       "      <td>108</td>\n",
       "      <td>13</td>\n",
       "      <td>0.000000</td>\n",
       "    </tr>\n",
       "    <tr>\n",
       "      <td>4</td>\n",
       "      <td>0.0000</td>\n",
       "      <td>475.0000</td>\n",
       "      <td>0.0000</td>\n",
       "      <td>4050.1500</td>\n",
       "      <td>0.0000</td>\n",
       "      <td>3000.0000</td>\n",
       "      <td>144</td>\n",
       "      <td>720</td>\n",
       "      <td>728.901733</td>\n",
       "    </tr>\n",
       "    <tr>\n",
       "      <td>10</td>\n",
       "      <td>0</td>\n",
       "      <td>0</td>\n",
       "      <td>0</td>\n",
       "      <td>0</td>\n",
       "      <td>0</td>\n",
       "      <td>495.0000</td>\n",
       "      <td>0</td>\n",
       "      <td>6</td>\n",
       "      <td>6135.162598</td>\n",
       "    </tr>\n",
       "    <tr>\n",
       "      <td>12</td>\n",
       "      <td>0</td>\n",
       "      <td>0</td>\n",
       "      <td>900.0000</td>\n",
       "      <td>0</td>\n",
       "      <td>0</td>\n",
       "      <td>0</td>\n",
       "      <td>0</td>\n",
       "      <td>1</td>\n",
       "      <td>66929.046875</td>\n",
       "    </tr>\n",
       "    <tr>\n",
       "      <td>15</td>\n",
       "      <td>0</td>\n",
       "      <td>0</td>\n",
       "      <td>0</td>\n",
       "      <td>0.0000</td>\n",
       "      <td>0</td>\n",
       "      <td>0</td>\n",
       "      <td>0</td>\n",
       "      <td>1</td>\n",
       "      <td>0.000000</td>\n",
       "    </tr>\n",
       "  </tbody>\n",
       "</table>\n",
       "</div>"
      ],
      "text/plain": [
       "month_yr Aug-2020  Jul-2020  Jun-2020   May-2020 Oct-2020   Sep-2020  \\\n",
       "USER_OID                                                               \n",
       "3          0.0000         0         0     0.0000        0          0   \n",
       "4          0.0000  475.0000    0.0000  4050.1500   0.0000  3000.0000   \n",
       "10              0         0         0          0        0   495.0000   \n",
       "12              0         0  900.0000          0        0          0   \n",
       "15              0         0         0     0.0000        0          0   \n",
       "\n",
       "month_yr  num_days  num_transactions           CLV  \n",
       "USER_OID                                            \n",
       "3              108                13      0.000000  \n",
       "4              144               720    728.901733  \n",
       "10               0                 6   6135.162598  \n",
       "12               0                 1  66929.046875  \n",
       "15               0                 1      0.000000  "
      ]
     },
     "execution_count": 109,
     "metadata": {},
     "output_type": "execute_result"
    }
   ],
   "source": [
    "sale.head()"
   ]
  },
  {
   "cell_type": "code",
   "execution_count": null,
   "metadata": {},
   "outputs": [],
   "source": []
  },
  {
   "cell_type": "markdown",
   "metadata": {},
   "source": [
    "### Feature scaling"
   ]
  },
  {
   "cell_type": "code",
   "execution_count": 159,
   "metadata": {},
   "outputs": [
    {
     "data": {
      "text/plain": [
       "array([[0.00000000e+00, 0.00000000e+00, 0.00000000e+00, ...,\n",
       "        9.92833273e-01, 1.19507709e-01, 0.00000000e+00],\n",
       "       [0.00000000e+00, 9.19263082e-02, 0.00000000e+00, ...,\n",
       "        2.78681861e-02, 1.39340930e-01, 1.41063674e-01],\n",
       "       [0.00000000e+00, 0.00000000e+00, 0.00000000e+00, ...,\n",
       "        0.00000000e+00, 9.74801061e-04, 9.96760502e-01],\n",
       "       ...,\n",
       "       [0.00000000e+00, 0.00000000e+00, 0.00000000e+00, ...,\n",
       "        0.00000000e+00, 4.62024611e-05, 9.99839305e-01],\n",
       "       [0.00000000e+00, 0.00000000e+00, 0.00000000e+00, ...,\n",
       "        0.00000000e+00, 1.34952644e-03, 0.00000000e+00],\n",
       "       [0.00000000e+00, 0.00000000e+00, 0.00000000e+00, ...,\n",
       "        0.00000000e+00, 1.24843848e-03, 0.00000000e+00]])"
      ]
     },
     "execution_count": 159,
     "metadata": {},
     "output_type": "execute_result"
    }
   ],
   "source": [
    "from sklearn.preprocessing import Normalizer\n",
    "normalizer = Normalizer()\n",
    "\n",
    "normalizer.fit_transform(sale)"
   ]
  },
  {
   "cell_type": "code",
   "execution_count": 147,
   "metadata": {},
   "outputs": [
    {
     "data": {
      "text/plain": [
       "array([[ 0.        ,  0.        ,  0.        , ...,  1.05555556,\n",
       "         0.38888889, -0.57050742],\n",
       "       [ 0.        ,  2.15909091,  0.        , ...,  1.55555556,\n",
       "        39.66666667, -0.53025223],\n",
       "       [ 0.        ,  0.        ,  0.        , ..., -0.44444444,\n",
       "         0.        , -0.23167964],\n",
       "       ...,\n",
       "       [ 0.        ,  0.        ,  0.        , ..., -0.44444444,\n",
       "        -0.27777778,  0.6246305 ],\n",
       "       [ 0.        ,  0.        ,  0.        , ..., -0.44444444,\n",
       "        -0.27777778, -0.57050742],\n",
       "       [ 0.        ,  0.        ,  0.        , ..., -0.44444444,\n",
       "        -0.27777778, -0.57050742]])"
      ]
     },
     "execution_count": 147,
     "metadata": {},
     "output_type": "execute_result"
    }
   ],
   "source": [
    "from sklearn.preprocessing import RobustScaler\n",
    "robust_scaler = RobustScaler()\n",
    "robust_scaler.fit_transform(sale)"
   ]
  },
  {
   "cell_type": "code",
   "execution_count": 160,
   "metadata": {},
   "outputs": [],
   "source": [
    "X = sale[['May-2020', 'Jun-2020', 'Jul-2020', 'Aug-2020', 'Sep-2020', 'Oct-2020','num_days'\t,'num_transactions']]\n",
    "y = sale['CLV'].values.astype(int)"
   ]
  },
  {
   "cell_type": "markdown",
   "metadata": {},
   "source": [
    "### Spliting data"
   ]
  },
  {
   "cell_type": "code",
   "execution_count": 161,
   "metadata": {},
   "outputs": [],
   "source": [
    "#split training set and test set\n",
    "\n",
    "from sklearn.model_selection import train_test_split\n",
    "X_train, X_test, y_train, y_test = train_test_split(X, y,random_state=15)"
   ]
  },
  {
   "cell_type": "code",
   "execution_count": null,
   "metadata": {},
   "outputs": [],
   "source": []
  },
  {
   "cell_type": "code",
   "execution_count": 150,
   "metadata": {},
   "outputs": [],
   "source": [
    "#normalization\n",
    "from sklearn.preprocessing import MinMaxScaler\n",
    "#norm = MinMaxScaler().fit(X_train)\n",
    "#X_train = norm.transform(X_train)\n",
    "#X_test = norm.transform(X_test)\n"
   ]
  },
  {
   "cell_type": "code",
   "execution_count": 151,
   "metadata": {},
   "outputs": [
    {
     "name": "stdout",
     "output_type": "stream",
     "text": [
      "(2367,)\n"
     ]
    }
   ],
   "source": [
    "print(y_train.shape)"
   ]
  },
  {
   "cell_type": "markdown",
   "metadata": {},
   "source": [
    "### Model Development "
   ]
  },
  {
   "cell_type": "code",
   "execution_count": 162,
   "metadata": {},
   "outputs": [],
   "source": [
    "# import model\n",
    "from sklearn.linear_model import LinearRegression\n",
    "\n",
    "# instantiate\n",
    "linreg = LinearRegression()\n",
    "\n",
    "# fit the model to the training data \n",
    "linreg.fit(X_train, y_train)\n",
    "\n",
    "# make predictions on the testing set\n",
    "y_pred = linreg.predict(X_test)"
   ]
  },
  {
   "cell_type": "code",
   "execution_count": 163,
   "metadata": {},
   "outputs": [
    {
     "data": {
      "text/plain": [
       "-0.028051971389184246"
      ]
     },
     "execution_count": 163,
     "metadata": {},
     "output_type": "execute_result"
    }
   ],
   "source": [
    "linreg.score(X_test_norm, y_test)"
   ]
  },
  {
   "cell_type": "code",
   "execution_count": 164,
   "metadata": {
    "scrolled": true
   },
   "outputs": [
    {
     "name": "stdout",
     "output_type": "stream",
     "text": [
      "(790,)\n"
     ]
    }
   ],
   "source": [
    "print(y_pred.shape)"
   ]
  },
  {
   "cell_type": "code",
   "execution_count": 117,
   "metadata": {},
   "outputs": [],
   "source": [
    "from sklearn.metrics import confusion_matrix\n",
    "\n",
    "\n",
    "def plot_confusion_metrix(cm, classes,\n",
    "                          normalize=False,\n",
    "                          title='Confusion Matrix', \n",
    "                          cmap = plt.cm.Blues):\n",
    "  plt.imshow(cm, interpolation='nearest', cmap=cmap)\n",
    "  plt.title(title)\n",
    "  plt.colorbar()\n",
    "  tick_marks = np.arange(len(classes))\n",
    "  plt.xticks(tick_marks, classes, rotation=45)\n",
    "  plt.yticks(tick_marks,classes)\n",
    "\n",
    "  if normalize:\n",
    "    cm = cm.astype('float') / cm.sum(axis=1)[:,np.newaxis]\n",
    "    print('Normalized confusion matrix')\n",
    "\n",
    "  else:\n",
    "    print('Confusion matrix, without normalization')\n",
    "\n",
    "  print(cm)\n",
    "\n",
    "  thresh = cm.max()/2\n",
    "  for i,j in itertools.product(range(cm.shape[0]),range(cm.shape[1])):\n",
    "    plt.text(j,i, cm[i,j],\n",
    "             horizontalalignment='center',\n",
    "             color='white' if cm[i,j]>thresh else 'black')\n",
    "  plt.tight_layout()\n",
    "  plt.ylabel('True label')\n",
    "  plt.xlabel('Predicted label')\n"
   ]
  },
  {
   "cell_type": "code",
   "execution_count": null,
   "metadata": {},
   "outputs": [],
   "source": []
  },
  {
   "cell_type": "code",
   "execution_count": 165,
   "metadata": {},
   "outputs": [
    {
     "name": "stdout",
     "output_type": "stream",
     "text": [
      "22459.47225141699\n",
      "[ 7.03709522e+01 -7.05828910e+00  1.71221949e+00  3.57496395e+00\n",
      "  3.03627474e-01  6.21761053e+00 -1.06897534e+02 -4.17862607e+02]\n"
     ]
    }
   ],
   "source": [
    "# print the intercept and coefficients\n",
    "print(linreg.intercept_)\n",
    "print(linreg.coef_)"
   ]
  },
  {
   "cell_type": "markdown",
   "metadata": {},
   "source": [
    "### How Well Does the Model Fit the data? "
   ]
  },
  {
   "cell_type": "code",
   "execution_count": 166,
   "metadata": {},
   "outputs": [
    {
     "name": "stdout",
     "output_type": "stream",
     "text": [
      "R-Square: 0.11743147765147999\n"
     ]
    }
   ],
   "source": [
    "from sklearn import metrics\n",
    "\n",
    "# compute the R Square for model\n",
    "print(\"R-Square:\",metrics.r2_score(y_test, y_pred))"
   ]
  },
  {
   "cell_type": "code",
   "execution_count": 167,
   "metadata": {},
   "outputs": [
    {
     "name": "stdout",
     "output_type": "stream",
     "text": [
      "MAE: 13478.93638609379\n",
      "MSE 736972662.8452682\n",
      "RMSE: 27147.240427809014\n"
     ]
    }
   ],
   "source": [
    "print('MAE:',metrics.mean_absolute_error(y_test,y_pred))\n",
    "\n",
    "print('MSE',metrics.mean_squared_error(y_test, y_pred))\n",
    "\n",
    "print('RMSE:',np.sqrt(metrics.mean_squared_error(y_test, y_pred)))"
   ]
  },
  {
   "cell_type": "code",
   "execution_count": null,
   "metadata": {},
   "outputs": [],
   "source": []
  },
  {
   "cell_type": "code",
   "execution_count": 157,
   "metadata": {},
   "outputs": [
    {
     "name": "stderr",
     "output_type": "stream",
     "text": [
      "C:\\ProgramData\\Anaconda3\\lib\\site-packages\\sklearn\\linear_model\\logistic.py:432: FutureWarning: Default solver will be changed to 'lbfgs' in 0.22. Specify a solver to silence this warning.\n",
      "  FutureWarning)\n",
      "C:\\ProgramData\\Anaconda3\\lib\\site-packages\\sklearn\\linear_model\\logistic.py:469: FutureWarning: Default multi_class will be changed to 'auto' in 0.22. Specify the multi_class option to silence this warning.\n",
      "  \"this warning.\", FutureWarning)\n"
     ]
    },
    {
     "name": "stdout",
     "output_type": "stream",
     "text": [
      "[[84  0  0 ...  0  0  0]\n",
      " [ 1  0  0 ...  0  0  0]\n",
      " [ 1  0  0 ...  0  0  0]\n",
      " ...\n",
      " [ 0  0  0 ...  0  0  0]\n",
      " [ 0  0  0 ...  0  0  0]\n",
      " [ 0  0  0 ...  0  0  0]]\n"
     ]
    },
    {
     "name": "stderr",
     "output_type": "stream",
     "text": [
      "C:\\ProgramData\\Anaconda3\\lib\\site-packages\\sklearn\\svm\\base.py:929: ConvergenceWarning: Liblinear failed to converge, increase the number of iterations.\n",
      "  \"the number of iterations.\", ConvergenceWarning)\n"
     ]
    }
   ],
   "source": [
    "## using logistic regression\n",
    "\n",
    "from sklearn.model_selection import train_test_split\n",
    "a_train, a_test, b_train, b_test = train_test_split(X, y, test_size = 0.25, random_state = 0)\n",
    "\n",
    "'''# Feature Scaling\n",
    "from sklearn.preprocessing import StandardScaler\n",
    "sc = StandardScaler()\n",
    "a_train = sc.fit_transform(a_train)\n",
    "a_test = sc.transform(a_test)'''\n",
    "\n",
    "# Fitting Logistic Regression to the Training set\n",
    "from sklearn.linear_model import LogisticRegression\n",
    "classifier = LogisticRegression(random_state = 0)\n",
    "classifier.fit(a_train, b_train)\n",
    "\n",
    "# Predicting the Test set results\n",
    "b_pred = classifier.predict(a_test)\n",
    "\n",
    "# Making the Confusion Matrix\n",
    "from sklearn.metrics import confusion_matrix\n",
    "cm = confusion_matrix(b_test, b_pred)\n",
    "print(cm)\n"
   ]
  },
  {
   "cell_type": "code",
   "execution_count": 124,
   "metadata": {},
   "outputs": [],
   "source": [
    "#cm = confusion_matrix(b_test,b_pred)\n",
    "#cm_plot_labels = ['true','false']\n",
    "#plot_confusion_metrix(cm=cm, classes=cm_plot_labels, title='Confusion Matrix')"
   ]
  },
  {
   "cell_type": "code",
   "execution_count": 158,
   "metadata": {},
   "outputs": [
    {
     "data": {
      "text/plain": [
       "0.10632911392405063"
      ]
     },
     "execution_count": 158,
     "metadata": {},
     "output_type": "execute_result"
    }
   ],
   "source": [
    "from sklearn.metrics import accuracy_score\n",
    "accuracy_score(b_test, b_pred)"
   ]
  },
  {
   "cell_type": "code",
   "execution_count": null,
   "metadata": {},
   "outputs": [],
   "source": [
    "\n"
   ]
  },
  {
   "cell_type": "code",
   "execution_count": null,
   "metadata": {},
   "outputs": [],
   "source": []
  },
  {
   "cell_type": "code",
   "execution_count": null,
   "metadata": {},
   "outputs": [],
   "source": []
  },
  {
   "cell_type": "code",
   "execution_count": null,
   "metadata": {},
   "outputs": [],
   "source": []
  }
 ],
 "metadata": {
  "kernelspec": {
   "display_name": "Python 3",
   "language": "python",
   "name": "python3"
  },
  "language_info": {
   "codemirror_mode": {
    "name": "ipython",
    "version": 3
   },
   "file_extension": ".py",
   "mimetype": "text/x-python",
   "name": "python",
   "nbconvert_exporter": "python",
   "pygments_lexer": "ipython3",
   "version": "3.7.7"
  }
 },
 "nbformat": 4,
 "nbformat_minor": 2
}
