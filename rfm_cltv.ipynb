{
 "cells": [
  {
   "cell_type": "code",
   "execution_count": 6,
   "metadata": {},
   "outputs": [
    {
     "name": "stdout",
     "output_type": "stream",
     "text": [
      "Collecting lifetimes\n",
      "  Using cached https://files.pythonhosted.org/packages/c5/1f/ee6a471dcb5cb2f4dbc219023e07991f3b917875f9c8a5f5d77c00ddabca/Lifetimes-0.11.3-py3-none-any.whl\n",
      "Requirement already satisfied: autograd>=1.2.0 in c:\\programdata\\anaconda3\\lib\\site-packages (from lifetimes) (1.3)\n",
      "Requirement already satisfied: pandas>=0.24.0 in c:\\programdata\\anaconda3\\lib\\site-packages (from lifetimes) (0.25.1)\n",
      "Requirement already satisfied: dill>=0.2.6 in c:\\programdata\\anaconda3\\lib\\site-packages (from lifetimes) (0.3.2)\n",
      "Requirement already satisfied: numpy>=1.10.0 in c:\\programdata\\anaconda3\\lib\\site-packages (from lifetimes) (1.16.5)\n",
      "Requirement already satisfied: scipy>=1.0.0 in c:\\programdata\\anaconda3\\lib\\site-packages (from lifetimes) (1.3.1)\n",
      "Requirement already satisfied: future>=0.15.2 in c:\\programdata\\anaconda3\\lib\\site-packages (from autograd>=1.2.0->lifetimes) (0.17.1)\n",
      "Requirement already satisfied: pytz>=2017.2 in c:\\programdata\\anaconda3\\lib\\site-packages (from pandas>=0.24.0->lifetimes) (2019.3)\n",
      "Requirement already satisfied: python-dateutil>=2.6.1 in c:\\programdata\\anaconda3\\lib\\site-packages (from pandas>=0.24.0->lifetimes) (2.8.0)\n",
      "Requirement already satisfied: six>=1.5 in c:\\programdata\\anaconda3\\lib\\site-packages (from python-dateutil>=2.6.1->pandas>=0.24.0->lifetimes) (1.12.0)\n",
      "Installing collected packages: lifetimes\n",
      "Successfully installed lifetimes-0.11.3\n",
      "Note: you may need to restart the kernel to use updated packages.\n"
     ]
    }
   ],
   "source": [
    "pip install lifetimes --user"
   ]
  },
  {
   "cell_type": "code",
   "execution_count": 1,
   "metadata": {},
   "outputs": [],
   "source": [
    "#importing libraries\n",
    "#!/usr/bin/env python2\n",
    "import pandas as pd\n",
    "from matplotlib import pyplot as plt \n",
    "%matplotlib inline\n",
    "from lifetimes import plotting\n",
    "from lifetimes import utils\n",
    "from lifetimes import BetaGeoFitter\n",
    "from lifetimes import GammaGammaFitter\n",
    "\n",
    "import seaborn as sns # for plotting graphs\n",
    "import datetime as dt\n",
    "import numpy as np\n"
   ]
  },
  {
   "cell_type": "code",
   "execution_count": null,
   "metadata": {},
   "outputs": [],
   "source": []
  },
  {
   "cell_type": "code",
   "execution_count": 2,
   "metadata": {},
   "outputs": [],
   "source": [
    "#getting connected with the data\n",
    "import os\n",
    "import pymysql\n",
    "import pandas as pd\n",
    "\n",
    "host = os.getenv('MYSQL_HOST')\n",
    "port = os.getenv('MYSQL_PORT')\n",
    "user = os.getenv('MYSQL_USER')\n",
    "password = os.getenv('MYSQL_PASSWORD')\n",
    "database = os.getenv('MYSQL_DATABASE')\n",
    "\n",
    "conn = pymysql.connect(\n",
    "    host='20.46.45.108',\n",
    "    port=int(3306),\n",
    "    user=\"datauser\",\n",
    "    passwd='waslRp@098',\n",
    "    db=\"wasldb\",\n",
    "    charset='utf8mb4')"
   ]
  },
  {
   "cell_type": "code",
   "execution_count": 4,
   "metadata": {},
   "outputs": [
    {
     "name": "stdout",
     "output_type": "stream",
     "text": [
      "<pymysql.connections.Connection object at 0x0000016CD2E8FCC8>\n"
     ]
    }
   ],
   "source": [
    "print(conn)"
   ]
  },
  {
   "cell_type": "code",
   "execution_count": 3,
   "metadata": {},
   "outputs": [],
   "source": [
    "# executing query to fetch data \n",
    "query=\"select USER_OID,TXN_DATE,PAID_AMOUNT,BILL_AMOUNT, OID from rp_transaction where TXN_TYPE=\"+\"'PURCHASE'\"+ \"and TXN_STATUS not in ( \"+\"'CANCELLED','PAYMENT_FAILED')\"\n",
    "cursor = conn.cursor()\n",
    "data=cursor.execute(query)\n",
    "df = pd.DataFrame(cursor.fetchall())"
   ]
  },
  {
   "cell_type": "code",
   "execution_count": 5,
   "metadata": {},
   "outputs": [
    {
     "data": {
      "text/html": [
       "<div>\n",
       "<style scoped>\n",
       "    .dataframe tbody tr th:only-of-type {\n",
       "        vertical-align: middle;\n",
       "    }\n",
       "\n",
       "    .dataframe tbody tr th {\n",
       "        vertical-align: top;\n",
       "    }\n",
       "\n",
       "    .dataframe thead th {\n",
       "        text-align: right;\n",
       "    }\n",
       "</style>\n",
       "<table border=\"1\" class=\"dataframe\">\n",
       "  <thead>\n",
       "    <tr style=\"text-align: right;\">\n",
       "      <th></th>\n",
       "      <th>0</th>\n",
       "      <th>1</th>\n",
       "      <th>2</th>\n",
       "      <th>3</th>\n",
       "      <th>4</th>\n",
       "    </tr>\n",
       "  </thead>\n",
       "  <tbody>\n",
       "    <tr>\n",
       "      <td>0</td>\n",
       "      <td>3</td>\n",
       "      <td>2020-05-01 14:10:27</td>\n",
       "      <td>None</td>\n",
       "      <td>0.0000</td>\n",
       "      <td>1</td>\n",
       "    </tr>\n",
       "    <tr>\n",
       "      <td>1</td>\n",
       "      <td>18</td>\n",
       "      <td>2020-05-05 17:15:50</td>\n",
       "      <td>0.0000</td>\n",
       "      <td>0.0000</td>\n",
       "      <td>4</td>\n",
       "    </tr>\n",
       "    <tr>\n",
       "      <td>2</td>\n",
       "      <td>15</td>\n",
       "      <td>2020-05-08 10:46:50</td>\n",
       "      <td>None</td>\n",
       "      <td>0.0000</td>\n",
       "      <td>5</td>\n",
       "    </tr>\n",
       "    <tr>\n",
       "      <td>3</td>\n",
       "      <td>4</td>\n",
       "      <td>2020-05-11 23:26:40</td>\n",
       "      <td>0.0000</td>\n",
       "      <td>0.0000</td>\n",
       "      <td>6</td>\n",
       "    </tr>\n",
       "    <tr>\n",
       "      <td>4</td>\n",
       "      <td>4</td>\n",
       "      <td>2020-05-12 09:56:02</td>\n",
       "      <td>0.0000</td>\n",
       "      <td>0.0000</td>\n",
       "      <td>7</td>\n",
       "    </tr>\n",
       "  </tbody>\n",
       "</table>\n",
       "</div>"
      ],
      "text/plain": [
       "    0                   1       2       3  4\n",
       "0   3 2020-05-01 14:10:27    None  0.0000  1\n",
       "1  18 2020-05-05 17:15:50  0.0000  0.0000  4\n",
       "2  15 2020-05-08 10:46:50    None  0.0000  5\n",
       "3   4 2020-05-11 23:26:40  0.0000  0.0000  6\n",
       "4   4 2020-05-12 09:56:02  0.0000  0.0000  7"
      ]
     },
     "execution_count": 5,
     "metadata": {},
     "output_type": "execute_result"
    }
   ],
   "source": [
    "df.head()"
   ]
  },
  {
   "cell_type": "markdown",
   "metadata": {},
   "source": [
    "#### Data Preprocessing"
   ]
  },
  {
   "cell_type": "code",
   "execution_count": 6,
   "metadata": {},
   "outputs": [],
   "source": [
    "df.replace(to_replace=[None], value=np.nan, inplace=True)"
   ]
  },
  {
   "cell_type": "code",
   "execution_count": 7,
   "metadata": {},
   "outputs": [
    {
     "data": {
      "text/html": [
       "<div>\n",
       "<style scoped>\n",
       "    .dataframe tbody tr th:only-of-type {\n",
       "        vertical-align: middle;\n",
       "    }\n",
       "\n",
       "    .dataframe tbody tr th {\n",
       "        vertical-align: top;\n",
       "    }\n",
       "\n",
       "    .dataframe thead th {\n",
       "        text-align: right;\n",
       "    }\n",
       "</style>\n",
       "<table border=\"1\" class=\"dataframe\">\n",
       "  <thead>\n",
       "    <tr style=\"text-align: right;\">\n",
       "      <th></th>\n",
       "      <th>0</th>\n",
       "      <th>1</th>\n",
       "      <th>2</th>\n",
       "      <th>3</th>\n",
       "      <th>4</th>\n",
       "    </tr>\n",
       "  </thead>\n",
       "  <tbody>\n",
       "    <tr>\n",
       "      <td>0</td>\n",
       "      <td>3</td>\n",
       "      <td>2020-05-01 14:10:27</td>\n",
       "      <td>NaN</td>\n",
       "      <td>0.0000</td>\n",
       "      <td>1</td>\n",
       "    </tr>\n",
       "    <tr>\n",
       "      <td>1</td>\n",
       "      <td>18</td>\n",
       "      <td>2020-05-05 17:15:50</td>\n",
       "      <td>0.0000</td>\n",
       "      <td>0.0000</td>\n",
       "      <td>4</td>\n",
       "    </tr>\n",
       "    <tr>\n",
       "      <td>2</td>\n",
       "      <td>15</td>\n",
       "      <td>2020-05-08 10:46:50</td>\n",
       "      <td>NaN</td>\n",
       "      <td>0.0000</td>\n",
       "      <td>5</td>\n",
       "    </tr>\n",
       "    <tr>\n",
       "      <td>3</td>\n",
       "      <td>4</td>\n",
       "      <td>2020-05-11 23:26:40</td>\n",
       "      <td>0.0000</td>\n",
       "      <td>0.0000</td>\n",
       "      <td>6</td>\n",
       "    </tr>\n",
       "    <tr>\n",
       "      <td>4</td>\n",
       "      <td>4</td>\n",
       "      <td>2020-05-12 09:56:02</td>\n",
       "      <td>0.0000</td>\n",
       "      <td>0.0000</td>\n",
       "      <td>7</td>\n",
       "    </tr>\n",
       "  </tbody>\n",
       "</table>\n",
       "</div>"
      ],
      "text/plain": [
       "    0                   1       2       3  4\n",
       "0   3 2020-05-01 14:10:27     NaN  0.0000  1\n",
       "1  18 2020-05-05 17:15:50  0.0000  0.0000  4\n",
       "2  15 2020-05-08 10:46:50     NaN  0.0000  5\n",
       "3   4 2020-05-11 23:26:40  0.0000  0.0000  6\n",
       "4   4 2020-05-12 09:56:02  0.0000  0.0000  7"
      ]
     },
     "execution_count": 7,
     "metadata": {},
     "output_type": "execute_result"
    }
   ],
   "source": [
    "df.head()"
   ]
  },
  {
   "cell_type": "code",
   "execution_count": 8,
   "metadata": {},
   "outputs": [],
   "source": [
    "df=df.fillna(0)"
   ]
  },
  {
   "cell_type": "code",
   "execution_count": 9,
   "metadata": {},
   "outputs": [
    {
     "data": {
      "text/html": [
       "<div>\n",
       "<style scoped>\n",
       "    .dataframe tbody tr th:only-of-type {\n",
       "        vertical-align: middle;\n",
       "    }\n",
       "\n",
       "    .dataframe tbody tr th {\n",
       "        vertical-align: top;\n",
       "    }\n",
       "\n",
       "    .dataframe thead th {\n",
       "        text-align: right;\n",
       "    }\n",
       "</style>\n",
       "<table border=\"1\" class=\"dataframe\">\n",
       "  <thead>\n",
       "    <tr style=\"text-align: right;\">\n",
       "      <th></th>\n",
       "      <th>USER_OID</th>\n",
       "      <th>TXN_DATE</th>\n",
       "      <th>PAID_AMOUNT</th>\n",
       "      <th>BILL_AMOUNT</th>\n",
       "      <th>OID</th>\n",
       "    </tr>\n",
       "  </thead>\n",
       "  <tbody>\n",
       "    <tr>\n",
       "      <td>0</td>\n",
       "      <td>3</td>\n",
       "      <td>2020-05-01 14:10:27</td>\n",
       "      <td>0</td>\n",
       "      <td>0.0000</td>\n",
       "      <td>1</td>\n",
       "    </tr>\n",
       "    <tr>\n",
       "      <td>1</td>\n",
       "      <td>18</td>\n",
       "      <td>2020-05-05 17:15:50</td>\n",
       "      <td>0.0000</td>\n",
       "      <td>0.0000</td>\n",
       "      <td>4</td>\n",
       "    </tr>\n",
       "    <tr>\n",
       "      <td>2</td>\n",
       "      <td>15</td>\n",
       "      <td>2020-05-08 10:46:50</td>\n",
       "      <td>0</td>\n",
       "      <td>0.0000</td>\n",
       "      <td>5</td>\n",
       "    </tr>\n",
       "    <tr>\n",
       "      <td>3</td>\n",
       "      <td>4</td>\n",
       "      <td>2020-05-11 23:26:40</td>\n",
       "      <td>0.0000</td>\n",
       "      <td>0.0000</td>\n",
       "      <td>6</td>\n",
       "    </tr>\n",
       "    <tr>\n",
       "      <td>4</td>\n",
       "      <td>4</td>\n",
       "      <td>2020-05-12 09:56:02</td>\n",
       "      <td>0.0000</td>\n",
       "      <td>0.0000</td>\n",
       "      <td>7</td>\n",
       "    </tr>\n",
       "  </tbody>\n",
       "</table>\n",
       "</div>"
      ],
      "text/plain": [
       "   USER_OID            TXN_DATE PAID_AMOUNT BILL_AMOUNT  OID\n",
       "0         3 2020-05-01 14:10:27           0      0.0000    1\n",
       "1        18 2020-05-05 17:15:50      0.0000      0.0000    4\n",
       "2        15 2020-05-08 10:46:50           0      0.0000    5\n",
       "3         4 2020-05-11 23:26:40      0.0000      0.0000    6\n",
       "4         4 2020-05-12 09:56:02      0.0000      0.0000    7"
      ]
     },
     "execution_count": 9,
     "metadata": {},
     "output_type": "execute_result"
    }
   ],
   "source": [
    "df.columns = [\"USER_OID\", \"TXN_DATE\", \"PAID_AMOUNT\", \"BILL_AMOUNT\",\"OID\"]\n",
    "df.head()"
   ]
  },
  {
   "cell_type": "code",
   "execution_count": 10,
   "metadata": {},
   "outputs": [],
   "source": [
    "df = df[df['PAID_AMOUNT']!=0]"
   ]
  },
  {
   "cell_type": "code",
   "execution_count": 11,
   "metadata": {},
   "outputs": [
    {
     "data": {
      "text/html": [
       "<div>\n",
       "<style scoped>\n",
       "    .dataframe tbody tr th:only-of-type {\n",
       "        vertical-align: middle;\n",
       "    }\n",
       "\n",
       "    .dataframe tbody tr th {\n",
       "        vertical-align: top;\n",
       "    }\n",
       "\n",
       "    .dataframe thead th {\n",
       "        text-align: right;\n",
       "    }\n",
       "</style>\n",
       "<table border=\"1\" class=\"dataframe\">\n",
       "  <thead>\n",
       "    <tr style=\"text-align: right;\">\n",
       "      <th></th>\n",
       "      <th>USER_OID</th>\n",
       "      <th>TXN_DATE</th>\n",
       "      <th>PAID_AMOUNT</th>\n",
       "      <th>BILL_AMOUNT</th>\n",
       "      <th>OID</th>\n",
       "    </tr>\n",
       "  </thead>\n",
       "  <tbody>\n",
       "    <tr>\n",
       "      <td>12</td>\n",
       "      <td>4</td>\n",
       "      <td>2020-05-12 15:50:38</td>\n",
       "      <td>1490.0000</td>\n",
       "      <td>1490.0000</td>\n",
       "      <td>18</td>\n",
       "    </tr>\n",
       "    <tr>\n",
       "      <td>20</td>\n",
       "      <td>4</td>\n",
       "      <td>2020-05-12 22:19:20</td>\n",
       "      <td>1345.0000</td>\n",
       "      <td>1345.0000</td>\n",
       "      <td>32</td>\n",
       "    </tr>\n",
       "    <tr>\n",
       "      <td>21</td>\n",
       "      <td>4</td>\n",
       "      <td>2020-05-13 00:53:20</td>\n",
       "      <td>62.1500</td>\n",
       "      <td>62.1500</td>\n",
       "      <td>33</td>\n",
       "    </tr>\n",
       "    <tr>\n",
       "      <td>32</td>\n",
       "      <td>4</td>\n",
       "      <td>2020-05-13 17:07:31</td>\n",
       "      <td>685.0000</td>\n",
       "      <td>685.0000</td>\n",
       "      <td>49</td>\n",
       "    </tr>\n",
       "    <tr>\n",
       "      <td>92</td>\n",
       "      <td>38</td>\n",
       "      <td>2020-05-20 14:56:48</td>\n",
       "      <td>50.5000</td>\n",
       "      <td>505.0000</td>\n",
       "      <td>116</td>\n",
       "    </tr>\n",
       "    <tr>\n",
       "      <td>...</td>\n",
       "      <td>...</td>\n",
       "      <td>...</td>\n",
       "      <td>...</td>\n",
       "      <td>...</td>\n",
       "      <td>...</td>\n",
       "    </tr>\n",
       "    <tr>\n",
       "      <td>55498</td>\n",
       "      <td>3482</td>\n",
       "      <td>2020-10-14 00:02:27</td>\n",
       "      <td>262.0000</td>\n",
       "      <td>262.0000</td>\n",
       "      <td>62519</td>\n",
       "    </tr>\n",
       "    <tr>\n",
       "      <td>55499</td>\n",
       "      <td>3482</td>\n",
       "      <td>2020-10-14 00:02:47</td>\n",
       "      <td>139.0000</td>\n",
       "      <td>139.0000</td>\n",
       "      <td>62520</td>\n",
       "    </tr>\n",
       "    <tr>\n",
       "      <td>55500</td>\n",
       "      <td>3482</td>\n",
       "      <td>2020-10-14 00:03:13</td>\n",
       "      <td>328.0000</td>\n",
       "      <td>328.0000</td>\n",
       "      <td>62521</td>\n",
       "    </tr>\n",
       "    <tr>\n",
       "      <td>55504</td>\n",
       "      <td>6485</td>\n",
       "      <td>2020-10-14 01:35:19</td>\n",
       "      <td>463.0000</td>\n",
       "      <td>553.0000</td>\n",
       "      <td>62525</td>\n",
       "    </tr>\n",
       "    <tr>\n",
       "      <td>55505</td>\n",
       "      <td>8652</td>\n",
       "      <td>2020-10-14 01:48:31</td>\n",
       "      <td>150.0000</td>\n",
       "      <td>250.0000</td>\n",
       "      <td>62526</td>\n",
       "    </tr>\n",
       "  </tbody>\n",
       "</table>\n",
       "<p>24247 rows × 5 columns</p>\n",
       "</div>"
      ],
      "text/plain": [
       "       USER_OID            TXN_DATE PAID_AMOUNT BILL_AMOUNT    OID\n",
       "12            4 2020-05-12 15:50:38   1490.0000   1490.0000     18\n",
       "20            4 2020-05-12 22:19:20   1345.0000   1345.0000     32\n",
       "21            4 2020-05-13 00:53:20     62.1500     62.1500     33\n",
       "32            4 2020-05-13 17:07:31    685.0000    685.0000     49\n",
       "92           38 2020-05-20 14:56:48     50.5000    505.0000    116\n",
       "...         ...                 ...         ...         ...    ...\n",
       "55498      3482 2020-10-14 00:02:27    262.0000    262.0000  62519\n",
       "55499      3482 2020-10-14 00:02:47    139.0000    139.0000  62520\n",
       "55500      3482 2020-10-14 00:03:13    328.0000    328.0000  62521\n",
       "55504      6485 2020-10-14 01:35:19    463.0000    553.0000  62525\n",
       "55505      8652 2020-10-14 01:48:31    150.0000    250.0000  62526\n",
       "\n",
       "[24247 rows x 5 columns]"
      ]
     },
     "execution_count": 11,
     "metadata": {},
     "output_type": "execute_result"
    }
   ],
   "source": [
    "df"
   ]
  },
  {
   "cell_type": "markdown",
   "metadata": {},
   "source": [
    "#### counting customers and transactions"
   ]
  },
  {
   "cell_type": "code",
   "execution_count": 12,
   "metadata": {},
   "outputs": [
    {
     "name": "stdout",
     "output_type": "stream",
     "text": [
      "Number of customers = 2978\n",
      "Number of transactions = 24247\n"
     ]
    }
   ],
   "source": [
    "print('Number of customers = {}'.format(df['USER_OID'].nunique()))\n",
    "print('Number of transactions = {}'.format(df['TXN_DATE'].count()))"
   ]
  },
  {
   "cell_type": "code",
   "execution_count": 13,
   "metadata": {},
   "outputs": [],
   "source": [
    "df['TXN_DATE'] = pd.to_datetime(df['TXN_DATE']).dt.date\n",
    "df['USER_OID'] = df['USER_OID'].astype(str)\n",
    "df['PAID_AMOUNT'] = df['PAID_AMOUNT'].astype(int)"
   ]
  },
  {
   "cell_type": "markdown",
   "metadata": {},
   "source": [
    "# Objective\n",
    "The primary goal of this work is to build a probabilistic model for forecasting customer lifetime value in non-contractual setting on an individual level.\n",
    "\n",
    "Using the results of this exercise, managers should be able to:\n",
    "\n",
    "  - Distinguish active customers from inactive customers.\n",
    "  - Generate transaction forecasts for individual customers.\n",
    "  - Predict the purchase volume of the entire customer base.\n"
   ]
  },
  {
   "cell_type": "markdown",
   "metadata": {},
   "source": [
    "### For all models, the following nomenclature is used:\n",
    "\n",
    "•frequency represents the number of repeatpurchases the customer has made. It’s the count of time periods the customer had a purchase in. So if using days as units, then it’s the count of days the customer had a purchase on.\n",
    "\n",
    "•T represents the age of the customer in whatever time units chosen (weekly, in the above dataset). This is equal to the duration between a customer’s first purchase and the end of the period under study.\n",
    "\n",
    "•recency represents the age of the customer when they made their most recent purchases. This is equal to the duration between a customer’s first purchase and their latest purchase. (Thus if they have made only 1 purchase,the recency is 0.)\n",
    "\n",
    "•monetary_value represents the average value of a given customer’s purchases.  This is equal to the sum of all a customer’s purchases divided by the total number of purchases. Note that the denominator here is different than the frequency described above."
   ]
  },
  {
   "cell_type": "markdown",
   "metadata": {},
   "source": [
    "## RFM DATAFRAME\n",
    "\n",
    "For a customer these parameters are defined as :--\n",
    "\n",
    "frequency = total number of transaction in the year - 1\n",
    "recency = last tramsaction date - first transaction date\n",
    "T = end of observation period - first transaction date\n",
    "monetary value = mean of total amount paid by customer after first transaction"
   ]
  },
  {
   "cell_type": "code",
   "execution_count": 14,
   "metadata": {},
   "outputs": [
    {
     "data": {
      "text/html": [
       "<div>\n",
       "<style scoped>\n",
       "    .dataframe tbody tr th:only-of-type {\n",
       "        vertical-align: middle;\n",
       "    }\n",
       "\n",
       "    .dataframe tbody tr th {\n",
       "        vertical-align: top;\n",
       "    }\n",
       "\n",
       "    .dataframe thead th {\n",
       "        text-align: right;\n",
       "    }\n",
       "</style>\n",
       "<table border=\"1\" class=\"dataframe\">\n",
       "  <thead>\n",
       "    <tr style=\"text-align: right;\">\n",
       "      <th></th>\n",
       "      <th>frequency</th>\n",
       "      <th>recency</th>\n",
       "      <th>T</th>\n",
       "      <th>monetary_value</th>\n",
       "    </tr>\n",
       "    <tr>\n",
       "      <th>USER_OID</th>\n",
       "      <th></th>\n",
       "      <th></th>\n",
       "      <th></th>\n",
       "      <th></th>\n",
       "    </tr>\n",
       "  </thead>\n",
       "  <tbody>\n",
       "    <tr>\n",
       "      <td>10</td>\n",
       "      <td>0.0</td>\n",
       "      <td>0.0</td>\n",
       "      <td>22.0</td>\n",
       "      <td>0.000000</td>\n",
       "    </tr>\n",
       "    <tr>\n",
       "      <td>1000</td>\n",
       "      <td>41.0</td>\n",
       "      <td>80.0</td>\n",
       "      <td>86.0</td>\n",
       "      <td>312.756098</td>\n",
       "    </tr>\n",
       "    <tr>\n",
       "      <td>1001</td>\n",
       "      <td>8.0</td>\n",
       "      <td>85.0</td>\n",
       "      <td>98.0</td>\n",
       "      <td>564.000000</td>\n",
       "    </tr>\n",
       "    <tr>\n",
       "      <td>1002</td>\n",
       "      <td>0.0</td>\n",
       "      <td>0.0</td>\n",
       "      <td>25.0</td>\n",
       "      <td>0.000000</td>\n",
       "    </tr>\n",
       "    <tr>\n",
       "      <td>1003</td>\n",
       "      <td>11.0</td>\n",
       "      <td>81.0</td>\n",
       "      <td>92.0</td>\n",
       "      <td>365.636364</td>\n",
       "    </tr>\n",
       "    <tr>\n",
       "      <td>1004</td>\n",
       "      <td>7.0</td>\n",
       "      <td>54.0</td>\n",
       "      <td>82.0</td>\n",
       "      <td>297.428571</td>\n",
       "    </tr>\n",
       "    <tr>\n",
       "      <td>1005</td>\n",
       "      <td>0.0</td>\n",
       "      <td>0.0</td>\n",
       "      <td>64.0</td>\n",
       "      <td>0.000000</td>\n",
       "    </tr>\n",
       "    <tr>\n",
       "      <td>1006</td>\n",
       "      <td>4.0</td>\n",
       "      <td>11.0</td>\n",
       "      <td>33.0</td>\n",
       "      <td>222.500000</td>\n",
       "    </tr>\n",
       "    <tr>\n",
       "      <td>1007</td>\n",
       "      <td>12.0</td>\n",
       "      <td>90.0</td>\n",
       "      <td>93.0</td>\n",
       "      <td>299.583333</td>\n",
       "    </tr>\n",
       "    <tr>\n",
       "      <td>1008</td>\n",
       "      <td>25.0</td>\n",
       "      <td>87.0</td>\n",
       "      <td>101.0</td>\n",
       "      <td>247.480000</td>\n",
       "    </tr>\n",
       "  </tbody>\n",
       "</table>\n",
       "</div>"
      ],
      "text/plain": [
       "          frequency  recency      T  monetary_value\n",
       "USER_OID                                           \n",
       "10              0.0      0.0   22.0        0.000000\n",
       "1000           41.0     80.0   86.0      312.756098\n",
       "1001            8.0     85.0   98.0      564.000000\n",
       "1002            0.0      0.0   25.0        0.000000\n",
       "1003           11.0     81.0   92.0      365.636364\n",
       "1004            7.0     54.0   82.0      297.428571\n",
       "1005            0.0      0.0   64.0        0.000000\n",
       "1006            4.0     11.0   33.0      222.500000\n",
       "1007           12.0     90.0   93.0      299.583333\n",
       "1008           25.0     87.0  101.0      247.480000"
      ]
     },
     "execution_count": 14,
     "metadata": {},
     "output_type": "execute_result"
    }
   ],
   "source": [
    "data = utils.summary_data_from_transaction_data(\n",
    "    df,\n",
    "    'USER_OID',\n",
    "    'TXN_DATE',\n",
    "    'PAID_AMOUNT'\n",
    ")\n",
    "data.head(10)"
   ]
  },
  {
   "cell_type": "code",
   "execution_count": 23,
   "metadata": {},
   "outputs": [
    {
     "name": "stdout",
     "output_type": "stream",
     "text": [
      "count    2849.000000\n",
      "mean        5.320463\n",
      "std         7.933148\n",
      "min         0.000000\n",
      "25%         0.000000\n",
      "50%         2.000000\n",
      "75%         7.000000\n",
      "max        73.000000\n",
      "Name: frequency, dtype: float64\n",
      "30.15093015093015% of customer transacted only once\n"
     ]
    },
    {
     "data": {
      "image/png": "[encoded data removed]",
      "text/plain": [
       "<Figure size 432x288 with 1 Axes>"
      ]
     },
     "metadata": {
      "needs_background": "light"
     },
     "output_type": "display_data"
    }
   ],
   "source": [
    "data['frequency'].plot(kind='hist', bins=50)\n",
    "print(data['frequency'].describe())\n",
    "print('{}% of customer transacted only once'.format(sum(data['frequency'] == 0) * 100 / float(len(data))))"
   ]
  },
  {
   "cell_type": "markdown",
   "metadata": {},
   "source": [
    "## Model Training\n",
    "\n",
    "### applying BetaGeoFitter"
   ]
  },
  {
   "cell_type": "code",
   "execution_count": 15,
   "metadata": {},
   "outputs": [
    {
     "name": "stdout",
     "output_type": "stream",
     "text": [
      "<lifetimes.BetaGeoFitter: fitted with 2978 subjects, a: 0.01, alpha: 8.99, b: 0.43, r: 0.88>\n"
     ]
    }
   ],
   "source": [
    "bgf = BetaGeoFitter(penalizer_coef=0.01)\n",
    "bgf.fit(data['frequency'], data['recency'], data['T'])\n",
    "print(bgf)"
   ]
  },
  {
   "cell_type": "code",
   "execution_count": 27,
   "metadata": {},
   "outputs": [
    {
     "data": {
      "text/html": [
       "<div>\n",
       "<style scoped>\n",
       "    .dataframe tbody tr th:only-of-type {\n",
       "        vertical-align: middle;\n",
       "    }\n",
       "\n",
       "    .dataframe tbody tr th {\n",
       "        vertical-align: top;\n",
       "    }\n",
       "\n",
       "    .dataframe thead th {\n",
       "        text-align: right;\n",
       "    }\n",
       "</style>\n",
       "<table border=\"1\" class=\"dataframe\">\n",
       "  <thead>\n",
       "    <tr style=\"text-align: right;\">\n",
       "      <th></th>\n",
       "      <th>coef</th>\n",
       "      <th>se(coef)</th>\n",
       "      <th>lower 95% bound</th>\n",
       "      <th>upper 95% bound</th>\n",
       "    </tr>\n",
       "  </thead>\n",
       "  <tbody>\n",
       "    <tr>\n",
       "      <td>r</td>\n",
       "      <td>0.722493</td>\n",
       "      <td>0.333919</td>\n",
       "      <td>0.068012</td>\n",
       "      <td>1.376974</td>\n",
       "    </tr>\n",
       "    <tr>\n",
       "      <td>alpha</td>\n",
       "      <td>5.089963</td>\n",
       "      <td>3.157870</td>\n",
       "      <td>-1.099462</td>\n",
       "      <td>11.279389</td>\n",
       "    </tr>\n",
       "    <tr>\n",
       "      <td>a</td>\n",
       "      <td>0.001167</td>\n",
       "      <td>0.145146</td>\n",
       "      <td>-0.283319</td>\n",
       "      <td>0.285653</td>\n",
       "    </tr>\n",
       "    <tr>\n",
       "      <td>b</td>\n",
       "      <td>0.007696</td>\n",
       "      <td>0.956522</td>\n",
       "      <td>-1.867088</td>\n",
       "      <td>1.882480</td>\n",
       "    </tr>\n",
       "  </tbody>\n",
       "</table>\n",
       "</div>"
      ],
      "text/plain": [
       "           coef  se(coef)  lower 95% bound  upper 95% bound\n",
       "r      0.722493  0.333919         0.068012         1.376974\n",
       "alpha  5.089963  3.157870        -1.099462        11.279389\n",
       "a      0.001167  0.145146        -0.283319         0.285653\n",
       "b      0.007696  0.956522        -1.867088         1.882480"
      ]
     },
     "execution_count": 27,
     "metadata": {},
     "output_type": "execute_result"
    }
   ],
   "source": [
    "bgf.summary"
   ]
  },
  {
   "cell_type": "markdown",
   "metadata": {},
   "source": [
    "### Visualizing our Frequency/Recency MatrixConsider:\n",
    "\n",
    "a customer bought from you every day for three weeks straight, and we haven’t heard from them in months.What  are  the  chances  they  are  still  “alive”?   Pretty  small.   On  the  other  hand,  a  customer  who  historically  buys from you once a quarter,  and bought last quarter,  is likely still alive.   We can visualize this relationship using theFrequency/Recency matrix, which computes the expected number of transactions an artificial customer is to make in the next time period, given his or her recency (age at last purchase) and frequency (the number of repeat transactions he or she has made)\n",
    "\n",
    "We now plot the expected number of transactions a customer with given recency and frequency will do in next 1 day.\n",
    "We can see the customers at the bottom right of plot below have made a lot of repeat transactions when they quite old (yellow region).\n",
    "These are the best customers who are expected to make the highest number of transactions in the next one day."
   ]
  },
  {
   "cell_type": "code",
   "execution_count": 16,
   "metadata": {},
   "outputs": [
    {
     "data": {
      "text/plain": [
       "<matplotlib.axes._subplots.AxesSubplot at 0x16cd5c32048>"
      ]
     },
     "execution_count": 16,
     "metadata": {},
     "output_type": "execute_result"
    },
    {
     "data": {
      "image/png": "[encoded data removed]",
      "text/plain": [
       "<Figure size 432x288 with 2 Axes>"
      ]
     },
     "metadata": {
      "needs_background": "light"
     },
     "output_type": "display_data"
    }
   ],
   "source": [
    "plotting.plot_frequency_recency_matrix(bgf)"
   ]
  },
  {
   "cell_type": "markdown",
   "metadata": {},
   "source": [
    "We can see that if a customer has bought 62 times from you, and their latest purchase was when they were 147 days old (given the individual is 21 weeks old), then they are your best customer (bottom-right). \n",
    "Your coldest customers are those that are in the top-right corner: they bought a lot quickly, and we haven’t seen them in weeks.There’s also that beautiful “tail” around (5,60).  That represents the customer who buys infrequently, but we’ve seen him or her recently, so they might buy again - we’re not sure if they are dead or just between purchases"
   ]
  },
  {
   "cell_type": "markdown",
   "metadata": {},
   "source": [
    "Next we plot the porbabilty of customer being alive with given recency and frequency.\n",
    "We can see the customers at the bottom right of plot below have made a lot of repeat transactions when they quite old (yellow region).\n",
    "These are the best customers who are surely active with us. "
   ]
  },
  {
   "cell_type": "code",
   "execution_count": 17,
   "metadata": {},
   "outputs": [
    {
     "data": {
      "text/plain": [
       "<matplotlib.axes._subplots.AxesSubplot at 0x16cd5d1db08>"
      ]
     },
     "execution_count": 17,
     "metadata": {},
     "output_type": "execute_result"
    },
    {
     "data": {
      "image/png": "[encoded data removed]",
      "text/plain": [
       "<Figure size 432x288 with 2 Axes>"
      ]
     },
     "metadata": {
      "needs_background": "light"
     },
     "output_type": "display_data"
    }
   ],
   "source": [
    "plotting.plot_probability_alive_matrix(bgf)"
   ]
  },
  {
   "cell_type": "markdown",
   "metadata": {},
   "source": [
    "Next we get the list of our best customers who are expected to transact the most on the next day. "
   ]
  },
  {
   "cell_type": "code",
   "execution_count": 18,
   "metadata": {},
   "outputs": [
    {
     "data": {
      "text/html": [
       "<div>\n",
       "<style scoped>\n",
       "    .dataframe tbody tr th:only-of-type {\n",
       "        vertical-align: middle;\n",
       "    }\n",
       "\n",
       "    .dataframe tbody tr th {\n",
       "        vertical-align: top;\n",
       "    }\n",
       "\n",
       "    .dataframe thead th {\n",
       "        text-align: right;\n",
       "    }\n",
       "</style>\n",
       "<table border=\"1\" class=\"dataframe\">\n",
       "  <thead>\n",
       "    <tr style=\"text-align: right;\">\n",
       "      <th></th>\n",
       "      <th>frequency</th>\n",
       "      <th>recency</th>\n",
       "      <th>T</th>\n",
       "      <th>monetary_value</th>\n",
       "      <th>predicted_purchases</th>\n",
       "    </tr>\n",
       "    <tr>\n",
       "      <th>USER_OID</th>\n",
       "      <th></th>\n",
       "      <th></th>\n",
       "      <th></th>\n",
       "      <th></th>\n",
       "      <th></th>\n",
       "    </tr>\n",
       "  </thead>\n",
       "  <tbody>\n",
       "    <tr>\n",
       "      <td>712</td>\n",
       "      <td>57.0</td>\n",
       "      <td>93.0</td>\n",
       "      <td>94.0</td>\n",
       "      <td>201.315789</td>\n",
       "      <td>0.561639</td>\n",
       "    </tr>\n",
       "    <tr>\n",
       "      <td>6485</td>\n",
       "      <td>21.0</td>\n",
       "      <td>25.0</td>\n",
       "      <td>25.0</td>\n",
       "      <td>456.761905</td>\n",
       "      <td>0.642921</td>\n",
       "    </tr>\n",
       "    <tr>\n",
       "      <td>1761</td>\n",
       "      <td>67.0</td>\n",
       "      <td>90.0</td>\n",
       "      <td>92.0</td>\n",
       "      <td>154.656716</td>\n",
       "      <td>0.671455</td>\n",
       "    </tr>\n",
       "    <tr>\n",
       "      <td>490</td>\n",
       "      <td>77.0</td>\n",
       "      <td>103.0</td>\n",
       "      <td>104.0</td>\n",
       "      <td>74.545455</td>\n",
       "      <td>0.688896</td>\n",
       "    </tr>\n",
       "    <tr>\n",
       "      <td>3482</td>\n",
       "      <td>53.0</td>\n",
       "      <td>68.0</td>\n",
       "      <td>68.0</td>\n",
       "      <td>2688.509434</td>\n",
       "      <td>0.699481</td>\n",
       "    </tr>\n",
       "  </tbody>\n",
       "</table>\n",
       "</div>"
      ],
      "text/plain": [
       "          frequency  recency      T  monetary_value  predicted_purchases\n",
       "USER_OID                                                                \n",
       "712            57.0     93.0   94.0      201.315789             0.561639\n",
       "6485           21.0     25.0   25.0      456.761905             0.642921\n",
       "1761           67.0     90.0   92.0      154.656716             0.671455\n",
       "490            77.0    103.0  104.0       74.545455             0.688896\n",
       "3482           53.0     68.0   68.0     2688.509434             0.699481"
      ]
     },
     "execution_count": 18,
     "metadata": {},
     "output_type": "execute_result"
    }
   ],
   "source": [
    "t = 1\n",
    "data['predicted_purchases'] = bgf.conditional_expected_number_of_purchases_up_to_time(t, data['frequency'], data['recency'], data['T'])\n",
    "data.sort_values(by='predicted_purchases').tail(5)"
   ]
  },
  {
   "cell_type": "markdown",
   "metadata": {},
   "source": [
    " we can see that the customer with OID 3482 has 50 purchases, and bought very recently from us, is probably going to buy again in the next period.  "
   ]
  },
  {
   "cell_type": "code",
   "execution_count": 19,
   "metadata": {},
   "outputs": [
    {
     "data": {
      "text/plain": [
       "<matplotlib.axes._subplots.AxesSubplot at 0x16cd5bd9608>"
      ]
     },
     "execution_count": 19,
     "metadata": {},
     "output_type": "execute_result"
    },
    {
     "data": {
      "image/png": "[encoded data removed]",
      "text/plain": [
       "<Figure size 432x288 with 1 Axes>"
      ]
     },
     "metadata": {
      "needs_background": "light"
     },
     "output_type": "display_data"
    }
   ],
   "source": [
    "plotting.plot_period_transactions(bgf)"
   ]
  },
  {
   "cell_type": "markdown",
   "metadata": {},
   "source": [
    "Till now we were training the model on the whole of the dataset.\n",
    "Now we split the dataset into the training (caliberation) and testing (holdout) sets.\n",
    "Training set is choosen till 2020-06-30.\n",
    "Testing set is from 2020-07-01 to the end of available data set"
   ]
  },
  {
   "cell_type": "code",
   "execution_count": 21,
   "metadata": {},
   "outputs": [
    {
     "name": "stdout",
     "output_type": "stream",
     "text": [
      "          frequency_cal  recency_cal  T_cal  frequency_holdout  \\\n",
      "USER_OID                                                         \n",
      "1001                2.0          5.0    6.0                0.0   \n",
      "1003                0.0          0.0    0.0                0.0   \n",
      "1007                0.0          0.0    1.0                0.0   \n",
      "1008                3.0          9.0    9.0                0.0   \n",
      "1015                0.0          0.0    3.0                0.0   \n",
      "\n",
      "          duration_holdout  \n",
      "USER_OID                    \n",
      "1001                   1.0  \n",
      "1003                   1.0  \n",
      "1007                   1.0  \n",
      "1008                   1.0  \n",
      "1015                   1.0  \n"
     ]
    }
   ],
   "source": [
    "summary_cal_holdout = utils.calibration_and_holdout_data(\n",
    "    df,\n",
    "    'USER_OID',\n",
    "    'TXN_DATE',\n",
    "    calibration_period_end='2020-07-14',\n",
    "    observation_period_end='2020-07-15'\n",
    ")   \n",
    "print(summary_cal_holdout.head())"
   ]
  },
  {
   "cell_type": "markdown",
   "metadata": {},
   "source": [
    "Now we retrain the model on the training set and validate its performance on the test set.\n",
    "We can see from the plot at the bottom that the model is performing quite well on this dataset"
   ]
  },
  {
   "cell_type": "code",
   "execution_count": 22,
   "metadata": {},
   "outputs": [
    {
     "data": {
      "text/plain": [
       "<matplotlib.axes._subplots.AxesSubplot at 0x16cd5f462c8>"
      ]
     },
     "execution_count": 22,
     "metadata": {},
     "output_type": "execute_result"
    },
    {
     "data": {
      "image/png": "[encoded data removed]",
      "text/plain": [
       "<Figure size 432x288 with 1 Axes>"
      ]
     },
     "metadata": {
      "needs_background": "light"
     },
     "output_type": "display_data"
    }
   ],
   "source": [
    "bgf.fit(summary_cal_holdout['frequency_cal'], summary_cal_holdout['recency_cal'], summary_cal_holdout['T_cal'])\n",
    "plotting.plot_calibration_purchases_vs_holdout_purchases(bgf, summary_cal_holdout)"
   ]
  },
  {
   "cell_type": "code",
   "execution_count": null,
   "metadata": {},
   "outputs": [],
   "source": []
  },
  {
   "cell_type": "code",
   "execution_count": 24,
   "metadata": {},
   "outputs": [
    {
     "data": {
      "text/html": [
       "<div>\n",
       "<style scoped>\n",
       "    .dataframe tbody tr th:only-of-type {\n",
       "        vertical-align: middle;\n",
       "    }\n",
       "\n",
       "    .dataframe tbody tr th {\n",
       "        vertical-align: top;\n",
       "    }\n",
       "\n",
       "    .dataframe thead th {\n",
       "        text-align: right;\n",
       "    }\n",
       "</style>\n",
       "<table border=\"1\" class=\"dataframe\">\n",
       "  <thead>\n",
       "    <tr style=\"text-align: right;\">\n",
       "      <th></th>\n",
       "      <th>USER_OID</th>\n",
       "      <th>TXN_DATE</th>\n",
       "      <th>PAID_AMOUNT</th>\n",
       "      <th>BILL_AMOUNT</th>\n",
       "      <th>OID</th>\n",
       "    </tr>\n",
       "  </thead>\n",
       "  <tbody>\n",
       "    <tr>\n",
       "      <td>12</td>\n",
       "      <td>4</td>\n",
       "      <td>2020-05-12</td>\n",
       "      <td>1490</td>\n",
       "      <td>1490.0000</td>\n",
       "      <td>18</td>\n",
       "    </tr>\n",
       "    <tr>\n",
       "      <td>20</td>\n",
       "      <td>4</td>\n",
       "      <td>2020-05-12</td>\n",
       "      <td>1345</td>\n",
       "      <td>1345.0000</td>\n",
       "      <td>32</td>\n",
       "    </tr>\n",
       "    <tr>\n",
       "      <td>21</td>\n",
       "      <td>4</td>\n",
       "      <td>2020-05-13</td>\n",
       "      <td>62</td>\n",
       "      <td>62.1500</td>\n",
       "      <td>33</td>\n",
       "    </tr>\n",
       "    <tr>\n",
       "      <td>32</td>\n",
       "      <td>4</td>\n",
       "      <td>2020-05-13</td>\n",
       "      <td>685</td>\n",
       "      <td>685.0000</td>\n",
       "      <td>49</td>\n",
       "    </tr>\n",
       "    <tr>\n",
       "      <td>92</td>\n",
       "      <td>38</td>\n",
       "      <td>2020-05-20</td>\n",
       "      <td>50</td>\n",
       "      <td>505.0000</td>\n",
       "      <td>116</td>\n",
       "    </tr>\n",
       "    <tr>\n",
       "      <td>...</td>\n",
       "      <td>...</td>\n",
       "      <td>...</td>\n",
       "      <td>...</td>\n",
       "      <td>...</td>\n",
       "      <td>...</td>\n",
       "    </tr>\n",
       "    <tr>\n",
       "      <td>54714</td>\n",
       "      <td>3482</td>\n",
       "      <td>2020-10-12</td>\n",
       "      <td>225</td>\n",
       "      <td>225.0000</td>\n",
       "      <td>61651</td>\n",
       "    </tr>\n",
       "    <tr>\n",
       "      <td>54715</td>\n",
       "      <td>3482</td>\n",
       "      <td>2020-10-12</td>\n",
       "      <td>274</td>\n",
       "      <td>274.0000</td>\n",
       "      <td>61652</td>\n",
       "    </tr>\n",
       "    <tr>\n",
       "      <td>54716</td>\n",
       "      <td>3482</td>\n",
       "      <td>2020-10-12</td>\n",
       "      <td>300</td>\n",
       "      <td>375.0000</td>\n",
       "      <td>61653</td>\n",
       "    </tr>\n",
       "    <tr>\n",
       "      <td>54718</td>\n",
       "      <td>8652</td>\n",
       "      <td>2020-10-13</td>\n",
       "      <td>100</td>\n",
       "      <td>200.0000</td>\n",
       "      <td>61655</td>\n",
       "    </tr>\n",
       "    <tr>\n",
       "      <td>54719</td>\n",
       "      <td>5973</td>\n",
       "      <td>2020-10-13</td>\n",
       "      <td>53</td>\n",
       "      <td>106.0000</td>\n",
       "      <td>61656</td>\n",
       "    </tr>\n",
       "  </tbody>\n",
       "</table>\n",
       "<p>23926 rows × 5 columns</p>\n",
       "</div>"
      ],
      "text/plain": [
       "      USER_OID    TXN_DATE  PAID_AMOUNT BILL_AMOUNT    OID\n",
       "12           4  2020-05-12         1490   1490.0000     18\n",
       "20           4  2020-05-12         1345   1345.0000     32\n",
       "21           4  2020-05-13           62     62.1500     33\n",
       "32           4  2020-05-13          685    685.0000     49\n",
       "92          38  2020-05-20           50    505.0000    116\n",
       "...        ...         ...          ...         ...    ...\n",
       "54714     3482  2020-10-12          225    225.0000  61651\n",
       "54715     3482  2020-10-12          274    274.0000  61652\n",
       "54716     3482  2020-10-12          300    375.0000  61653\n",
       "54718     8652  2020-10-13          100    200.0000  61655\n",
       "54719     5973  2020-10-13           53    106.0000  61656\n",
       "\n",
       "[23926 rows x 5 columns]"
      ]
     },
     "execution_count": 24,
     "metadata": {},
     "output_type": "execute_result"
    }
   ],
   "source": [
    "df"
   ]
  },
  {
   "cell_type": "code",
   "execution_count": 23,
   "metadata": {},
   "outputs": [
    {
     "data": {
      "text/html": [
       "<div>\n",
       "<style scoped>\n",
       "    .dataframe tbody tr th:only-of-type {\n",
       "        vertical-align: middle;\n",
       "    }\n",
       "\n",
       "    .dataframe tbody tr th {\n",
       "        vertical-align: top;\n",
       "    }\n",
       "\n",
       "    .dataframe thead th {\n",
       "        text-align: right;\n",
       "    }\n",
       "</style>\n",
       "<table border=\"1\" class=\"dataframe\">\n",
       "  <thead>\n",
       "    <tr style=\"text-align: right;\">\n",
       "      <th></th>\n",
       "      <th>frequency</th>\n",
       "      <th>recency</th>\n",
       "      <th>T</th>\n",
       "      <th>monetary_value</th>\n",
       "      <th>predicted_purchases</th>\n",
       "    </tr>\n",
       "    <tr>\n",
       "      <th>USER_OID</th>\n",
       "      <th></th>\n",
       "      <th></th>\n",
       "      <th></th>\n",
       "      <th></th>\n",
       "      <th></th>\n",
       "    </tr>\n",
       "  </thead>\n",
       "  <tbody>\n",
       "    <tr>\n",
       "      <td>10</td>\n",
       "      <td>0.0</td>\n",
       "      <td>0.0</td>\n",
       "      <td>22.0</td>\n",
       "      <td>0.000000</td>\n",
       "      <td>0.028239</td>\n",
       "    </tr>\n",
       "    <tr>\n",
       "      <td>1000</td>\n",
       "      <td>41.0</td>\n",
       "      <td>80.0</td>\n",
       "      <td>86.0</td>\n",
       "      <td>312.756098</td>\n",
       "      <td>0.438348</td>\n",
       "    </tr>\n",
       "    <tr>\n",
       "      <td>1001</td>\n",
       "      <td>8.0</td>\n",
       "      <td>85.0</td>\n",
       "      <td>98.0</td>\n",
       "      <td>564.000000</td>\n",
       "      <td>0.082438</td>\n",
       "    </tr>\n",
       "    <tr>\n",
       "      <td>1002</td>\n",
       "      <td>0.0</td>\n",
       "      <td>0.0</td>\n",
       "      <td>25.0</td>\n",
       "      <td>0.000000</td>\n",
       "      <td>0.025749</td>\n",
       "    </tr>\n",
       "    <tr>\n",
       "      <td>1003</td>\n",
       "      <td>11.0</td>\n",
       "      <td>81.0</td>\n",
       "      <td>92.0</td>\n",
       "      <td>365.636364</td>\n",
       "      <td>0.116935</td>\n",
       "    </tr>\n",
       "    <tr>\n",
       "      <td>...</td>\n",
       "      <td>...</td>\n",
       "      <td>...</td>\n",
       "      <td>...</td>\n",
       "      <td>...</td>\n",
       "      <td>...</td>\n",
       "    </tr>\n",
       "    <tr>\n",
       "      <td>992</td>\n",
       "      <td>3.0</td>\n",
       "      <td>87.0</td>\n",
       "      <td>94.0</td>\n",
       "      <td>275.000000</td>\n",
       "      <td>0.037334</td>\n",
       "    </tr>\n",
       "    <tr>\n",
       "      <td>993</td>\n",
       "      <td>0.0</td>\n",
       "      <td>0.0</td>\n",
       "      <td>46.0</td>\n",
       "      <td>0.000000</td>\n",
       "      <td>0.015922</td>\n",
       "    </tr>\n",
       "    <tr>\n",
       "      <td>994</td>\n",
       "      <td>19.0</td>\n",
       "      <td>86.0</td>\n",
       "      <td>90.0</td>\n",
       "      <td>163.210526</td>\n",
       "      <td>0.200403</td>\n",
       "    </tr>\n",
       "    <tr>\n",
       "      <td>995</td>\n",
       "      <td>3.0</td>\n",
       "      <td>58.0</td>\n",
       "      <td>83.0</td>\n",
       "      <td>85.333333</td>\n",
       "      <td>0.041276</td>\n",
       "    </tr>\n",
       "    <tr>\n",
       "      <td>998</td>\n",
       "      <td>5.0</td>\n",
       "      <td>67.0</td>\n",
       "      <td>87.0</td>\n",
       "      <td>319.200000</td>\n",
       "      <td>0.060417</td>\n",
       "    </tr>\n",
       "  </tbody>\n",
       "</table>\n",
       "<p>2978 rows × 5 columns</p>\n",
       "</div>"
      ],
      "text/plain": [
       "          frequency  recency     T  monetary_value  predicted_purchases\n",
       "USER_OID                                                               \n",
       "10              0.0      0.0  22.0        0.000000             0.028239\n",
       "1000           41.0     80.0  86.0      312.756098             0.438348\n",
       "1001            8.0     85.0  98.0      564.000000             0.082438\n",
       "1002            0.0      0.0  25.0        0.000000             0.025749\n",
       "1003           11.0     81.0  92.0      365.636364             0.116935\n",
       "...             ...      ...   ...             ...                  ...\n",
       "992             3.0     87.0  94.0      275.000000             0.037334\n",
       "993             0.0      0.0  46.0        0.000000             0.015922\n",
       "994            19.0     86.0  90.0      163.210526             0.200403\n",
       "995             3.0     58.0  83.0       85.333333             0.041276\n",
       "998             5.0     67.0  87.0      319.200000             0.060417\n",
       "\n",
       "[2978 rows x 5 columns]"
      ]
     },
     "execution_count": 23,
     "metadata": {},
     "output_type": "execute_result"
    }
   ],
   "source": [
    "data"
   ]
  },
  {
   "cell_type": "code",
   "execution_count": 24,
   "metadata": {},
   "outputs": [
    {
     "data": {
      "text/html": [
       "<div>\n",
       "<style scoped>\n",
       "    .dataframe tbody tr th:only-of-type {\n",
       "        vertical-align: middle;\n",
       "    }\n",
       "\n",
       "    .dataframe tbody tr th {\n",
       "        vertical-align: top;\n",
       "    }\n",
       "\n",
       "    .dataframe thead th {\n",
       "        text-align: right;\n",
       "    }\n",
       "</style>\n",
       "<table border=\"1\" class=\"dataframe\">\n",
       "  <thead>\n",
       "    <tr style=\"text-align: right;\">\n",
       "      <th></th>\n",
       "      <th>frequency</th>\n",
       "      <th>recency</th>\n",
       "      <th>T</th>\n",
       "      <th>monetary_value</th>\n",
       "      <th>predicted_purchases</th>\n",
       "    </tr>\n",
       "    <tr>\n",
       "      <th>USER_OID</th>\n",
       "      <th></th>\n",
       "      <th></th>\n",
       "      <th></th>\n",
       "      <th></th>\n",
       "      <th></th>\n",
       "    </tr>\n",
       "  </thead>\n",
       "  <tbody>\n",
       "    <tr>\n",
       "      <td>712</td>\n",
       "      <td>57.0</td>\n",
       "      <td>93.0</td>\n",
       "      <td>94.0</td>\n",
       "      <td>201.315789</td>\n",
       "      <td>0.571123</td>\n",
       "    </tr>\n",
       "    <tr>\n",
       "      <td>6485</td>\n",
       "      <td>21.0</td>\n",
       "      <td>25.0</td>\n",
       "      <td>25.0</td>\n",
       "      <td>456.761905</td>\n",
       "      <td>0.675895</td>\n",
       "    </tr>\n",
       "    <tr>\n",
       "      <td>1761</td>\n",
       "      <td>67.0</td>\n",
       "      <td>90.0</td>\n",
       "      <td>92.0</td>\n",
       "      <td>154.656716</td>\n",
       "      <td>0.682883</td>\n",
       "    </tr>\n",
       "    <tr>\n",
       "      <td>490</td>\n",
       "      <td>77.0</td>\n",
       "      <td>103.0</td>\n",
       "      <td>104.0</td>\n",
       "      <td>74.545455</td>\n",
       "      <td>0.699182</td>\n",
       "    </tr>\n",
       "    <tr>\n",
       "      <td>3482</td>\n",
       "      <td>53.0</td>\n",
       "      <td>68.0</td>\n",
       "      <td>68.0</td>\n",
       "      <td>2688.509434</td>\n",
       "      <td>0.714761</td>\n",
       "    </tr>\n",
       "  </tbody>\n",
       "</table>\n",
       "</div>"
      ],
      "text/plain": [
       "          frequency  recency      T  monetary_value  predicted_purchases\n",
       "USER_OID                                                                \n",
       "712            57.0     93.0   94.0      201.315789             0.571123\n",
       "6485           21.0     25.0   25.0      456.761905             0.675895\n",
       "1761           67.0     90.0   92.0      154.656716             0.682883\n",
       "490            77.0    103.0  104.0       74.545455             0.699182\n",
       "3482           53.0     68.0   68.0     2688.509434             0.714761"
      ]
     },
     "execution_count": 24,
     "metadata": {},
     "output_type": "execute_result"
    }
   ],
   "source": [
    "###We are ranking customers from “highest expected purchases in the next period” to lowest. \n",
    "###Models expose a method that will predict a customer’s expected purchases in the next period using their history.\n",
    "\n",
    "t = 1\n",
    "data['predicted_purchases'] = bgf.conditional_expected_number_of_purchases_up_to_time(t, data['frequency'], data['recency'], data['T'])\n",
    "data.sort_values(by='predicted_purchases').tail(5)"
   ]
  },
  {
   "cell_type": "markdown",
   "metadata": {},
   "source": [
    "Listed above are our top 5 customers that the model expects them to make purchases in the next day. The predicted_purchases column represents their expected number of purchases while the other three columns represent their current RF metrics. The BG/NBD model believes these individuals will be making more purchases within the near future as they are our current best customers."
   ]
  },
  {
   "cell_type": "code",
   "execution_count": 25,
   "metadata": {},
   "outputs": [
    {
     "data": {
      "text/plain": [
       "<matplotlib.axes._subplots.AxesSubplot at 0x16cd5fb4c48>"
      ]
     },
     "execution_count": 25,
     "metadata": {},
     "output_type": "execute_result"
    },
    {
     "data": {
      "image/png": "[encoded data removed]",
      "text/plain": [
       "<Figure size 432x288 with 1 Axes>"
      ]
     },
     "metadata": {
      "needs_background": "light"
     },
     "output_type": "display_data"
    }
   ],
   "source": [
    "from lifetimes.plotting import plot_period_transactions\n",
    "plot_period_transactions(bgf)"
   ]
  },
  {
   "cell_type": "code",
   "execution_count": 39,
   "metadata": {},
   "outputs": [
    {
     "data": {
      "text/plain": [
       "6.826856678705934"
      ]
     },
     "execution_count": 39,
     "metadata": {},
     "output_type": "execute_result"
    }
   ],
   "source": [
    "##Customer transactions predictions\n",
    "###Based on customer history, we can now predict what an individual’s future purchases might look like:\n",
    "\n",
    "t = 10\n",
    "individual = data.loc['1761']\n",
    "bgf.predict(t, individual['frequency'], individual['recency'], individual['T'])"
   ]
  },
  {
   "cell_type": "code",
   "execution_count": 40,
   "metadata": {},
   "outputs": [
    {
     "data": {
      "text/plain": [
       "<matplotlib.axes._subplots.AxesSubplot at 0x16cd711ad08>"
      ]
     },
     "execution_count": 40,
     "metadata": {},
     "output_type": "execute_result"
    },
    {
     "data": {
      "image/png": "[encoded data removed]",
      "text/plain": [
       "<Figure size 864x576 with 1 Axes>"
      ]
     },
     "metadata": {
      "needs_background": "light"
     },
     "output_type": "display_data"
    }
   ],
   "source": [
    "##Customer probability histories\n",
    "###Given a customer transaction history, we can calculate their historical probability of being alive,\n",
    "###according to our trained model. For example,\n",
    "##we want to look at our best customer’s transactions history and see the probability of being alive:\n",
    "\n",
    "from lifetimes.plotting import plot_history_alive\n",
    "import matplotlib.pyplot as plt\n",
    "fig = plt.figure(figsize=(12,8))\n",
    "id = '1761'\n",
    "days_since_birth = 92\n",
    "sp_trans = df.loc[df['USER_OID'] == id]\n",
    "plot_history_alive(bgf, days_since_birth, sp_trans, 'TXN_DATE')"
   ]
  },
  {
   "cell_type": "code",
   "execution_count": 66,
   "metadata": {},
   "outputs": [
    {
     "data": {
      "text/html": [
       "<div>\n",
       "<style scoped>\n",
       "    .dataframe tbody tr th:only-of-type {\n",
       "        vertical-align: middle;\n",
       "    }\n",
       "\n",
       "    .dataframe tbody tr th {\n",
       "        vertical-align: top;\n",
       "    }\n",
       "\n",
       "    .dataframe thead th {\n",
       "        text-align: right;\n",
       "    }\n",
       "</style>\n",
       "<table border=\"1\" class=\"dataframe\">\n",
       "  <thead>\n",
       "    <tr style=\"text-align: right;\">\n",
       "      <th></th>\n",
       "      <th>USER_OID</th>\n",
       "      <th>TXN_DATE</th>\n",
       "      <th>PAID_AMOUNT</th>\n",
       "      <th>BILL_AMOUNT</th>\n",
       "      <th>OID</th>\n",
       "    </tr>\n",
       "  </thead>\n",
       "  <tbody>\n",
       "    <tr>\n",
       "      <td>12</td>\n",
       "      <td>4</td>\n",
       "      <td>2020-05-12</td>\n",
       "      <td>1490</td>\n",
       "      <td>1490.0000</td>\n",
       "      <td>18</td>\n",
       "    </tr>\n",
       "    <tr>\n",
       "      <td>20</td>\n",
       "      <td>4</td>\n",
       "      <td>2020-05-12</td>\n",
       "      <td>1345</td>\n",
       "      <td>1345.0000</td>\n",
       "      <td>32</td>\n",
       "    </tr>\n",
       "    <tr>\n",
       "      <td>21</td>\n",
       "      <td>4</td>\n",
       "      <td>2020-05-13</td>\n",
       "      <td>62</td>\n",
       "      <td>62.1500</td>\n",
       "      <td>33</td>\n",
       "    </tr>\n",
       "    <tr>\n",
       "      <td>32</td>\n",
       "      <td>4</td>\n",
       "      <td>2020-05-13</td>\n",
       "      <td>685</td>\n",
       "      <td>685.0000</td>\n",
       "      <td>49</td>\n",
       "    </tr>\n",
       "    <tr>\n",
       "      <td>92</td>\n",
       "      <td>38</td>\n",
       "      <td>2020-05-20</td>\n",
       "      <td>50</td>\n",
       "      <td>505.0000</td>\n",
       "      <td>116</td>\n",
       "    </tr>\n",
       "    <tr>\n",
       "      <td>...</td>\n",
       "      <td>...</td>\n",
       "      <td>...</td>\n",
       "      <td>...</td>\n",
       "      <td>...</td>\n",
       "      <td>...</td>\n",
       "    </tr>\n",
       "    <tr>\n",
       "      <td>55498</td>\n",
       "      <td>3482</td>\n",
       "      <td>2020-10-14</td>\n",
       "      <td>262</td>\n",
       "      <td>262.0000</td>\n",
       "      <td>62519</td>\n",
       "    </tr>\n",
       "    <tr>\n",
       "      <td>55499</td>\n",
       "      <td>3482</td>\n",
       "      <td>2020-10-14</td>\n",
       "      <td>139</td>\n",
       "      <td>139.0000</td>\n",
       "      <td>62520</td>\n",
       "    </tr>\n",
       "    <tr>\n",
       "      <td>55500</td>\n",
       "      <td>3482</td>\n",
       "      <td>2020-10-14</td>\n",
       "      <td>328</td>\n",
       "      <td>328.0000</td>\n",
       "      <td>62521</td>\n",
       "    </tr>\n",
       "    <tr>\n",
       "      <td>55504</td>\n",
       "      <td>6485</td>\n",
       "      <td>2020-10-14</td>\n",
       "      <td>463</td>\n",
       "      <td>553.0000</td>\n",
       "      <td>62525</td>\n",
       "    </tr>\n",
       "    <tr>\n",
       "      <td>55505</td>\n",
       "      <td>8652</td>\n",
       "      <td>2020-10-14</td>\n",
       "      <td>150</td>\n",
       "      <td>250.0000</td>\n",
       "      <td>62526</td>\n",
       "    </tr>\n",
       "  </tbody>\n",
       "</table>\n",
       "<p>24247 rows × 5 columns</p>\n",
       "</div>"
      ],
      "text/plain": [
       "      USER_OID    TXN_DATE  PAID_AMOUNT BILL_AMOUNT    OID\n",
       "12           4  2020-05-12         1490   1490.0000     18\n",
       "20           4  2020-05-12         1345   1345.0000     32\n",
       "21           4  2020-05-13           62     62.1500     33\n",
       "32           4  2020-05-13          685    685.0000     49\n",
       "92          38  2020-05-20           50    505.0000    116\n",
       "...        ...         ...          ...         ...    ...\n",
       "55498     3482  2020-10-14          262    262.0000  62519\n",
       "55499     3482  2020-10-14          139    139.0000  62520\n",
       "55500     3482  2020-10-14          328    328.0000  62521\n",
       "55504     6485  2020-10-14          463    553.0000  62525\n",
       "55505     8652  2020-10-14          150    250.0000  62526\n",
       "\n",
       "[24247 rows x 5 columns]"
      ]
     },
     "execution_count": 66,
     "metadata": {},
     "output_type": "execute_result"
    }
   ],
   "source": [
    "dff = df\n",
    "dff"
   ]
  },
  {
   "cell_type": "code",
   "execution_count": 67,
   "metadata": {},
   "outputs": [
    {
     "name": "stdout",
     "output_type": "stream",
     "text": [
      "ADD NEW CUSTOMER DATA:\n",
      "      USER_OID    TXN_DATE  PAID_AMOUNT BILL_AMOUNT    OID\n",
      "0            4  2020-05-12         1490   1490.0000     18\n",
      "1            4  2020-05-12         1345   1345.0000     32\n",
      "2            4  2020-05-13           62     62.1500     33\n",
      "3            4  2020-05-13          685    685.0000     49\n",
      "4           38  2020-05-20           50    505.0000    116\n",
      "...        ...         ...          ...         ...    ...\n",
      "24248     8654  2020-10-14          225         289  62528\n",
      "24249     8654  2020-10-14         1208        1289  62529\n",
      "24250     8654  2020-10-14         1028        1089  62530\n",
      "24251     8654  2020-10-14         1280        1289  62531\n",
      "24252     8654  2020-10-14         1428        1689  62532\n",
      "\n",
      "[24253 rows x 5 columns]\n"
     ]
    }
   ],
   "source": [
    "\n",
    "### FOR A NEW USER\n",
    "print('ADD NEW CUSTOMER DATA:')\n",
    "\n",
    "df1 = {'USER_OID': 8654, 'TXN_DATE':'2020-10-14 01:12:56' , 'PAID_AMOUNT': 128, 'BILL_AMOUNT': 189.0000 ,'OID':62527}\n",
    "dff = dff.append(df1, ignore_index=True)\n",
    "\n",
    "df1 = {'USER_OID': 8654, 'TXN_DATE':'2020-10-14 06:18:45' , 'PAID_AMOUNT': 225, 'BILL_AMOUNT': 289.0000 ,'OID':62528}\n",
    "dff = dff.append(df1, ignore_index=True)\n",
    "\n",
    "df1 = {'USER_OID': 8654, 'TXN_DATE':'2020-10-14 07:05:21' , 'PAID_AMOUNT': 1208, 'BILL_AMOUNT': 1289.0000 ,'OID':62529}\n",
    "dff = dff.append(df1, ignore_index=True)\n",
    "\n",
    "df1 = {'USER_OID': 8654, 'TXN_DATE':'2020-10-14 08:14:32' , 'PAID_AMOUNT': 1028, 'BILL_AMOUNT': 1089.0000 ,'OID':62530}\n",
    "dff = dff.append(df1, ignore_index=True)\n",
    "\n",
    "df1 = {'USER_OID': 8654, 'TXN_DATE':'2020-10-14 10:00:36' , 'PAID_AMOUNT': 1280, 'BILL_AMOUNT': 1289.0000 ,'OID':62531}\n",
    "dff = dff.append(df1, ignore_index=True)\n",
    "\n",
    "df1 = {'USER_OID': 8654, 'TXN_DATE':'2020-10-14 12:52:12' , 'PAID_AMOUNT': 1428, 'BILL_AMOUNT': 1689.0000 ,'OID':62532}\n",
    "dff = dff.append(df1, ignore_index=True)\n",
    "\n",
    "dff['TXN_DATE'] = pd.to_datetime(dff['TXN_DATE']).dt.date\n",
    "dff['USER_OID'] = dff['USER_OID'].astype(str)\n",
    "dff['PAID_AMOUNT'] = dff['PAID_AMOUNT'].astype(int)\n",
    "\n",
    "\n",
    "print(dff)"
   ]
  },
  {
   "cell_type": "code",
   "execution_count": 70,
   "metadata": {},
   "outputs": [
    {
     "data": {
      "text/plain": [
       "<matplotlib.axes._subplots.AxesSubplot at 0x16cd8a2fa08>"
      ]
     },
     "execution_count": 70,
     "metadata": {},
     "output_type": "execute_result"
    },
    {
     "data": {
      "image/png": "[encoded data removed]",
      "text/plain": [
       "<Figure size 864x576 with 1 Axes>"
      ]
     },
     "metadata": {
      "needs_background": "light"
     },
     "output_type": "display_data"
    }
   ],
   "source": [
    "##Customer probability histories\n",
    "###Given a customer transaction history, we can calculate their historical probability of being alive,\n",
    "###according to our trained model. For example,\n",
    "##we want to look at our best customer’s transactions history and see the probability of being alive:\n",
    "\n",
    "from lifetimes.plotting import plot_history_alive\n",
    "import matplotlib.pyplot as plt\n",
    "fig = plt.figure(figsize=(12,8))\n",
    "id = '8654'\n",
    "days_since_birth = 5\n",
    "sp_trans = dff.loc[dff['USER_OID'] == id]\n",
    "plot_history_alive(bgf, days_since_birth, sp_trans, 'TXN_DATE')"
   ]
  },
  {
   "cell_type": "code",
   "execution_count": 80,
   "metadata": {},
   "outputs": [
    {
     "data": {
      "text/plain": [
       "<lifetimes.BetaGeoFitter: fitted with 352 subjects, a: 0.01, alpha: 7.56, b: 0.10, r: 1.02>"
      ]
     },
     "execution_count": 80,
     "metadata": {},
     "output_type": "execute_result"
    }
   ],
   "source": [
    "#def reTrain(dff):\n",
    "dataa = utils.summary_data_from_transaction_data(\n",
    "dff,\n",
    "'USER_OID',\n",
    "'TXN_DATE',\n",
    "'PAID_AMOUNT'\n",
    ")\n",
    "bgf = BetaGeoFitter(penalizer_coef=0.01)\n",
    "bgf.fit(dataa['frequency'], dataa['recency'], dataa['T']\n",
    ")\n",
    "summary_cal_holdout2 = utils.calibration_and_holdout_data(\n",
    "dff,\n",
    "'USER_OID',\n",
    "'TXN_DATE',\n",
    "calibration_period_end='2020-07-14',\n",
    "observation_period_end='2020-07-15'\n",
    ")\n",
    "bgf.fit(summary_cal_holdout2['frequency_cal'], summary_cal_holdout2['recency_cal'], summary_cal_holdout2['T_cal'])\n",
    "\n",
    "#    return dataa   \n"
   ]
  },
  {
   "cell_type": "code",
   "execution_count": 81,
   "metadata": {},
   "outputs": [
    {
     "data": {
      "text/plain": [
       "1.78232537539898"
      ]
     },
     "execution_count": 81,
     "metadata": {},
     "output_type": "execute_result"
    }
   ],
   "source": [
    "##Customer transactions predictions\n",
    "###Based on customer history, we can now predict what an individual’s future purchases might look like:\n",
    "#reTrain(dff)\n",
    "t = 10\n",
    "individual = dataa.loc['8654']\n",
    "bgf.predict(t, individual['frequency'], individual['recency'], individual['T'])"
   ]
  },
  {
   "cell_type": "code",
   "execution_count": null,
   "metadata": {},
   "outputs": [],
   "source": []
  },
  {
   "cell_type": "code",
   "execution_count": null,
   "metadata": {},
   "outputs": [],
   "source": []
  },
  {
   "cell_type": "code",
   "execution_count": null,
   "metadata": {},
   "outputs": [],
   "source": []
  },
  {
   "cell_type": "code",
   "execution_count": null,
   "metadata": {},
   "outputs": [],
   "source": []
  },
  {
   "cell_type": "code",
   "execution_count": null,
   "metadata": {},
   "outputs": [],
   "source": []
  },
  {
   "cell_type": "markdown",
   "metadata": {},
   "source": [
    "# MODIFIED BETAGEO FITTER"
   ]
  },
  {
   "cell_type": "code",
   "execution_count": 1,
   "metadata": {},
   "outputs": [],
   "source": [
    "# penelizer_coeff = 0.001 to 0.1"
   ]
  },
  {
   "cell_type": "code",
   "execution_count": 82,
   "metadata": {},
   "outputs": [
    {
     "name": "stdout",
     "output_type": "stream",
     "text": [
      "Optimization terminated successfully.\n",
      "         Current function value: -0.797832\n",
      "         Iterations: 42\n",
      "         Function evaluations: 44\n",
      "         Gradient evaluations: 44\n"
     ]
    },
    {
     "name": "stderr",
     "output_type": "stream",
     "text": [
      "C:\\ProgramData\\Anaconda3\\lib\\site-packages\\pandas\\core\\series.py:853: RuntimeWarning: invalid value encountered in sqrt\n",
      "  result = getattr(ufunc, method)(*inputs, **kwargs)\n"
     ]
    },
    {
     "data": {
      "text/plain": [
       "<lifetimes.ModifiedBetaGeoFitter: fitted with 352 subjects, a: 0.00, alpha: 7.90, b: 0.00, r: 1.02>"
      ]
     },
     "execution_count": 82,
     "metadata": {},
     "output_type": "execute_result"
    }
   ],
   "source": [
    "### using ModifiedBetaGeoFilter \n",
    "\n",
    "from lifetimes import ModifiedBetaGeoFitter\n",
    "\n",
    "mbgnbd = ModifiedBetaGeoFitter(penalizer_coef=0.01)\n",
    "mbgnbd.fit(summary_cal_holdout['frequency_cal'], \n",
    "        summary_cal_holdout['recency_cal'], \n",
    "        summary_cal_holdout['T_cal'],\n",
    "       verbose=True)\n",
    "#bgf.fit(summary_cal_holdout['frequency_cal'], summary_cal_holdout['recency_cal'], summary_cal_holdout['T_cal'])\n",
    "#plotting.plot_calibration_purchases_vs_holdout_purchases(bgf, summary_cal_holdout)"
   ]
  },
  {
   "cell_type": "code",
   "execution_count": 83,
   "metadata": {},
   "outputs": [
    {
     "name": "stdout",
     "output_type": "stream",
     "text": [
      "<lifetimes.ModifiedBetaGeoFitter: fitted with 352 subjects, a: 0.00, alpha: 7.90, b: 0.00, r: 1.02>\n"
     ]
    }
   ],
   "source": [
    "print(mbgnbd)"
   ]
  },
  {
   "cell_type": "code",
   "execution_count": 84,
   "metadata": {},
   "outputs": [
    {
     "data": {
      "image/png": "[encoded data removed]",
      "text/plain": [
       "<Figure size 432x288 with 1 Axes>"
      ]
     },
     "metadata": {
      "needs_background": "light"
     },
     "output_type": "display_data"
    }
   ],
   "source": [
    "from lifetimes.plotting import plot_period_transactions\n",
    "ax = plot_period_transactions(mbgnbd, max_frequency=7)\n",
    "ax.set_yscale('log')\n",
    "sns.despine();"
   ]
  },
  {
   "cell_type": "code",
   "execution_count": 85,
   "metadata": {},
   "outputs": [
    {
     "name": "stdout",
     "output_type": "stream",
     "text": [
      "Wall time: 366 ms\n"
     ]
    },
    {
     "data": {
      "image/png": "[encoded data removed]",
      "text/plain": [
       "<Figure size 432x288 with 1 Axes>"
      ]
     },
     "metadata": {
      "needs_background": "light"
     },
     "output_type": "display_data"
    }
   ],
   "source": [
    "%%time \n",
    "\n",
    "from lifetimes.plotting import plot_calibration_purchases_vs_holdout_purchases\n",
    "\n",
    "plot_calibration_purchases_vs_holdout_purchases(mbgnbd, summary_cal_holdout)\n",
    "sns.despine();"
   ]
  },
  {
   "cell_type": "code",
   "execution_count": 86,
   "metadata": {},
   "outputs": [
    {
     "data": {
      "text/html": [
       "<div>\n",
       "<style scoped>\n",
       "    .dataframe tbody tr th:only-of-type {\n",
       "        vertical-align: middle;\n",
       "    }\n",
       "\n",
       "    .dataframe tbody tr th {\n",
       "        vertical-align: top;\n",
       "    }\n",
       "\n",
       "    .dataframe thead th {\n",
       "        text-align: right;\n",
       "    }\n",
       "</style>\n",
       "<table border=\"1\" class=\"dataframe\">\n",
       "  <thead>\n",
       "    <tr style=\"text-align: right;\">\n",
       "      <th></th>\n",
       "      <th>USER_OID</th>\n",
       "      <th>TXN_DATE</th>\n",
       "    </tr>\n",
       "  </thead>\n",
       "  <tbody>\n",
       "    <tr>\n",
       "      <td>12</td>\n",
       "      <td>4</td>\n",
       "      <td>2020-05-12</td>\n",
       "    </tr>\n",
       "    <tr>\n",
       "      <td>20</td>\n",
       "      <td>4</td>\n",
       "      <td>2020-05-12</td>\n",
       "    </tr>\n",
       "    <tr>\n",
       "      <td>21</td>\n",
       "      <td>4</td>\n",
       "      <td>2020-05-13</td>\n",
       "    </tr>\n",
       "    <tr>\n",
       "      <td>32</td>\n",
       "      <td>4</td>\n",
       "      <td>2020-05-13</td>\n",
       "    </tr>\n",
       "    <tr>\n",
       "      <td>92</td>\n",
       "      <td>38</td>\n",
       "      <td>2020-05-20</td>\n",
       "    </tr>\n",
       "  </tbody>\n",
       "</table>\n",
       "</div>"
      ],
      "text/plain": [
       "   USER_OID    TXN_DATE\n",
       "12        4  2020-05-12\n",
       "20        4  2020-05-12\n",
       "21        4  2020-05-13\n",
       "32        4  2020-05-13\n",
       "92       38  2020-05-20"
      ]
     },
     "execution_count": 86,
     "metadata": {},
     "output_type": "execute_result"
    }
   ],
   "source": [
    "#elog['USER_OID'] = df['USER_OID'].values\n",
    "elog = pd.DataFrame(df, columns = ['USER_OID', 'TXN_DATE']) \n",
    "elog.head()"
   ]
  },
  {
   "cell_type": "code",
   "execution_count": 87,
   "metadata": {},
   "outputs": [],
   "source": [
    "elog = elog.reset_index(drop=True)"
   ]
  },
  {
   "cell_type": "code",
   "execution_count": 88,
   "metadata": {},
   "outputs": [
    {
     "data": {
      "text/html": [
       "<div>\n",
       "<style scoped>\n",
       "    .dataframe tbody tr th:only-of-type {\n",
       "        vertical-align: middle;\n",
       "    }\n",
       "\n",
       "    .dataframe tbody tr th {\n",
       "        vertical-align: top;\n",
       "    }\n",
       "\n",
       "    .dataframe thead th {\n",
       "        text-align: right;\n",
       "    }\n",
       "</style>\n",
       "<table border=\"1\" class=\"dataframe\">\n",
       "  <thead>\n",
       "    <tr style=\"text-align: right;\">\n",
       "      <th></th>\n",
       "      <th>USER_OID</th>\n",
       "      <th>TXN_DATE</th>\n",
       "    </tr>\n",
       "  </thead>\n",
       "  <tbody>\n",
       "    <tr>\n",
       "      <td>0</td>\n",
       "      <td>4</td>\n",
       "      <td>2020-05-12</td>\n",
       "    </tr>\n",
       "    <tr>\n",
       "      <td>1</td>\n",
       "      <td>4</td>\n",
       "      <td>2020-05-12</td>\n",
       "    </tr>\n",
       "    <tr>\n",
       "      <td>2</td>\n",
       "      <td>4</td>\n",
       "      <td>2020-05-13</td>\n",
       "    </tr>\n",
       "    <tr>\n",
       "      <td>3</td>\n",
       "      <td>4</td>\n",
       "      <td>2020-05-13</td>\n",
       "    </tr>\n",
       "    <tr>\n",
       "      <td>4</td>\n",
       "      <td>38</td>\n",
       "      <td>2020-05-20</td>\n",
       "    </tr>\n",
       "  </tbody>\n",
       "</table>\n",
       "</div>"
      ],
      "text/plain": [
       "  USER_OID    TXN_DATE\n",
       "0        4  2020-05-12\n",
       "1        4  2020-05-12\n",
       "2        4  2020-05-13\n",
       "3        4  2020-05-13\n",
       "4       38  2020-05-20"
      ]
     },
     "execution_count": 88,
     "metadata": {},
     "output_type": "execute_result"
    }
   ],
   "source": [
    "elog.head()"
   ]
  },
  {
   "cell_type": "code",
   "execution_count": 89,
   "metadata": {},
   "outputs": [
    {
     "name": "stdout",
     "output_type": "stream",
     "text": [
      "Wall time: 2.51 s\n"
     ]
    }
   ],
   "source": [
    "%%time\n",
    "# Get expected and actual repeated cumulative transactions.\n",
    "\n",
    "from lifetimes.utils import expected_cumulative_transactions\n",
    "\n",
    "t = (elog['TXN_DATE'].max() - elog['TXN_DATE'].min()).days\n",
    "data_set = expected_cumulative_transactions(mbgnbd, elog, 'TXN_DATE', 'USER_OID', t)"
   ]
  },
  {
   "cell_type": "code",
   "execution_count": 91,
   "metadata": {},
   "outputs": [
    {
     "data": {
      "text/html": [
       "<div>\n",
       "<style scoped>\n",
       "    .dataframe tbody tr th:only-of-type {\n",
       "        vertical-align: middle;\n",
       "    }\n",
       "\n",
       "    .dataframe tbody tr th {\n",
       "        vertical-align: top;\n",
       "    }\n",
       "\n",
       "    .dataframe thead th {\n",
       "        text-align: right;\n",
       "    }\n",
       "</style>\n",
       "<table border=\"1\" class=\"dataframe\">\n",
       "  <thead>\n",
       "    <tr style=\"text-align: right;\">\n",
       "      <th></th>\n",
       "      <th>actual</th>\n",
       "      <th>predicted</th>\n",
       "    </tr>\n",
       "  </thead>\n",
       "  <tbody>\n",
       "    <tr>\n",
       "      <td>150</td>\n",
       "      <td>15157</td>\n",
       "      <td>18487.181598</td>\n",
       "    </tr>\n",
       "    <tr>\n",
       "      <td>151</td>\n",
       "      <td>15451</td>\n",
       "      <td>18863.642369</td>\n",
       "    </tr>\n",
       "    <tr>\n",
       "      <td>152</td>\n",
       "      <td>15708</td>\n",
       "      <td>19243.346255</td>\n",
       "    </tr>\n",
       "    <tr>\n",
       "      <td>153</td>\n",
       "      <td>15925</td>\n",
       "      <td>19626.422981</td>\n",
       "    </tr>\n",
       "    <tr>\n",
       "      <td>154</td>\n",
       "      <td>16140</td>\n",
       "      <td>20012.742821</td>\n",
       "    </tr>\n",
       "  </tbody>\n",
       "</table>\n",
       "</div>"
      ],
      "text/plain": [
       "     actual     predicted\n",
       "150   15157  18487.181598\n",
       "151   15451  18863.642369\n",
       "152   15708  19243.346255\n",
       "153   15925  19626.422981\n",
       "154   16140  20012.742821"
      ]
     },
     "execution_count": 91,
     "metadata": {},
     "output_type": "execute_result"
    }
   ],
   "source": [
    "data_set.tail()"
   ]
  },
  {
   "cell_type": "code",
   "execution_count": 93,
   "metadata": {},
   "outputs": [
    {
     "name": "stdout",
     "output_type": "stream",
     "text": [
      "Wall time: 5.66 s\n"
     ]
    },
    {
     "data": {
      "image/png": "[encoded data removed]",
      "text/plain": [
       "<Figure size 432x288 with 1 Axes>"
      ]
     },
     "metadata": {
      "needs_background": "light"
     },
     "output_type": "display_data"
    }
   ],
   "source": [
    "%%time\n",
    "# Calibration period = 2020-05-12 to 2020-06-30\n",
    "from datetime import datetime, time\n",
    "\n",
    "cal = datetime.strptime('2020/06/30', '%Y/%m/%d').date()\n",
    "\n",
    "from lifetimes.plotting import plot_cumulative_transactions\n",
    "t = (elog['TXN_DATE'].max() - elog['TXN_DATE'].min()).days\n",
    "t_cal = (cal - elog['TXN_DATE'].min()).days\n",
    "plot_cumulative_transactions(mbgnbd, elog, 'TXN_DATE', 'USER_OID', t, t_cal, freq='D')\n",
    "sns.despine()"
   ]
  },
  {
   "cell_type": "code",
   "execution_count": 94,
   "metadata": {},
   "outputs": [
    {
     "data": {
      "image/png": "[encoded data removed]",
      "text/plain": [
       "<Figure size 432x288 with 1 Axes>"
      ]
     },
     "metadata": {
      "needs_background": "light"
     },
     "output_type": "display_data"
    }
   ],
   "source": [
    "\n",
    "from lifetimes.plotting import plot_incremental_transactions\n",
    "plot_incremental_transactions(mbgnbd, elog, 'TXN_DATE', 'USER_OID', t, t_cal, freq='D')\n",
    "sns.despine()"
   ]
  },
  {
   "cell_type": "code",
   "execution_count": null,
   "metadata": {},
   "outputs": [],
   "source": []
  },
  {
   "cell_type": "code",
   "execution_count": null,
   "metadata": {},
   "outputs": [],
   "source": []
  },
  {
   "cell_type": "code",
   "execution_count": null,
   "metadata": {},
   "outputs": [],
   "source": []
  },
  {
   "cell_type": "code",
   "execution_count": null,
   "metadata": {},
   "outputs": [],
   "source": []
  },
  {
   "cell_type": "code",
   "execution_count": null,
   "metadata": {},
   "outputs": [],
   "source": []
  },
  {
   "cell_type": "code",
   "execution_count": null,
   "metadata": {},
   "outputs": [],
   "source": []
  },
  {
   "cell_type": "code",
   "execution_count": null,
   "metadata": {},
   "outputs": [],
   "source": []
  },
  {
   "cell_type": "code",
   "execution_count": null,
   "metadata": {},
   "outputs": [],
   "source": []
  },
  {
   "cell_type": "code",
   "execution_count": null,
   "metadata": {},
   "outputs": [],
   "source": []
  },
  {
   "cell_type": "code",
   "execution_count": null,
   "metadata": {},
   "outputs": [],
   "source": []
  },
  {
   "cell_type": "code",
   "execution_count": null,
   "metadata": {},
   "outputs": [],
   "source": []
  },
  {
   "cell_type": "code",
   "execution_count": null,
   "metadata": {},
   "outputs": [],
   "source": []
  },
  {
   "cell_type": "code",
   "execution_count": null,
   "metadata": {},
   "outputs": [],
   "source": [
    "### STUFF BELOW THIS LINE IS FOR FURTHER IMPLEMENTAION"
   ]
  },
  {
   "cell_type": "code",
   "execution_count": 42,
   "metadata": {},
   "outputs": [
    {
     "data": {
      "text/html": [
       "<div>\n",
       "<style scoped>\n",
       "    .dataframe tbody tr th:only-of-type {\n",
       "        vertical-align: middle;\n",
       "    }\n",
       "\n",
       "    .dataframe tbody tr th {\n",
       "        vertical-align: top;\n",
       "    }\n",
       "\n",
       "    .dataframe thead th {\n",
       "        text-align: right;\n",
       "    }\n",
       "</style>\n",
       "<table border=\"1\" class=\"dataframe\">\n",
       "  <thead>\n",
       "    <tr style=\"text-align: right;\">\n",
       "      <th></th>\n",
       "      <th>actual</th>\n",
       "      <th>predicted</th>\n",
       "    </tr>\n",
       "  </thead>\n",
       "  <tbody>\n",
       "    <tr>\n",
       "      <td>count</td>\n",
       "      <td>151.000000</td>\n",
       "      <td>151.000000</td>\n",
       "    </tr>\n",
       "    <tr>\n",
       "      <td>mean</td>\n",
       "      <td>3649.549669</td>\n",
       "      <td>3605.744093</td>\n",
       "    </tr>\n",
       "    <tr>\n",
       "      <td>std</td>\n",
       "      <td>4568.335732</td>\n",
       "      <td>4497.884258</td>\n",
       "    </tr>\n",
       "    <tr>\n",
       "      <td>min</td>\n",
       "      <td>0.000000</td>\n",
       "      <td>0.146881</td>\n",
       "    </tr>\n",
       "    <tr>\n",
       "      <td>25%</td>\n",
       "      <td>8.500000</td>\n",
       "      <td>20.496124</td>\n",
       "    </tr>\n",
       "    <tr>\n",
       "      <td>50%</td>\n",
       "      <td>1227.000000</td>\n",
       "      <td>1230.802847</td>\n",
       "    </tr>\n",
       "    <tr>\n",
       "      <td>75%</td>\n",
       "      <td>6495.000000</td>\n",
       "      <td>6442.160309</td>\n",
       "    </tr>\n",
       "    <tr>\n",
       "      <td>max</td>\n",
       "      <td>15154.000000</td>\n",
       "      <td>15030.048967</td>\n",
       "    </tr>\n",
       "  </tbody>\n",
       "</table>\n",
       "</div>"
      ],
      "text/plain": [
       "             actual     predicted\n",
       "count    151.000000    151.000000\n",
       "mean    3649.549669   3605.744093\n",
       "std     4568.335732   4497.884258\n",
       "min        0.000000      0.146881\n",
       "25%        8.500000     20.496124\n",
       "50%     1227.000000   1230.802847\n",
       "75%     6495.000000   6442.160309\n",
       "max    15154.000000  15030.048967"
      ]
     },
     "execution_count": 42,
     "metadata": {},
     "output_type": "execute_result"
    }
   ],
   "source": [
    "data_set.describe()"
   ]
  },
  {
   "cell_type": "code",
   "execution_count": 43,
   "metadata": {},
   "outputs": [
    {
     "data": {
      "text/html": [
       "<div>\n",
       "<style scoped>\n",
       "    .dataframe tbody tr th:only-of-type {\n",
       "        vertical-align: middle;\n",
       "    }\n",
       "\n",
       "    .dataframe tbody tr th {\n",
       "        vertical-align: top;\n",
       "    }\n",
       "\n",
       "    .dataframe thead th {\n",
       "        text-align: right;\n",
       "    }\n",
       "</style>\n",
       "<table border=\"1\" class=\"dataframe\">\n",
       "  <thead>\n",
       "    <tr style=\"text-align: right;\">\n",
       "      <th></th>\n",
       "      <th>frequency</th>\n",
       "      <th>recency</th>\n",
       "      <th>T</th>\n",
       "      <th>monetary_value</th>\n",
       "      <th>predicted_purchases</th>\n",
       "    </tr>\n",
       "  </thead>\n",
       "  <tbody>\n",
       "    <tr>\n",
       "      <td>count</td>\n",
       "      <td>2849.000000</td>\n",
       "      <td>2849.000000</td>\n",
       "      <td>2849.000000</td>\n",
       "      <td>2849.000000</td>\n",
       "      <td>2849.000000</td>\n",
       "    </tr>\n",
       "    <tr>\n",
       "      <td>mean</td>\n",
       "      <td>5.320463</td>\n",
       "      <td>32.975781</td>\n",
       "      <td>49.992980</td>\n",
       "      <td>280.799255</td>\n",
       "      <td>0.093469</td>\n",
       "    </tr>\n",
       "    <tr>\n",
       "      <td>std</td>\n",
       "      <td>7.933148</td>\n",
       "      <td>32.215650</td>\n",
       "      <td>30.191418</td>\n",
       "      <td>396.619638</td>\n",
       "      <td>0.086857</td>\n",
       "    </tr>\n",
       "    <tr>\n",
       "      <td>min</td>\n",
       "      <td>0.000000</td>\n",
       "      <td>0.000000</td>\n",
       "      <td>0.000000</td>\n",
       "      <td>0.000000</td>\n",
       "      <td>0.004351</td>\n",
       "    </tr>\n",
       "    <tr>\n",
       "      <td>25%</td>\n",
       "      <td>0.000000</td>\n",
       "      <td>0.000000</td>\n",
       "      <td>23.000000</td>\n",
       "      <td>0.000000</td>\n",
       "      <td>0.035382</td>\n",
       "    </tr>\n",
       "    <tr>\n",
       "      <td>50%</td>\n",
       "      <td>2.000000</td>\n",
       "      <td>26.000000</td>\n",
       "      <td>50.000000</td>\n",
       "      <td>191.981818</td>\n",
       "      <td>0.064569</td>\n",
       "    </tr>\n",
       "    <tr>\n",
       "      <td>75%</td>\n",
       "      <td>7.000000</td>\n",
       "      <td>62.000000</td>\n",
       "      <td>78.000000</td>\n",
       "      <td>414.500000</td>\n",
       "      <td>0.122213</td>\n",
       "    </tr>\n",
       "    <tr>\n",
       "      <td>max</td>\n",
       "      <td>73.000000</td>\n",
       "      <td>124.000000</td>\n",
       "      <td>151.000000</td>\n",
       "      <td>7714.000000</td>\n",
       "      <td>0.696264</td>\n",
       "    </tr>\n",
       "  </tbody>\n",
       "</table>\n",
       "</div>"
      ],
      "text/plain": [
       "         frequency      recency            T  monetary_value  \\\n",
       "count  2849.000000  2849.000000  2849.000000     2849.000000   \n",
       "mean      5.320463    32.975781    49.992980      280.799255   \n",
       "std       7.933148    32.215650    30.191418      396.619638   \n",
       "min       0.000000     0.000000     0.000000        0.000000   \n",
       "25%       0.000000     0.000000    23.000000        0.000000   \n",
       "50%       2.000000    26.000000    50.000000      191.981818   \n",
       "75%       7.000000    62.000000    78.000000      414.500000   \n",
       "max      73.000000   124.000000   151.000000     7714.000000   \n",
       "\n",
       "       predicted_purchases  \n",
       "count          2849.000000  \n",
       "mean              0.093469  \n",
       "std               0.086857  \n",
       "min               0.004351  \n",
       "25%               0.035382  \n",
       "50%               0.064569  \n",
       "75%               0.122213  \n",
       "max               0.696264  "
      ]
     },
     "execution_count": 43,
     "metadata": {},
     "output_type": "execute_result"
    }
   ],
   "source": [
    "data.describe()"
   ]
  },
  {
   "cell_type": "code",
   "execution_count": 44,
   "metadata": {},
   "outputs": [
    {
     "name": "stdout",
     "output_type": "stream",
     "text": [
      "Expected number of transactions for randomly choosen customer in the next 184 days = 22.713422591480917\n"
     ]
    }
   ],
   "source": [
    "t = 184\n",
    "print('Expected number of transactions for randomly choosen customer in the next {} days = {}'.format(t, bgf.expected_number_of_purchases_up_to_time(t)))"
   ]
  },
  {
   "cell_type": "code",
   "execution_count": 45,
   "metadata": {},
   "outputs": [
    {
     "name": "stdout",
     "output_type": "stream",
     "text": [
      "Probabilty of the making 1 transactions in the next 184 days is 0.16682522477310435\n",
      "Probabilty of the making 2 transactions in the next 184 days is 0.038389686877267015\n",
      "Probabilty of the making 3 transactions in the next 184 days is 0.033524469375144396\n",
      "Probabilty of the making 4 transactions in the next 184 days is 0.03023449582944889\n"
     ]
    }
   ],
   "source": [
    "for i in range(1, 5):\n",
    "    print('Probabilty of the making {} transactions in the next {} days is {}'.format(i, t, bgf.probability_of_n_purchases_up_to_time(t, i)))"
   ]
  },
  {
   "cell_type": "code",
   "execution_count": 46,
   "metadata": {},
   "outputs": [
    {
     "name": "stdout",
     "output_type": "stream",
     "text": [
      "Number of customers = 1990\n"
     ]
    },
    {
     "data": {
      "text/plain": [
       "<lifetimes.GammaGammaFitter: fitted with 1990 subjects, p: 0.99, q: 3.39, v: 979.29>"
      ]
     },
     "execution_count": 46,
     "metadata": {},
     "output_type": "execute_result"
    }
   ],
   "source": [
    "returning_customers_summary = data[data['frequency']>0]\n",
    "print('Number of customers = {}'.format(len(returning_customers_summary)))\n",
    "ggf = GammaGammaFitter(penalizer_coef = 0)\n",
    "ggf.fit(returning_customers_summary['frequency'], returning_customers_summary['monetary_value'])"
   ]
  },
  {
   "cell_type": "code",
   "execution_count": 47,
   "metadata": {},
   "outputs": [
    {
     "name": "stderr",
     "output_type": "stream",
     "text": [
      "C:\\ProgramData\\Anaconda3\\lib\\site-packages\\pandas\\core\\series.py:853: RuntimeWarning: invalid value encountered in log\n",
      "  result = getattr(ufunc, method)(*inputs, **kwargs)\n"
     ]
    },
    {
     "data": {
      "text/plain": [
       "USER_OID\n",
       "10               NaN\n",
       "1000    55517.372275\n",
       "1001    16911.644766\n",
       "1002             NaN\n",
       "1003    17108.358527\n",
       "            ...     \n",
       "992      4750.301862\n",
       "993              NaN\n",
       "994     14246.382715\n",
       "995      3673.496002\n",
       "998      8215.228074\n",
       "Name: CLTV, Length: 2849, dtype: float64"
      ]
     },
     "execution_count": 47,
     "metadata": {},
     "output_type": "execute_result"
    }
   ],
   "source": [
    "data['CLTV'] = bgf.conditional_expected_number_of_purchases_up_to_time(365, data['frequency'], data['recency'], data['T']) * ggf.conditional_expected_average_profit(data['frequency'], data['monetary_value'])\n",
    "data['CLTV']"
   ]
  },
  {
   "cell_type": "code",
   "execution_count": 48,
   "metadata": {},
   "outputs": [
    {
     "data": {
      "text/plain": [
       "count      1990.000000\n",
       "mean      17495.064365\n",
       "std       22925.656289\n",
       "min          93.364274\n",
       "25%        6423.961274\n",
       "50%       12027.042380\n",
       "75%       21803.641009\n",
       "max      697489.275643\n",
       "Name: CLTV, dtype: float64"
      ]
     },
     "execution_count": 48,
     "metadata": {},
     "output_type": "execute_result"
    }
   ],
   "source": [
    "data['CLTV'].describe()"
   ]
  },
  {
   "cell_type": "code",
   "execution_count": 49,
   "metadata": {},
   "outputs": [
    {
     "data": {
      "text/html": [
       "<div>\n",
       "<style scoped>\n",
       "    .dataframe tbody tr th:only-of-type {\n",
       "        vertical-align: middle;\n",
       "    }\n",
       "\n",
       "    .dataframe tbody tr th {\n",
       "        vertical-align: top;\n",
       "    }\n",
       "\n",
       "    .dataframe thead th {\n",
       "        text-align: right;\n",
       "    }\n",
       "</style>\n",
       "<table border=\"1\" class=\"dataframe\">\n",
       "  <thead>\n",
       "    <tr style=\"text-align: right;\">\n",
       "      <th></th>\n",
       "      <th>USER_OID</th>\n",
       "      <th>TXN_DATE</th>\n",
       "      <th>PAID_AMOUNT</th>\n",
       "      <th>BILL_AMOUNT</th>\n",
       "      <th>OID</th>\n",
       "    </tr>\n",
       "  </thead>\n",
       "  <tbody>\n",
       "    <tr>\n",
       "      <td>12</td>\n",
       "      <td>4</td>\n",
       "      <td>2020-05-12</td>\n",
       "      <td>1490</td>\n",
       "      <td>1490.0000</td>\n",
       "      <td>18</td>\n",
       "    </tr>\n",
       "    <tr>\n",
       "      <td>20</td>\n",
       "      <td>4</td>\n",
       "      <td>2020-05-12</td>\n",
       "      <td>1345</td>\n",
       "      <td>1345.0000</td>\n",
       "      <td>32</td>\n",
       "    </tr>\n",
       "    <tr>\n",
       "      <td>21</td>\n",
       "      <td>4</td>\n",
       "      <td>2020-05-13</td>\n",
       "      <td>62</td>\n",
       "      <td>62.1500</td>\n",
       "      <td>33</td>\n",
       "    </tr>\n",
       "    <tr>\n",
       "      <td>32</td>\n",
       "      <td>4</td>\n",
       "      <td>2020-05-13</td>\n",
       "      <td>685</td>\n",
       "      <td>685.0000</td>\n",
       "      <td>49</td>\n",
       "    </tr>\n",
       "    <tr>\n",
       "      <td>92</td>\n",
       "      <td>38</td>\n",
       "      <td>2020-05-20</td>\n",
       "      <td>50</td>\n",
       "      <td>505.0000</td>\n",
       "      <td>116</td>\n",
       "    </tr>\n",
       "    <tr>\n",
       "      <td>...</td>\n",
       "      <td>...</td>\n",
       "      <td>...</td>\n",
       "      <td>...</td>\n",
       "      <td>...</td>\n",
       "      <td>...</td>\n",
       "    </tr>\n",
       "    <tr>\n",
       "      <td>52309</td>\n",
       "      <td>3935</td>\n",
       "      <td>2020-10-10</td>\n",
       "      <td>208</td>\n",
       "      <td>278.0000</td>\n",
       "      <td>59080</td>\n",
       "    </tr>\n",
       "    <tr>\n",
       "      <td>52310</td>\n",
       "      <td>3935</td>\n",
       "      <td>2020-10-10</td>\n",
       "      <td>225</td>\n",
       "      <td>300.0000</td>\n",
       "      <td>59081</td>\n",
       "    </tr>\n",
       "    <tr>\n",
       "      <td>52311</td>\n",
       "      <td>6537</td>\n",
       "      <td>2020-10-10</td>\n",
       "      <td>2131</td>\n",
       "      <td>2131.0000</td>\n",
       "      <td>59082</td>\n",
       "    </tr>\n",
       "    <tr>\n",
       "      <td>52313</td>\n",
       "      <td>2757</td>\n",
       "      <td>2020-10-10</td>\n",
       "      <td>527</td>\n",
       "      <td>703.0000</td>\n",
       "      <td>59084</td>\n",
       "    </tr>\n",
       "    <tr>\n",
       "      <td>52324</td>\n",
       "      <td>8652</td>\n",
       "      <td>2020-10-10</td>\n",
       "      <td>296</td>\n",
       "      <td>396.0000</td>\n",
       "      <td>59095</td>\n",
       "    </tr>\n",
       "  </tbody>\n",
       "</table>\n",
       "<p>22833 rows × 5 columns</p>\n",
       "</div>"
      ],
      "text/plain": [
       "      USER_OID    TXN_DATE  PAID_AMOUNT BILL_AMOUNT    OID\n",
       "12           4  2020-05-12         1490   1490.0000     18\n",
       "20           4  2020-05-12         1345   1345.0000     32\n",
       "21           4  2020-05-13           62     62.1500     33\n",
       "32           4  2020-05-13          685    685.0000     49\n",
       "92          38  2020-05-20           50    505.0000    116\n",
       "...        ...         ...          ...         ...    ...\n",
       "52309     3935  2020-10-10          208    278.0000  59080\n",
       "52310     3935  2020-10-10          225    300.0000  59081\n",
       "52311     6537  2020-10-10         2131   2131.0000  59082\n",
       "52313     2757  2020-10-10          527    703.0000  59084\n",
       "52324     8652  2020-10-10          296    396.0000  59095\n",
       "\n",
       "[22833 rows x 5 columns]"
      ]
     },
     "execution_count": 49,
     "metadata": {},
     "output_type": "execute_result"
    }
   ],
   "source": [
    "df"
   ]
  },
  {
   "cell_type": "code",
   "execution_count": null,
   "metadata": {},
   "outputs": [],
   "source": []
  },
  {
   "cell_type": "code",
   "execution_count": null,
   "metadata": {},
   "outputs": [],
   "source": []
  },
  {
   "cell_type": "code",
   "execution_count": 41,
   "metadata": {},
   "outputs": [],
   "source": []
  },
  {
   "cell_type": "code",
   "execution_count": 33,
   "metadata": {},
   "outputs": [
    {
     "name": "stdout",
     "output_type": "stream",
     "text": [
      "          frequency  recency     T  monetary_value  predicted_purchases\n",
      "USER_OID                                                               \n",
      "1000           41.0     80.0  85.0      312.756098             0.443891\n",
      "1001            8.0     85.0  97.0      564.000000             0.083336\n",
      "1003           11.0     81.0  91.0      365.636364             0.118250\n",
      "1004            7.0     54.0  81.0      297.428571             0.084646\n",
      "1006            4.0     11.0  32.0      222.500000             0.105415\n",
      "\n",
      "\n",
      "Customers with atleast 1 repeat purchase\n",
      " 2074\n"
     ]
    }
   ],
   "source": [
    "summary = data[data['frequency']>0]\n",
    "print(summary.head())\n",
    "print()\n",
    "print('\\nCustomers with atleast 1 repeat purchase\\n', len(summary))"
   ]
  },
  {
   "cell_type": "markdown",
   "metadata": {},
   "source": [
    "### The Gamma-Gamma model and the independence assumption\n",
    "\n",
    "\n",
    "Gamma-Gamma model is based on the assumption that the number of transactions does not depend on their monetary value. The frequency and monetary value are not correlated if the output is close to zero. The Gamma-Gamma submodel, in fact, assumes that there is no relationship between the monetary value and the purchase frequency. In practice we need to check whether the Pearson correlation between the two vectors is close to 0 in order to use this model."
   ]
  },
  {
   "cell_type": "code",
   "execution_count": 34,
   "metadata": {},
   "outputs": [
    {
     "data": {
      "text/html": [
       "<div>\n",
       "<style scoped>\n",
       "    .dataframe tbody tr th:only-of-type {\n",
       "        vertical-align: middle;\n",
       "    }\n",
       "\n",
       "    .dataframe tbody tr th {\n",
       "        vertical-align: top;\n",
       "    }\n",
       "\n",
       "    .dataframe thead th {\n",
       "        text-align: right;\n",
       "    }\n",
       "</style>\n",
       "<table border=\"1\" class=\"dataframe\">\n",
       "  <thead>\n",
       "    <tr style=\"text-align: right;\">\n",
       "      <th></th>\n",
       "      <th>monetary_value</th>\n",
       "      <th>frequency</th>\n",
       "    </tr>\n",
       "  </thead>\n",
       "  <tbody>\n",
       "    <tr>\n",
       "      <td>monetary_value</td>\n",
       "      <td>1.000000</td>\n",
       "      <td>-0.043425</td>\n",
       "    </tr>\n",
       "    <tr>\n",
       "      <td>frequency</td>\n",
       "      <td>-0.043425</td>\n",
       "      <td>1.000000</td>\n",
       "    </tr>\n",
       "  </tbody>\n",
       "</table>\n",
       "</div>"
      ],
      "text/plain": [
       "                monetary_value  frequency\n",
       "monetary_value        1.000000  -0.043425\n",
       "frequency            -0.043425   1.000000"
      ]
     },
     "execution_count": 34,
     "metadata": {},
     "output_type": "execute_result"
    }
   ],
   "source": [
    "summary[['monetary_value', 'frequency']].corr()"
   ]
  },
  {
   "cell_type": "code",
   "execution_count": 35,
   "metadata": {},
   "outputs": [
    {
     "name": "stdout",
     "output_type": "stream",
     "text": [
      "<lifetimes.GammaGammaFitter: fitted with 2074 subjects, p: 0.98, q: 3.34, v: 977.01>\n"
     ]
    }
   ],
   "source": [
    "from lifetimes import GammaGammaFitter\n",
    "ggf = GammaGammaFitter(penalizer_coef = 0)\n",
    "ggf.fit(summary['frequency'],\n",
    "        summary['monetary_value'])\n",
    "print(ggf)"
   ]
  },
  {
   "cell_type": "code",
   "execution_count": 36,
   "metadata": {},
   "outputs": [
    {
     "name": "stdout",
     "output_type": "stream",
     "text": [
      "USER_OID\n",
      "1000    318.039349\n",
      "1001    528.252333\n",
      "1003    373.314304\n",
      "1004    325.742336\n",
      "1006    292.136183\n",
      "1007    317.701712\n",
      "1008    261.547178\n",
      "1010    723.817515\n",
      "1011    562.235426\n",
      "1012    315.450645\n",
      "dtype: float64\n"
     ]
    }
   ],
   "source": [
    "print(ggf.conditional_expected_average_profit(\n",
    "        summary['frequency'],\n",
    "        summary['monetary_value']\n",
    "    ).head(10))"
   ]
  },
  {
   "cell_type": "code",
   "execution_count": 37,
   "metadata": {},
   "outputs": [
    {
     "name": "stdout",
     "output_type": "stream",
     "text": [
      "Expected conditional average profit: 401.2952911616557, Average profit: 405.38540079254904\n"
     ]
    }
   ],
   "source": [
    "print(\"Expected conditional average profit: %s, Average profit: %s\" % (\n",
    "    ggf.conditional_expected_average_profit(\n",
    "        summary['frequency'],\n",
    "        summary['monetary_value']\n",
    "    ).mean(),\n",
    "    summary[summary['frequency']>0]['monetary_value'].mean()\n",
    "))"
   ]
  },
  {
   "cell_type": "code",
   "execution_count": 38,
   "metadata": {},
   "outputs": [
    {
     "name": "stdout",
     "output_type": "stream",
     "text": [
      "USER_OID\n",
      "1000    45164.694628\n",
      "1001    15152.350539\n",
      "1003    14836.984932\n",
      "1004     9108.347883\n",
      "1006     9146.391203\n",
      "1007    13583.403577\n",
      "1008    19721.238361\n",
      "1010    36866.450878\n",
      "1011    69411.694470\n",
      "1012     6790.242028\n",
      "Name: clv, dtype: float64\n"
     ]
    }
   ],
   "source": [
    "# refit the BG model to the summary_with_money_value dataset \n",
    "bgf.fit(summary['frequency'], summary['recency'], summary['T'])\n",
    "print(ggf.customer_lifetime_value( \n",
    "    bgf, #the model to use to predict the number of future transactions \n",
    "    summary['frequency'], \n",
    "    summary['recency'], \n",
    "    summary['T'], \n",
    "    summary['monetary_value'], time=12, # months \n",
    "    discount_rate=0.01 # monthly discount rate ~ 12.7% annually \n",
    ").head(10)) "
   ]
  },
  {
   "cell_type": "code",
   "execution_count": null,
   "metadata": {},
   "outputs": [],
   "source": []
  }
 ],
 "metadata": {
  "kernelspec": {
   "display_name": "Python 3",
   "language": "python",
   "name": "python3"
  },
  "language_info": {
   "codemirror_mode": {
    "name": "ipython",
    "version": 3
   },
   "file_extension": ".py",
   "mimetype": "text/x-python",
   "name": "python",
   "nbconvert_exporter": "python",
   "pygments_lexer": "ipython3",
   "version": "3.7.4"
  }
 },
 "nbformat": 4,
 "nbformat_minor": 2
}
